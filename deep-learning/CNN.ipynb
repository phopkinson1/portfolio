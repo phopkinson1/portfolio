{
 "cells": [
  {
   "cell_type": "markdown",
   "id": "8e253517",
   "metadata": {},
   "source": [
    "# Deep Learning for Handwritten Digit Recognition using Convolutional Neural Networks"
   ]
  },
  {
   "cell_type": "markdown",
   "id": "1550ce7a",
   "metadata": {},
   "source": [
    "In this notebook, we will build a Convolutional Neural Network (CNN) using a sequential model. CNNs are commonly used for image recognition and computer vision tasks, making them well-suited for handwritten digit recognition."
   ]
  },
  {
   "cell_type": "markdown",
   "id": "66230a19",
   "metadata": {},
   "source": [
    "## Import of modules and libraries "
   ]
  },
  {
   "cell_type": "code",
   "execution_count": 42,
   "id": "621762b6",
   "metadata": {},
   "outputs": [],
   "source": [
    "import numpy as np\n",
    "from keras.models import Sequential\n",
    "from keras.layers import Conv2D, MaxPooling2D, Flatten, Dense\n",
    "from keras import datasets"
   ]
  },
  {
   "cell_type": "markdown",
   "id": "a2aefdab",
   "metadata": {},
   "source": [
    "## Import of the training data"
   ]
  },
  {
   "cell_type": "code",
   "execution_count": 43,
   "id": "271aeab0",
   "metadata": {},
   "outputs": [],
   "source": [
    "(x_train, y_train), (x_test, y_test) = datasets.mnist.load_data()"
   ]
  },
  {
   "cell_type": "code",
   "execution_count": 44,
   "id": "12bcd17f",
   "metadata": {},
   "outputs": [
    {
     "name": "stdout",
     "output_type": "stream",
     "text": [
      "(60000, 28, 28)\n"
     ]
    }
   ],
   "source": [
    "print(x_train.shape)"
   ]
  },
  {
   "cell_type": "markdown",
   "id": "d5fcee81",
   "metadata": {},
   "source": [
    "## Model building"
   ]
  },
  {
   "cell_type": "markdown",
   "id": "deb65d41",
   "metadata": {},
   "source": [
    "### Layers in our CNN:\n",
    "\n",
    "1. Conv2D:\n",
    "   - This layer takes an input image and creates a filter (convolutional kernel).\n",
    "   - The filter slides across the image, taking a 3x3 matrix of pixels.\n",
    "   - It multiplies the filter's values by the corresponding pixel values and generates the dot product.\n",
    "   - The dot product is saved in our feature map, which is passed to the next hidden layer.\n",
    "   - This filter helps the network recognize specific patterns and features in the images.\n",
    "\n",
    "2. MaxPooling2D:\n",
    "   - This layer downsamples the data while retaining the most important information.\n",
    "   - It slides a small matrix (usually a 2x2 matrix) across the feature map.\n",
    "   - At each position, it takes the maximum value within that window.\n",
    "   - The maximum value is then kept, and the rest of the values are discarded.\n",
    "   - This process generates a new downsampled feature map with reduced dimensions.\n",
    "\n",
    "3. Flatten:\n",
    "   - The flatten layer is used to reduce the dimensions from a 2D feature map to a 1D vector.\n",
    "   - This allows the two-dimensional data to be converted into other formats and passed through other hidden layers.\n",
    "   - It takes the input of the 2-dimensional feature map and rearranges the data by stacking the values on 1 dimension.\n",
    "   - The output is a 1-dimensional vector.\n",
    "\n",
    "4. Dense:\n",
    "   - This layer is used to understand the complex patterns in the data.\n",
    "   - It does this through the weights and biases stored by the neurons.\n",
    "   - The weighted sums pass through an activation function, determining whether the output is passed to the next layer.\n",
    "\n",
    "### Activation Function:\n",
    "\n",
    "The final layer of our CNN uses the `softmax` function instead of the `relu` function. The `softmax` function transforms the data into a matrix representing the probabilities that the neural network has calculated for the different outcomes."
   ]
  },
  {
   "cell_type": "code",
   "execution_count": 45,
   "id": "3a7ebc2b",
   "metadata": {},
   "outputs": [],
   "source": [
    "# Create an instance of the sequential model\n",
    "model = Sequential()\n",
    "\n",
    "# Add layers\n",
    "model.add(Conv2D(32, (3, 3), activation='relu', input_shape=(28, 28, 1)))\n",
    "model.add(MaxPooling2D((2, 2)))\n",
    "model.add(Conv2D(64, (3, 3), activation='relu'))\n",
    "model.add(MaxPooling2D((2, 2)))\n",
    "model.add(Conv2D(128, (3, 3), activation='relu'))\n",
    "model.add(Flatten())\n",
    "model.add(Dense(128, activation='relu'))\n",
    "model.add(Dense(10, activation='softmax'))"
   ]
  },
  {
   "cell_type": "markdown",
   "id": "087e932f",
   "metadata": {},
   "source": [
    "## Model compilation"
   ]
  },
  {
   "cell_type": "code",
   "execution_count": 46,
   "id": "38797d61",
   "metadata": {},
   "outputs": [],
   "source": [
    "# Compile the model\n",
    "model.compile(optimizer='adam', loss='sparse_categorical_crossentropy', metrics=['accuracy'])"
   ]
  },
  {
   "cell_type": "markdown",
   "id": "8ff64f86",
   "metadata": {},
   "source": [
    "When compiling this model, we have to specify our optimizer, loss function and the metrics for the evaluation of the performance.\n",
    "\n",
    "### Optimizer - Adam:\n",
    "\n",
    "Adam is an extended version of stochastic gradient descent that can be used to update the weights in neural networks. It has two main differences when compared to traditional algorithms:\n",
    "   - It maintains a per-parameter learning rate that improves performance on problems with sparse gradients.\n",
    "   - It also changes the learning rate based on the average of the recent changes in magnitude of the gradients for the weights.\n",
    "\n",
    "### Loss function - Sparse Categorical Cross entropy\n",
    "\n",
    "Sparse categorical cross entropy is a type of loss function that is used in multiclass classification problems. It calculates the difference between the predicted probability distribution and actual distribution of labels."
   ]
  },
  {
   "cell_type": "markdown",
   "id": "b511a536",
   "metadata": {},
   "source": [
    "## Model fit and evaluation"
   ]
  },
  {
   "cell_type": "markdown",
   "id": "e36f0c0c",
   "metadata": {},
   "source": [
    "When fitting the model, we have to specify a number of parameters beyond the training  and validation datasets. These parameters are:\n",
    "1. `epochs` \n",
    "   - represents the amount of times the data will be trained with all the data from the training set.\n",
    "   - choosing the right number of epochs is important, too many will lead to a model that is overfit to the data, whilst too few      epochs will lead to the model underfitting the data.\n",
    "   \n",
    "2. `batch size`\n",
    "   - the number of datapoints that are tested each time before the model is updated.\n",
    "   - the size of the batch size can influence the training time, the bigger the batch size and the smaller the training time.\n",
    "   - smaller batch sizes can lead to more noise in the data, which can help the model to generalize to unseen data."
   ]
  },
  {
   "cell_type": "code",
   "execution_count": 50,
   "id": "044df941",
   "metadata": {},
   "outputs": [
    {
     "name": "stdout",
     "output_type": "stream",
     "text": [
      "Epoch 1/3\n",
      "1875/1875 [==============================] - 40s 21ms/step - loss: 0.0157 - accuracy: 0.9963 - val_loss: 0.0750 - val_accuracy: 0.9883\n",
      "Epoch 2/3\n",
      "1875/1875 [==============================] - 39s 21ms/step - loss: 0.0246 - accuracy: 0.9946 - val_loss: 0.0804 - val_accuracy: 0.9883\n",
      "Epoch 3/3\n",
      "1875/1875 [==============================] - 41s 22ms/step - loss: 0.0154 - accuracy: 0.9964 - val_loss: 0.0804 - val_accuracy: 0.9859\n"
     ]
    }
   ],
   "source": [
    "# Train the model\n",
    "history = model.fit(x_train, y_train, epochs=3, batch_size=32, validation_data=(x_test, y_test))"
   ]
  }
 ],
 "metadata": {
  "kernelspec": {
   "display_name": "Python 3 (ipykernel)",
   "language": "python",
   "name": "python3"
  },
  "language_info": {
   "codemirror_mode": {
    "name": "ipython",
    "version": 3
   },
   "file_extension": ".py",
   "mimetype": "text/x-python",
   "name": "python",
   "nbconvert_exporter": "python",
   "pygments_lexer": "ipython3",
   "version": "3.10.9"
  }
 },
 "nbformat": 4,
 "nbformat_minor": 5
}
