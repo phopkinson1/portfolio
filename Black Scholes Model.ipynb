{
 "cells": [
  {
   "cell_type": "markdown",
   "id": "906a1c04",
   "metadata": {},
   "source": [
    "# Black-Scholes model for option pricing"
   ]
  },
  {
   "cell_type": "markdown",
   "id": "8779d921",
   "metadata": {},
   "source": [
    "The Black-Scholes model is a mathematical model for option pricing used to calculate the theoretical price of European options, which give the owner the option to buy or sell an asset at a fixed price on a specific date in the future. The model assumes the options follow a lognormal distribution and are traded in a frictionless market where there are no transaction costs, no taxes and no restrictions on short selling.\n",
    "\n",
    "The Black-Scholes model takes into account five different factors that affect the price an option:\n",
    "\n",
    "* Strike price\n",
    "* Current price of the underlying asset\n",
    "* Time remaining until expiration of the asset\n",
    "* Risk-free rate \n",
    "* Volatility of the underlying asset\n"
   ]
  },
  {
   "cell_type": "markdown",
   "id": "e48cd292",
   "metadata": {},
   "source": [
    "### Model equations"
   ]
  },
  {
   "cell_type": "markdown",
   "id": "283fb1d8",
   "metadata": {},
   "source": [
    "Call option price:\n",
    "\n",
    "$$C = S_t N(d_1) - Ke^{-r(T-t)}N(d_2)$$\n",
    "Put option price:\n",
    "\n",
    "$$P = Ke^{-r(T-t)}N(-d_2) - S_t N(-d_1)$$\n",
    "\n",
    "Where:\n",
    "\n",
    "$$d_1 = \\frac{ln(\\frac{S_t}{K}) + (r+\\frac{\\sigma^2}{2})(T-t)}{\\sigma \\sqrt{T-t}}$$\n",
    "\n",
    "$$d_2 = d_1 - \\sigma \\sqrt{T-t}$$"
   ]
  },
  {
   "cell_type": "markdown",
   "id": "cf4eba63",
   "metadata": {},
   "source": [
    "## Import of the necessary libraries and modules"
   ]
  },
  {
   "cell_type": "code",
   "execution_count": 4,
   "id": "3c11c201",
   "metadata": {},
   "outputs": [],
   "source": [
    "import numpy as np\n",
    "from scipy.stats import norm"
   ]
  },
  {
   "cell_type": "markdown",
   "id": "41745c23",
   "metadata": {},
   "source": [
    "## Defining a function to calculate prices using the model"
   ]
  },
  {
   "cell_type": "code",
   "execution_count": 5,
   "id": "71601a28",
   "metadata": {},
   "outputs": [],
   "source": [
    "#Define parameters\n",
    "S = 'Strike Price'\n",
    "C = 'Current Price'\n",
    "t = 'Time period to expiration'\n",
    "r = 'Risk-free rate'\n",
    "sigma = 'Volatility'\n",
    "\n",
    "# Black scholes model price function\n",
    "def option_price(S, C, t, r, sigma, option_type):\n",
    "    d1 = (np.log(C/S) + (r + sigma**2/2)*t) / (sigma * np.sqrt(t)) # Expected return adjusted for the risk\n",
    "    d2 = d1 - (sigma * np.sqrt(t)) # Takes into account the standard deviation of the returns\n",
    "    \n",
    "    print('d1: ', d1)\n",
    "    print('d2: ', d2)\n",
    "    if option_type == \"Put\":\n",
    "        price = (S * np.exp(-r*t) * norm.cdf(-d2)) - (C * norm.cdf(-d1))\n",
    "        print('Put option price: ', price)\n",
    "    elif option_type == \"Call\":\n",
    "        price = (C * norm.cdf(d1)) - (S * np.exp(-r*t) * norm.cdf(d2))\n",
    "        print('Call option price: ', price)\n",
    "    else:\n",
    "        print('Invalid option type')"
   ]
  },
  {
   "cell_type": "markdown",
   "id": "b6a7283e",
   "metadata": {},
   "source": [
    "## Calling the function for different option pricing methods"
   ]
  },
  {
   "cell_type": "code",
   "execution_count": 6,
   "id": "29c51806",
   "metadata": {},
   "outputs": [
    {
     "name": "stdout",
     "output_type": "stream",
     "text": [
      "d1:  -2.0517051739834145\n",
      "d2:  -2.193126530220724\n",
      "Call option price:  0.1096559283068772\n"
     ]
    }
   ],
   "source": [
    "#Run function\n",
    "option_price(150, 110, 0.5, 0.02, 0.2, \"Call\")"
   ]
  },
  {
   "cell_type": "code",
   "execution_count": 7,
   "id": "08c99c09",
   "metadata": {},
   "outputs": [
    {
     "name": "stdout",
     "output_type": "stream",
     "text": [
      "d1:  -2.0517051739834145\n",
      "d2:  -2.193126530220724\n",
      "Put option price:  38.6171309906821\n"
     ]
    }
   ],
   "source": [
    "#Run function\n",
    "option_price(150, 110, 0.5, 0.02, 0.2, \"Put\")"
   ]
  },
  {
   "cell_type": "markdown",
   "id": "cb736d5e",
   "metadata": {},
   "source": [
    "## Limitations of the model"
   ]
  },
  {
   "cell_type": "markdown",
   "id": "06c3d232",
   "metadata": {},
   "source": [
    "Whilst in theory the model seems to work efficiently, there are many assumptions that don't hold in practice:\n",
    "\n",
    "1. The model assumes that the asset follows a lognormal distribution, which means that stock prices are continuous and follow a normal distribution. This assumption does not hold true in reality and many assets are subject to sudden changes and do not necessarily follow a normal distribution.\n",
    "2. The model assumes that the option can be exercised at any time up to the expiration date, which is known as a European-style option. In reality, there are other types of options, such as American-style options, which can be exercised at any time up to the expiration date.\n",
    "3. The model assumes that the risk free rate is constant over the lifetime of the option, when in reality there can be changes over time.\n",
    "4. The model assumes no transaction costs or frictions, when in reality there can be fees or commissions involved. "
   ]
  },
  {
   "cell_type": "markdown",
   "id": "c5de25bd",
   "metadata": {},
   "source": [
    "## Implied volatility"
   ]
  },
  {
   "cell_type": "markdown",
   "id": "f1266150",
   "metadata": {},
   "source": [
    "Implied volatility refers to a metric that captures the market’s view of the likelihood of changes given a security’s price. Investors can use implied volatility to predict future moves and supply and demand, and employ it to price options contracts. \n",
    "Implied volatility is the market’s forecast of a likely movement in a security’s price. It is a metric used by investors to estimate future fluctuations (volatility) of a security’s price based based on certain predictive factors. \n",
    "\n",
    "When applied to the stock market, implied volatility generally increases in bearish markets, where investors believe markets will decline over time and vice versa when the market is bullish. Implied volatility doesn’t predict the direction in which the price change will proceed, but it implies the size of the price swing. "
   ]
  },
  {
   "cell_type": "markdown",
   "id": "737d6b98",
   "metadata": {},
   "source": [
    "### Factors affecting implied volatility"
   ]
  },
  {
   "cell_type": "markdown",
   "id": "308b5011",
   "metadata": {},
   "source": [
    "Supply and demand are major factors for implied volatility, when an asset is in high demand, the price tends to rise and so does the implied volatility, which leads to a higher option price due to the risky nature of the option. The opposite is also true.\n",
    "Another premium influencing factor is the time value of the option, or the amount of time to expiration. A short dated option often results is low implied volatility, whereas a long dated option tends to result in high implied volatility.  "
   ]
  },
  {
   "cell_type": "markdown",
   "id": "80968b29",
   "metadata": {},
   "source": [
    "### Define the parameters and functions"
   ]
  },
  {
   "cell_type": "code",
   "execution_count": 18,
   "id": "41f85e74",
   "metadata": {},
   "outputs": [],
   "source": [
    "# Define Parameters\n",
    "S = 115\n",
    "C = 110\n",
    "t = 1\n",
    "r = 0.01"
   ]
  },
  {
   "cell_type": "code",
   "execution_count": 19,
   "id": "df6f2313",
   "metadata": {},
   "outputs": [],
   "source": [
    "def d(S, C, t, r, sigma):\n",
    "    d1 = (np.log(C/S) + (r + sigma**2/2)*t) / (sigma * np.sqrt(t)) # Expected return adjusted for the risk\n",
    "    d2 = d1 - (sigma * np.sqrt(t)) # Takes into account the standard deviation of the returns\n",
    "    return d1, d2\n",
    "\n",
    "def call_price(d1, d2, S, C, t, r, sigma):\n",
    "    call_price = (C * norm.cdf(d1)) - (S * np.exp(-r*t) * norm.cdf(d2))\n",
    "    return call_price"
   ]
  },
  {
   "cell_type": "markdown",
   "id": "74759e4a",
   "metadata": {},
   "source": [
    "### Newton-Raphson method for finding implied volatility"
   ]
  },
  {
   "cell_type": "markdown",
   "id": "ba9f0c97",
   "metadata": {},
   "source": [
    "The Newton-Raphson method works as follows:\n",
    "1. We start by defining some variables in our model; tol, epsilon, count, max_iter and sigma. The tolerance for the implied volatility is the maximum amount the implied volatility is allowed to be off by. Epsilon is the measure of the difference between the new and old values, which is calculated in the following line of code `epsilon = abs((sigma - orig_vol)/sigma)`. `count` and `max_iter` are variables which allow us to keep track how many times the loop has executed, `max_iter` is important as it acts as a breaking point as to which the code will stop running. Finally, `sigma` represents our starting value for our volatility.\n",
    "2. The model now starts the while loop.\n",
    "3. The code runs the `d()` function once in every loop, calculating and returning the `d1` and `d2` variables.\n",
    "4. The code then runs the `call_price` function, which runs the Black-Scholes equations returning the `price` for the call option.\n",
    "5. Computes `vega` which is the derivative of the price with respect to the change in volatility.\n",
    "6. Updates the value of `sigma`.\n",
    "7. Computes the new value of `epsilon`, which is the difference between the `orig_sigma` and `sigma`.\n",
    "8. When either the epsilon value is smaller than the tolerance, or the maximum number of iterations the code stops running. If the epsilon value is smaller than the tolerance, the volatility and number of iterations is printed. Otherwise the breaking count is printed."
   ]
  },
  {
   "cell_type": "code",
   "execution_count": 20,
   "id": "0f00a7cc",
   "metadata": {},
   "outputs": [
    {
     "name": "stdout",
     "output_type": "stream",
     "text": [
      "Volatility:  0.001089194827175944\n",
      "Number of iterations:  505 iterations\n"
     ]
    }
   ],
   "source": [
    "# Define tolerance, epsilon, count and max iterations\n",
    "tol = 1e-3\n",
    "epsilon = 1\n",
    "\n",
    "count = 0\n",
    "max_iter = 1000\n",
    "\n",
    "sigma = 0.5\n",
    "\n",
    "while epsilon > tol:\n",
    "    count += 1\n",
    "    if count >= max_iter:\n",
    "        print('Breaking count:  ', count)\n",
    "        break;\n",
    "    \n",
    "    orig_sigma = sigma\n",
    "    \n",
    "    d1, d2 = d(S, C, t, r, sigma) # Calculates d1 and d2\n",
    "    price = call_price(d1, d2, S, C, t, r, sigma) # Calculates call price\n",
    "    \n",
    "    vega = C * norm.pdf(d1) * np.sqrt(t) # Derivative of price with respect to volatility\n",
    "    sigma = -price / vega + sigma # Updates the value of sigma\n",
    "    \n",
    "    epsilon = abs((sigma - orig_sigma)/sigma) # Calculates differenec between orig_sigma and sigma\n",
    "\n",
    "print('Volatility: ', sigma)\n",
    "print('Number of iterations: ', count, 'iterations')"
   ]
  },
  {
   "cell_type": "markdown",
   "id": "0ccb0db8",
   "metadata": {},
   "source": [
    "### Advantages and disadvantages of using implied volatility"
   ]
  },
  {
   "cell_type": "markdown",
   "id": "77f62a26",
   "metadata": {},
   "source": [
    "Implied volatility measure has several advantages and disadvantages.\n",
    "\n",
    "Advantages:\n",
    "* Provides a metric that can be used to quantify the market expectations surrounding an asset.\n",
    "* Can be used with a wide range of different option pricing models.\n",
    "* Provides a way to compare volatility expectations in options with different strike prices and times to expiration.\n",
    "\n",
    "Disadvantages:\n",
    "* Can be heavily influenced by supply and demand factors in the markets.\n",
    "* Assumes that markets can price option efficiently and accurately, in reality that is sometimes not the case.\n",
    "* Implied volatility may not a good indicator of future volatility if the asset's historical volatility is not a good predictor of future volatility."
   ]
  }
 ],
 "metadata": {
  "kernelspec": {
   "display_name": "Python 3 (ipykernel)",
   "language": "python",
   "name": "python3"
  },
  "language_info": {
   "codemirror_mode": {
    "name": "ipython",
    "version": 3
   },
   "file_extension": ".py",
   "mimetype": "text/x-python",
   "name": "python",
   "nbconvert_exporter": "python",
   "pygments_lexer": "ipython3",
   "version": "3.9.13"
  }
 },
 "nbformat": 4,
 "nbformat_minor": 5
}
