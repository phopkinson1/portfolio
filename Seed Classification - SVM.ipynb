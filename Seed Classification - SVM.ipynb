{
 "cells": [
  {
   "cell_type": "markdown",
   "id": "dbc68296",
   "metadata": {},
   "source": [
    "# Seed classification using Support Vector Machine"
   ]
  },
  {
   "cell_type": "markdown",
   "id": "5f7cbb06",
   "metadata": {},
   "source": [
    "## Importing the necessary libraries and modules"
   ]
  },
  {
   "cell_type": "code",
   "execution_count": 2,
   "id": "f3bd11a6",
   "metadata": {},
   "outputs": [],
   "source": [
    "import pandas as pd\n",
    "import numpy as np\n",
    "from sklearn import svm\n",
    "from sklearn.model_selection import train_test_split\n",
    "from sklearn.metrics import accuracy_score\n",
    "from sklearn.metrics import f1_score"
   ]
  },
  {
   "cell_type": "markdown",
   "id": "7b7a720e",
   "metadata": {},
   "source": [
    "## Import of data and data inspection"
   ]
  },
  {
   "cell_type": "code",
   "execution_count": 4,
   "id": "eb234ec6",
   "metadata": {},
   "outputs": [
    {
     "data": {
      "text/html": [
       "<div>\n",
       "<style scoped>\n",
       "    .dataframe tbody tr th:only-of-type {\n",
       "        vertical-align: middle;\n",
       "    }\n",
       "\n",
       "    .dataframe tbody tr th {\n",
       "        vertical-align: top;\n",
       "    }\n",
       "\n",
       "    .dataframe thead th {\n",
       "        text-align: right;\n",
       "    }\n",
       "</style>\n",
       "<table border=\"1\" class=\"dataframe\">\n",
       "  <thead>\n",
       "    <tr style=\"text-align: right;\">\n",
       "      <th></th>\n",
       "      <th>ID</th>\n",
       "      <th>area</th>\n",
       "      <th>perimeter</th>\n",
       "      <th>compactness</th>\n",
       "      <th>lengthOfKernel</th>\n",
       "      <th>widthOfKernel</th>\n",
       "      <th>asymmetryCoefficient</th>\n",
       "      <th>lengthOfKernelGroove</th>\n",
       "      <th>seedType</th>\n",
       "    </tr>\n",
       "  </thead>\n",
       "  <tbody>\n",
       "    <tr>\n",
       "      <th>0</th>\n",
       "      <td>1</td>\n",
       "      <td>15.26</td>\n",
       "      <td>14.84</td>\n",
       "      <td>0.8710</td>\n",
       "      <td>5.763</td>\n",
       "      <td>3.312</td>\n",
       "      <td>2.221</td>\n",
       "      <td>5.220</td>\n",
       "      <td>1</td>\n",
       "    </tr>\n",
       "    <tr>\n",
       "      <th>1</th>\n",
       "      <td>2</td>\n",
       "      <td>14.88</td>\n",
       "      <td>14.57</td>\n",
       "      <td>0.8811</td>\n",
       "      <td>5.554</td>\n",
       "      <td>3.333</td>\n",
       "      <td>1.018</td>\n",
       "      <td>4.956</td>\n",
       "      <td>1</td>\n",
       "    </tr>\n",
       "    <tr>\n",
       "      <th>2</th>\n",
       "      <td>3</td>\n",
       "      <td>14.29</td>\n",
       "      <td>14.09</td>\n",
       "      <td>0.9050</td>\n",
       "      <td>5.291</td>\n",
       "      <td>3.337</td>\n",
       "      <td>2.699</td>\n",
       "      <td>4.825</td>\n",
       "      <td>1</td>\n",
       "    </tr>\n",
       "    <tr>\n",
       "      <th>3</th>\n",
       "      <td>4</td>\n",
       "      <td>13.84</td>\n",
       "      <td>13.94</td>\n",
       "      <td>0.8955</td>\n",
       "      <td>5.324</td>\n",
       "      <td>3.379</td>\n",
       "      <td>2.259</td>\n",
       "      <td>4.805</td>\n",
       "      <td>1</td>\n",
       "    </tr>\n",
       "    <tr>\n",
       "      <th>4</th>\n",
       "      <td>5</td>\n",
       "      <td>16.14</td>\n",
       "      <td>14.99</td>\n",
       "      <td>0.9034</td>\n",
       "      <td>5.658</td>\n",
       "      <td>3.562</td>\n",
       "      <td>1.355</td>\n",
       "      <td>5.175</td>\n",
       "      <td>1</td>\n",
       "    </tr>\n",
       "  </tbody>\n",
       "</table>\n",
       "</div>"
      ],
      "text/plain": [
       "   ID   area  perimeter  compactness  lengthOfKernel  widthOfKernel  \\\n",
       "0   1  15.26      14.84       0.8710           5.763          3.312   \n",
       "1   2  14.88      14.57       0.8811           5.554          3.333   \n",
       "2   3  14.29      14.09       0.9050           5.291          3.337   \n",
       "3   4  13.84      13.94       0.8955           5.324          3.379   \n",
       "4   5  16.14      14.99       0.9034           5.658          3.562   \n",
       "\n",
       "   asymmetryCoefficient  lengthOfKernelGroove  seedType  \n",
       "0                 2.221                 5.220         1  \n",
       "1                 1.018                 4.956         1  \n",
       "2                 2.699                 4.825         1  \n",
       "3                 2.259                 4.805         1  \n",
       "4                 1.355                 5.175         1  "
      ]
     },
     "execution_count": 4,
     "metadata": {},
     "output_type": "execute_result"
    }
   ],
   "source": [
    "sd = pd.read_csv(r\"C:\\Users\\pjhop\\OneDrive\\Documents\\Programming & Coding\\Python\\Projects\\Datasets\\seeds_dataset.csv\")\n",
    "sd.head()"
   ]
  },
  {
   "cell_type": "code",
   "execution_count": 5,
   "id": "3df4e5e1",
   "metadata": {},
   "outputs": [
    {
     "data": {
      "text/plain": [
       "ID                      0\n",
       "area                    0\n",
       "perimeter               0\n",
       "compactness             0\n",
       "lengthOfKernel          0\n",
       "widthOfKernel           0\n",
       "asymmetryCoefficient    0\n",
       "lengthOfKernelGroove    0\n",
       "seedType                0\n",
       "dtype: int64"
      ]
     },
     "execution_count": 5,
     "metadata": {},
     "output_type": "execute_result"
    }
   ],
   "source": [
    "sd.isnull().sum()"
   ]
  },
  {
   "cell_type": "markdown",
   "id": "44c4d3f5",
   "metadata": {},
   "source": [
    "As we can see from our data, we have no missing values. "
   ]
  },
  {
   "cell_type": "code",
   "execution_count": 6,
   "id": "a696d192",
   "metadata": {},
   "outputs": [],
   "source": [
    "sd = sd.drop(['ID'], axis=1)"
   ]
  },
  {
   "cell_type": "code",
   "execution_count": 7,
   "id": "e53e5d53",
   "metadata": {},
   "outputs": [
    {
     "data": {
      "text/plain": [
       "array([1, 2, 3], dtype=int64)"
      ]
     },
     "execution_count": 7,
     "metadata": {},
     "output_type": "execute_result"
    }
   ],
   "source": [
    "sd.seedType.unique()"
   ]
  },
  {
   "cell_type": "markdown",
   "id": "260910bb",
   "metadata": {},
   "source": [
    "## Splitting of the data into training and test sets"
   ]
  },
  {
   "cell_type": "code",
   "execution_count": 8,
   "id": "d4e698a5",
   "metadata": {
    "scrolled": true
   },
   "outputs": [],
   "source": [
    "y = sd.seedType.ravel()\n",
    "x = sd[['area', 'perimeter', 'compactness', 'lengthOfKernel', 'widthOfKernel', 'asymmetryCoefficient', 'lengthOfKernelGroove']]\n",
    "x_train, x_test, y_train, y_test = train_test_split(x, y, test_size=0.25, random_state = 101)"
   ]
  },
  {
   "cell_type": "markdown",
   "id": "c1a098bb",
   "metadata": {},
   "source": [
    "## Model fit, predictions and metrics"
   ]
  },
  {
   "cell_type": "markdown",
   "id": "27aacb1d",
   "metadata": {},
   "source": [
    "Support Vector Machines (SVMs) are a supervised learning algorithm which is used for classification. SVMs work by finding a hyperplane that maximises the separation between the classes in the feature space. The hyperplane is chosen such that the margin, or distance between the hyperplane and the closest data points of each class is maximized. SVMs can also handle non-linearly separable data by mapping the data to a higher-dimensional space using a kernel function. In summary, SVMs are powerful and versatile classifiers that can handle complex datasets, and their performance is often competitive with other state-of-the-art classification algorithms.\n",
    "\n",
    "Below we will use three different kernel functions:\n",
    "\n",
    "* **Linear kernel** - Linear kernels are often used when the dataset is linearly separable or when the number of features is very large, making it computationally expensive to use a more complex kernel such as the polynomial or radial basis function. They are also useful when the relationship between the input features and the output class is expected to be linear. \n",
    "* **Polynomial kernel** - The polynomial kernel can map the data into a higher-dimensional feature space, allowing for non-linear classification in the original feature space. The polynomial kernel is often used when the relationship between the input features and the output class is expected to be non-linear.\n",
    "* **Radial basis function kernel** - The RBF kernel is often used when the relationship between the input features and the output class is highly non-linear and complex. However, choosing an appropriate value for the gamma parameter can be challenging, and finding the optimal hyperparameters may require extensive experimentation."
   ]
  },
  {
   "cell_type": "code",
   "execution_count": 9,
   "id": "3b705300",
   "metadata": {},
   "outputs": [],
   "source": [
    "l_model = svm.SVC(kernel='linear', C=1).fit(x_train, y_train)\n",
    "l_pred = l_model.predict(x_test)"
   ]
  },
  {
   "cell_type": "code",
   "execution_count": 10,
   "id": "6b6e8731",
   "metadata": {},
   "outputs": [
    {
     "name": "stdout",
     "output_type": "stream",
     "text": [
      "Accuracy (Linear Kernel):  94.33962264150944 %\n",
      "F1 (Linear Kernel):  94.33962264150944 %\n"
     ]
    }
   ],
   "source": [
    "l_accuracy = accuracy_score(y_test, l_pred)\n",
    "l_f1 = f1_score(y_test, l_pred, average='weighted')\n",
    "print('Accuracy (Linear Kernel): ', (l_accuracy*100), '%')\n",
    "print('F1 (Linear Kernel): ', (l_accuracy*100), '%')"
   ]
  },
  {
   "cell_type": "code",
   "execution_count": 11,
   "id": "5c867a2a",
   "metadata": {},
   "outputs": [],
   "source": [
    "poly_model = svm.SVC(kernel='poly', C=1).fit(x_train, y_train)"
   ]
  },
  {
   "cell_type": "code",
   "execution_count": 12,
   "id": "805df66a",
   "metadata": {},
   "outputs": [
    {
     "name": "stdout",
     "output_type": "stream",
     "text": [
      "Accuracy (Polynomial Kernel):  92.45283018867924 %\n",
      "F1 (Polynomial Kernel):  92.45283018867924 %\n"
     ]
    }
   ],
   "source": [
    "poly_pred = poly_model.predict(x_test)\n",
    "poly_accuracy = accuracy_score(y_test, poly_pred)\n",
    "poly_f1 = f1_score(y_test, poly_pred, average='weighted')\n",
    "print('Accuracy (Polynomial Kernel): ', (poly_accuracy*100), '%')\n",
    "print('F1 (Polynomial Kernel): ', (poly_accuracy*100), '%')"
   ]
  },
  {
   "cell_type": "code",
   "execution_count": 13,
   "id": "3ded8a7d",
   "metadata": {},
   "outputs": [
    {
     "name": "stdout",
     "output_type": "stream",
     "text": [
      "Accuracy (RBF Kernel):  92.45283018867924 %\n",
      "F1 (RBF Kernel):  92.45283018867924 %\n"
     ]
    }
   ],
   "source": [
    "rbf_model = svm.SVC(kernel='rbf', C=1).fit(x_train, y_train)\n",
    "rbf_pred = rbf_model.predict(x_test)\n",
    "rbf_accuracy = accuracy_score(y_test, rbf_pred)\n",
    "poly_f1 = f1_score(y_test, rbf_pred, average='weighted')\n",
    "print('Accuracy (RBF Kernel): ', (rbf_accuracy*100), '%')\n",
    "print('F1 (RBF Kernel): ', (rbf_accuracy*100), '%')"
   ]
  }
 ],
 "metadata": {
  "kernelspec": {
   "display_name": "Python 3 (ipykernel)",
   "language": "python",
   "name": "python3"
  },
  "language_info": {
   "codemirror_mode": {
    "name": "ipython",
    "version": 3
   },
   "file_extension": ".py",
   "mimetype": "text/x-python",
   "name": "python",
   "nbconvert_exporter": "python",
   "pygments_lexer": "ipython3",
   "version": "3.9.13"
  }
 },
 "nbformat": 4,
 "nbformat_minor": 5
}
