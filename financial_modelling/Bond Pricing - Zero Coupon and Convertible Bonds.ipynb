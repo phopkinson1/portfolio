{
 "cells": [
  {
   "cell_type": "markdown",
   "id": "07df324c",
   "metadata": {},
   "source": [
    "# Bond pricing models - zero-coupon, convertible bonds"
   ]
  },
  {
   "cell_type": "markdown",
   "id": "d0ba28fa",
   "metadata": {},
   "source": [
    "## Import required libraries"
   ]
  },
  {
   "cell_type": "code",
   "execution_count": 93,
   "id": "6eb2a191",
   "metadata": {},
   "outputs": [],
   "source": [
    "import numpy as np\n",
    "from scipy.stats import norm"
   ]
  },
  {
   "cell_type": "markdown",
   "id": "f51c0f69",
   "metadata": {},
   "source": [
    "## Zero-coupon bonds"
   ]
  },
  {
   "cell_type": "markdown",
   "id": "50360ce9",
   "metadata": {},
   "source": [
    "We start with the simplest bond type, the zero-coupon bond, where there are no interest payments made, with the only cash flow occuring at the maturity of the bond when the bond-holder receives the face-value of the bond. \n",
    "\n",
    "Zero-coupon bond price formula:\n",
    "\n",
    "$$P = \\frac{FV}{(1 + r)^N}$$\n",
    "\n",
    "Zero-coupon duration formula:\n",
    "\n",
    "$$Duration = \\frac{N}{1 + r}$$\n",
    "\n",
    "Zero-coupon yield to maturity formula:\n",
    "\n",
    "$$YTM = (\\frac{FV}{P})*(\\frac{1}{N}) - 1$$\n",
    "\n",
    "Where:\n",
    "* FV is the face value of the bond\n",
    "* P is the price of the bond\n",
    "* N is the maturity of the bond in years\n",
    "* r is the yield to maturity in the decimal format"
   ]
  },
  {
   "cell_type": "code",
   "execution_count": 102,
   "id": "4db656e4",
   "metadata": {},
   "outputs": [],
   "source": [
    "def zc_price(yield_to_maturity, maturity, face_value):\n",
    "    price = face_value / (1 + yield_to_maturity)**maturity\n",
    "    return price"
   ]
  },
  {
   "cell_type": "code",
   "execution_count": 103,
   "id": "171c955c",
   "metadata": {},
   "outputs": [],
   "source": [
    "def zc_duration(yield_to_maturity, maturity):\n",
    "    bond_duration = maturity / (1 + yield_to_maturity)\n",
    "    return bond_duration"
   ]
  },
  {
   "cell_type": "code",
   "execution_count": 110,
   "id": "bf39be0e",
   "metadata": {},
   "outputs": [],
   "source": [
    "def zc_yield_to_maturity(bond_price, maturity, face_value):\n",
    "    yield_to_maturity = (face_value / bond_price)*(1 / maturity) - 1\n",
    "    return yield_to_maturity"
   ]
  },
  {
   "cell_type": "code",
   "execution_count": 111,
   "id": "63862dd3",
   "metadata": {},
   "outputs": [],
   "source": [
    "class ZeroCouponBond:\n",
    "    def __init__(self, face_value, maturity, yield_to_maturity=None, market_price=None):\n",
    "        self.face_value = face_value\n",
    "        self.yield_to_maturity = yield_to_maturity\n",
    "        self.maturity = maturity \n",
    "        self.market_price = market_price\n",
    "        \n",
    "    def price(self):\n",
    "        if self.face_value is not None and self.yield_to_maturity is not None and self.maturity is not None:\n",
    "            return zc_price(self.yield_to_maturity, self.maturity, self.face_value)\n",
    "        else:\n",
    "            print('Missing input(s) to calculate the zero coupon price.')\n",
    "            return None\n",
    "    \n",
    "    def duration(self):\n",
    "        if self.yield_to_maturity is not None and self.maturity is not None:\n",
    "            return zc_duration(self.yield_to_maturity, self.maturity)\n",
    "        else:\n",
    "            print('Missing input(s) to calculate the zero coupon duration.')\n",
    "            return None\n",
    "        \n",
    "    def ytm(self):\n",
    "        if self.face_value is not None and self.price is not None and self.maturity is not None:\n",
    "            return zc_yield_to_maturity(self.bond_price, self.maturity, self.face_value)\n",
    "        else:\n",
    "            print('Missing input(s) to calculate the zero coupon yield to maturity.')  \n",
    "            return None"
   ]
  },
  {
   "cell_type": "code",
   "execution_count": 118,
   "id": "71b83a8c",
   "metadata": {},
   "outputs": [],
   "source": [
    "zc = ZeroCouponBond(1000, 10, 0.06, 600)"
   ]
  },
  {
   "cell_type": "code",
   "execution_count": 121,
   "id": "80277fbc",
   "metadata": {},
   "outputs": [
    {
     "name": "stdout",
     "output_type": "stream",
     "text": [
      "558.3947769151179\n"
     ]
    }
   ],
   "source": [
    "print(zc.price())"
   ]
  },
  {
   "cell_type": "code",
   "execution_count": 122,
   "id": "e1afc0e7",
   "metadata": {},
   "outputs": [
    {
     "name": "stdout",
     "output_type": "stream",
     "text": [
      "9.433962264150942\n"
     ]
    }
   ],
   "source": [
    "print(zc.duration())"
   ]
  },
  {
   "cell_type": "code",
   "execution_count": 123,
   "id": "ddbb4052",
   "metadata": {},
   "outputs": [
    {
     "name": "stdout",
     "output_type": "stream",
     "text": [
      "-0.8333333333333333\n"
     ]
    }
   ],
   "source": [
    "print(zc.ytm())"
   ]
  },
  {
   "cell_type": "markdown",
   "id": "9ec2226b",
   "metadata": {},
   "source": [
    "## Convertible bonds"
   ]
  },
  {
   "cell_type": "markdown",
   "id": "040d18c1",
   "metadata": {},
   "source": [
    "Convertible bonds are a specific type of bond where the bond can be converted to a specific number of shares at a predetermined price. There are multiple ways to value a conversion bond, which range in difficulty. The simplest way to value the convertible bond is to add together the independent value of the bond and the independent value of the call option.\n",
    "\n",
    "$$Convertible Bond Price = Bond Price + Call Option Price$$"
   ]
  },
  {
   "cell_type": "code",
   "execution_count": 44,
   "id": "2a9eea57",
   "metadata": {},
   "outputs": [],
   "source": [
    "def bond_price(face_value, coupon_rate, discount_rate, maturity, freq):\n",
    "    periods = maturity * freq \n",
    "    coupon_payment = (coupon_rate / freq) * face_value\n",
    "    cash_flows = np.repeat(coupon_payment, periods) # Generates array of coupon payments for each period\n",
    "    cash_flows[-1] += face_value # Adds face value payment to coupon_payments array\n",
    "    \n",
    "    periods = len(cash_flows) \n",
    "    \n",
    "    # Creates an array which is a repeat of the first argument\n",
    "    discount_factors = np.repeat(1 + (discount_rate/freq), periods)\n",
    "    \n",
    "    # Sets each argument in the array to the negative power of the period number\n",
    "    discount_factors = np.power(discount_factors, -np.arange(1, periods + 1)) \n",
    "    \n",
    "    # Multiplies the two corresponding values together\n",
    "    return np.dot(cash_flows, discount_factors)"
   ]
  },
  {
   "cell_type": "code",
   "execution_count": 45,
   "id": "8aec1e0a",
   "metadata": {},
   "outputs": [
    {
     "data": {
      "text/plain": [
       "1082.0867152848903"
      ]
     },
     "execution_count": 45,
     "metadata": {},
     "output_type": "execute_result"
    }
   ],
   "source": [
    "bond_price(1000, 0.05, 0.04, 10, 4)"
   ]
  },
  {
   "cell_type": "code",
   "execution_count": 46,
   "id": "9057c9b6",
   "metadata": {},
   "outputs": [],
   "source": [
    "# Call price using Black-Scholes model\n",
    "def call_price(C, S, r, maturity, sigma):\n",
    "    d1 = (np.log(C / S) + (r + 0.5 * sigma**2) * maturity) / (sigma * np.sqrt(maturity))\n",
    "    d2 = d1 - sigma * np.sqrt(maturity)\n",
    "    price = C * norm.cdf(d1) - S * np.exp(-r * maturity) * norm.cdf(d2)\n",
    "    return price"
   ]
  },
  {
   "cell_type": "markdown",
   "id": "3e55de54",
   "metadata": {},
   "source": [
    "Where:\n",
    "* C is the current stock price\n",
    "* S is the strike price\n",
    "* r is the risk-free rate\n",
    "* t is the time to expiration or in this case the maturity\n",
    "* sigma is the volatility"
   ]
  },
  {
   "cell_type": "code",
   "execution_count": 47,
   "id": "c477aae9",
   "metadata": {},
   "outputs": [],
   "source": [
    "class ConvertibleBond:\n",
    "    def __init__(self, face_value, coupon_rate, discount_rate, maturity, freq, C, S, r, sigma):\n",
    "        self.face_value = face_value\n",
    "        self.coupon_rate = coupon_rate\n",
    "        self.discount_rate = discount_rate\n",
    "        self.maturity = maturity\n",
    "        self.freq = freq\n",
    "        self.C = C\n",
    "        self.S = S\n",
    "        self.r = r\n",
    "        self.sigma = sigma\n",
    "    def price(self):\n",
    "        price = bond_price(self.face_value, self.coupon_rate, self.discount_rate, self.maturity, self.freq) + call_price(self.C, self.S, self.r, self.maturity, self.sigma)\n",
    "        return price"
   ]
  },
  {
   "cell_type": "code",
   "execution_count": 48,
   "id": "5b8749ad",
   "metadata": {},
   "outputs": [],
   "source": [
    "cb = ConvertibleBond(1000, 0.05, 0.04, 10, 4, 100, 105, 0.02, 0.2)"
   ]
  },
  {
   "cell_type": "code",
   "execution_count": 49,
   "id": "35eac21a",
   "metadata": {},
   "outputs": [
    {
     "data": {
      "text/plain": [
       "1112.8123616155947"
      ]
     },
     "execution_count": 49,
     "metadata": {},
     "output_type": "execute_result"
    }
   ],
   "source": [
    "cb.price()"
   ]
  },
  {
   "cell_type": "markdown",
   "id": "cf371594",
   "metadata": {},
   "source": [
    "It is worth noting that this convertible bond prices the option using the Black-Scholes method and while this can accurately price the stock alone, it does not consider the payment of dividends."
   ]
  },
  {
   "cell_type": "markdown",
   "id": "8043b416",
   "metadata": {},
   "source": [
    "### Advantages and disadvantages of Convertible bonds"
   ]
  },
  {
   "cell_type": "markdown",
   "id": "7a871528",
   "metadata": {},
   "source": [
    "Advantages:\n",
    "* Potential for higher returns because they can be converted into shares if the stock price rises.\n",
    "* Downside protection as they offer a fixed income component, which provides a cushion against stock market losses.\n",
    "* Lower interest rates\n",
    "* Diversification as it offers investors a bond which has both debt and equity features.\n",
    "\n",
    "Disadvantages:\n",
    "* Lower yields - they offer the potential for higher returns, but they offer lower yields because of this conversion feature.\n",
    "* Limited upside potential - they may not capture full upside potential because of the conversion ratio.\n",
    "* Complex - so some investors won't understand them.\n",
    "* Dilution - if they are redeemed for stock, they will dilute the shares of the existing shareholders."
   ]
  }
 ],
 "metadata": {
  "kernelspec": {
   "display_name": "Python 3 (ipykernel)",
   "language": "python",
   "name": "python3"
  },
  "language_info": {
   "codemirror_mode": {
    "name": "ipython",
    "version": 3
   },
   "file_extension": ".py",
   "mimetype": "text/x-python",
   "name": "python",
   "nbconvert_exporter": "python",
   "pygments_lexer": "ipython3",
   "version": "3.9.13"
  }
 },
 "nbformat": 4,
 "nbformat_minor": 5
}
