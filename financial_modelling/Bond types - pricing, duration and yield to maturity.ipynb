{
 "cells": [
  {
   "cell_type": "markdown",
   "id": "aa3d642c",
   "metadata": {},
   "source": [
    "# Bond types - pricing, duration and yield to maturity"
   ]
  },
  {
   "cell_type": "markdown",
   "id": "74c7dc1c",
   "metadata": {},
   "source": [
    "In this project, we will look at the different bond types, looking at the key differences in how the price, bond duration and yield to maturity are calculated. "
   ]
  },
  {
   "cell_type": "markdown",
   "id": "36972831",
   "metadata": {},
   "source": [
    "## Import required libraries"
   ]
  },
  {
   "cell_type": "markdown",
   "id": "35354fb5",
   "metadata": {},
   "source": [
    "For this project, we need the following libraries:\n",
    "* `numpy` for working with arrays and mathematical operations\n",
    "* `scipy.optimize` to provide optimization algorithms"
   ]
  },
  {
   "cell_type": "code",
   "execution_count": 1,
   "id": "f019c4a8",
   "metadata": {},
   "outputs": [],
   "source": [
    "import numpy as np\n",
    "from scipy.optimize import newton"
   ]
  },
  {
   "cell_type": "markdown",
   "id": "fa605a63",
   "metadata": {},
   "source": [
    "## Bond class"
   ]
  },
  {
   "cell_type": "code",
   "execution_count": 2,
   "id": "2125210c",
   "metadata": {},
   "outputs": [],
   "source": [
    "class bond:\n",
    "    def __init__(self, face_value, maturity, freq, coupon_rate):\n",
    "        self.face_value = face_value\n",
    "        self.maturity = maturity\n",
    "        self.freq = freq\n",
    "        self.coupon_rate = coupon_rate\n",
    "        self.present_value = None\n",
    "        self.price = None\n",
    "        self.yield_to_maturity = None\n",
    "    \n",
    "    def bond_price(self, yield_rate):\n",
    "        periods = self.freq * self.maturity\n",
    "        coupon_payment = self.face_value * self.coupon_rate / self.freq\n",
    "        coupon_payments = np.repeat(coupon_payment, periods)\n",
    "        coupon_payments[-1] += self.face_value\n",
    "        present_value = []\n",
    "        \n",
    "        for i in range(periods):\n",
    "            payment = coupon_payments[i] / ((1 + (yield_rate/self.freq))**(i+1))\n",
    "            present_value.append(payment)\n",
    "        \n",
    "        self.present_value = present_value\n",
    "        \n",
    "        self.price = sum(present_value)\n",
    "        \n",
    "        return self.price\n",
    "    \n",
    "    def duration(self, macaulay=True):\n",
    "        period = self.maturity / self.freq\n",
    "        periods = self.maturity * self.freq\n",
    "        periods_ordered = np.linspace(period, self.maturity, periods)\n",
    "\n",
    "        duration = 0\n",
    "        for i in range(periods):\n",
    "            duration += self.present_value[i] * periods_ordered[i] / self.price\n",
    "        \n",
    "        if macaulay == True:\n",
    "            return duration\n",
    "        elif macaulay == False:\n",
    "            if not hasattr(self, 'yield_to_maturity'):\n",
    "                print(\"Yield to maturity not calculated\")\n",
    "                return\n",
    "            else: \n",
    "                modified = duration / (1 + (self.yield_to_maturity / self.freq))\n",
    "                return modified\n",
    "        else:\n",
    "            raise TypeError(\"The modified parameter must take a Boolean value: either True or False\")\n",
    "    \n",
    "    def yield_to_maturity(self):\n",
    "        ytm_func = lambda y: self.bond_price(y) - self.face_value\n",
    "        ytm = newton(ytm_func, 0.05)\n",
    "        self.yield_to_maturity = ytm\n",
    "        \n",
    "        return ytm"
   ]
  },
  {
   "cell_type": "markdown",
   "id": "aad61feb",
   "metadata": {},
   "source": [
    "## Government and municipal bonds"
   ]
  },
  {
   "cell_type": "markdown",
   "id": "d814ccfb",
   "metadata": {},
   "source": [
    "A government bond is a debt security issued by a government to support government spending and obligations. Government bonds issued by national governments are often considered low-risk investments since the issuing government backs them. However, because of their lower risk, they also carry relatively lower yields. Government bonds assist in funding deficits in the government budgets and are used to raise capital for various projects such as infrastructure spending.\n",
    "\n",
    "Common examples of these government bonds are: \n",
    "* USA - Treasury Bonds\n",
    "* UK - Gilts\n",
    "* Germany - Bunds\n",
    "* France - OATs\n",
    "* Japan - JGBs\n",
    "* Italy - BTPs\n",
    "* Canada - Canada Bonds\n",
    "\n",
    "Municipal government bonds are extremely similar, however they are issued by local governments to fund projects such as infrastructure, libraries or parks. These bonds often carry certain tax advantages and exemptions for investors. "
   ]
  },
  {
   "cell_type": "code",
   "execution_count": 3,
   "id": "dcff4d06",
   "metadata": {},
   "outputs": [],
   "source": [
    "class GovernmentBond(bond):\n",
    "    def __init__(self, face_value, maturity, freq, coupon_rate, credit_rating):\n",
    "        super().__init__(face_value, maturity, freq, coupon_rate)\n",
    "        self.credit_rating = credit_rating\n",
    "        self.default_risk = None\n",
    "    \n",
    "    def calculate_default_risk(self):\n",
    "        if self.credit_rating == \"AAA\":\n",
    "            default_risk = 0.1\n",
    "        elif self.credit_rating == \"AA\":\n",
    "            default_risk = 0.25\n",
    "        elif self.credit_rating == \"A\":\n",
    "            default_risk = 0.5\n",
    "        elif self.credit_rating == \"BBB\":\n",
    "            default_risk = 1.0\n",
    "        elif self.credit_rating == \"BB\":\n",
    "            default_risk = 2.0\n",
    "        elif self.credit_rating == \"B\":\n",
    "            default_risk = 5.0\n",
    "        elif self.credit_rating == \"CCC\":\n",
    "            default_risk = 10.0\n",
    "        elif self.credit_rating == \"CC\":\n",
    "            default_risk = 20.0\n",
    "        elif self.credit_rating == \"C\":\n",
    "            default_risk = 50.0\n",
    "        else:\n",
    "            print(\"Enter a valid credit rating\")\n",
    "            \n",
    "        # Add to default risk attribute\n",
    "        self.default_risk = default_risk\n",
    "        \n",
    "        print(f\"The default risk for a bond with a credit rating {self.credit_rating}:{default_risk}%\")\n",
    "        \n",
    "    def expected_loss(self):\n",
    "        if not hasattr(self, 'default_risk'):\n",
    "            print(\"Default risk not calculated\")\n",
    "            return\n",
    "        \n",
    "        expected_loss = self.face_value * self.default_risk\n",
    "        print(f\"The expected loss on this bond is {expected_loss:,.2f}\")"
   ]
  },
  {
   "cell_type": "markdown",
   "id": "26611e79",
   "metadata": {},
   "source": [
    "## Corporate bonds"
   ]
  },
  {
   "cell_type": "markdown",
   "id": "ecdf8f10",
   "metadata": {},
   "source": [
    "Below, we define a `CorporateBond` class that inherits from our government bond class, the model also includes an additional `credit_spread` method. The credit spread is the difference in the yield to maturity of two bonds with the same maturity, but different credit ratings."
   ]
  },
  {
   "cell_type": "code",
   "execution_count": 4,
   "id": "27654438",
   "metadata": {},
   "outputs": [],
   "source": [
    "class CorporateBond(GovernmentBond):\n",
    "    def __init__(self, face_value, maturity, freq, coupon_rate, credit_rating, default_risk, treasury_rate):\n",
    "        super().__init__(face_value, maturity, freq, coupon_rate, credit_rating, default_risk)\n",
    "        self.treasury_rate = treasury_rate\n",
    "        \n",
    "    def credit_spread(self, risk_free_rate):\n",
    "        if not hasattr(self, 'default_risk'):\n",
    "            print(\"Default risk not calculated\")\n",
    "            return\n",
    "        \n",
    "        credit_spread = self.yield_to_maturity - self.treasury_rate\n",
    "        print(f\"The credit spread on the bond is {credit_spread:,.2f}\")"
   ]
  },
  {
   "cell_type": "markdown",
   "id": "46dbb081",
   "metadata": {},
   "source": [
    "## Junk bond"
   ]
  },
  {
   "cell_type": "markdown",
   "id": "86d74090",
   "metadata": {},
   "source": [
    "Junk bonds are very similar to regular corporate bonds, both represent debt issued by the firm with the promise to pay interest and return the principal at maturity. Junk bonds differ because of the issuers' poorer credit quality. Companies that issue junk bonds are typically start-ups or companies that are struggling financially. \n",
    "\n",
    "Junk bonds carry more risk than regular corporate bonds, and therefore investors demand a higher yield on the bonds. Companies are willing to pay this higher yield because they need to attract investors to fund thier operations."
   ]
  },
  {
   "cell_type": "markdown",
   "id": "ca091577",
   "metadata": {},
   "source": [
    "## Zero-coupon bond class"
   ]
  },
  {
   "cell_type": "markdown",
   "id": "78a9d2db",
   "metadata": {},
   "source": [
    "Zero-coupon bonds differ from the average bonds, as they do not pay regular coupon payments but instead trade at a deep discount, rendering a profit at maturity. Because they offer the entire payment at maturity, zero-coupon bonds tend to fluctuate in price much more than coupon bonds.\n",
    "\n",
    "The interest earned on zero-coupon bond is an imputed interest, meaning it is estimated and not an established rate, it is sometmes referred to as the 'phantom rate'. The difference between the face value and current price represents the interest that compounds automatically until the bond matures."
   ]
  },
  {
   "cell_type": "markdown",
   "id": "880fd969",
   "metadata": {},
   "source": [
    "### Mathematical formulas"
   ]
  },
  {
   "cell_type": "markdown",
   "id": "4a01912d",
   "metadata": {},
   "source": [
    "**For Price**\n",
    "$$\\text{Price} = \\frac{\\text{Face Value}}{(1 + \\text{YTM})^\\text{maturity}}$$\n",
    "\n",
    "**For Duration**\n",
    "$$\\text{Duration} =  \\frac{Maturity}{1 + YTM}$$"
   ]
  },
  {
   "cell_type": "code",
   "execution_count": 5,
   "id": "0e85c168",
   "metadata": {},
   "outputs": [],
   "source": [
    "class zero_coupon_bond:\n",
    "    def __init__(self, face_value, maturity, yield_to_maturity=None, market_price=None):\n",
    "        self.face_value = face_value\n",
    "        self.maturity = maturity\n",
    "        self.yield_to_maturity = yield_to_maturity\n",
    "        self.market_price = market_price\n",
    "        self.intrinsic_price = None\n",
    "    \n",
    "    def price(self):\n",
    "        if self.face_value is not None and self.yield_to_maturity is not None and self.maturity is not None:\n",
    "            price = self.face_value / (1 + self.yield_to_maturity) ** self.maturity\n",
    "            self.intrinsic_price = price\n",
    "            print(f\"The price of the bond is {price:,.2f}\")\n",
    "        else:\n",
    "            print('Missing input(s) to calculate the zero coupon price.')\n",
    "            return None\n",
    "    \n",
    "    def duration(self, yield_to_maturity):\n",
    "        # Define the attribute\n",
    "        self.yield_to_maturity = yield_to_maturity\n",
    "        \n",
    "        if self.yield_to_maturity is not None and self.maturity is not None:\n",
    "            duration = self.maturity / (1 + self.yield_to_maturity)\n",
    "            print(f\"The duration of the bond is {duration:,.2f}\")\n",
    "        else:\n",
    "            print('Missing input(s) to calculate the zero coupon duration.')\n",
    "            return None\n",
    "        \n",
    "    def ytm(self):\n",
    "        if self.face_value is not None and self.market_price is not None and self.maturity is not None:\n",
    "            ytm = (self.face_value / self.market_price) * (1 / self.maturity) - 1\n",
    "            self.yield_to_maturity = ytm\n",
    "        else:\n",
    "            print('Missing input(s) to calculate the zero coupon yield to maturity.')  \n",
    "            return None"
   ]
  },
  {
   "cell_type": "markdown",
   "id": "ecf70598",
   "metadata": {},
   "source": [
    "## Convertible bonds"
   ]
  },
  {
   "cell_type": "markdown",
   "id": "c8a13a83",
   "metadata": {},
   "source": [
    "Convertible bonds offer an additional option to convert the face value of the bond into stock at predetermined conversion ratio at any point prior to expiry. Convertible bonds offer the opportunity for increased returns when the stock price increases and the conversion option becomes more valuable. On the other hand, if the bond issuer's stock price decreases, the bondholder may choose to hold onto the bond and receive the fixed interest payments, as the conversion option would less valuable. \n",
    "\n",
    "It is worth noting that in exchange for this conversion option, these bonds typically have lower coupon rates than non-convertible bonds from the same issuer, as the conversion option provides additional value to the bondholder."
   ]
  },
  {
   "cell_type": "markdown",
   "id": "96194b61",
   "metadata": {},
   "source": [
    "### Formulas"
   ]
  },
  {
   "cell_type": "markdown",
   "id": "d84063d7",
   "metadata": {},
   "source": [
    "**For price:**\n",
    "\n",
    "$$\\text{Price} = \\text{Bond Value} + \\text{Conversion Value}$$\n",
    "\n",
    "$$\\text{Conversion Value} = \\text{Conversion Ratio}\\cdot\\text{Stock Price}$$\n",
    "\n",
    "*Note: there are alternative ways to calculate the value of convertible bonds, which range in complexity, for simplicity  we will only used the formula mentioned above.*"
   ]
  },
  {
   "cell_type": "code",
   "execution_count": 7,
   "id": "90898359",
   "metadata": {},
   "outputs": [],
   "source": [
    "class ConvertibleBond(bond):\n",
    "    def __init__(self,  face_value, maturity, freq, coupon_rate, conversion_ratio):\n",
    "        super().__init__(self,  face_value, maturity, freq, coupon_rate)\n",
    "        self.conversion_ratio = conversion_ratio\n",
    "        \n",
    "    def bond_price(self, yield_rate, stock_price):\n",
    "        conversion_value = self.conversion_ratio * stock_price\n",
    "        bond_value = super().bond_price(yield_rate)\n",
    "        price = max(bond_value, conversion_value)\n",
    "        self.price = price\n",
    "        \n",
    "        return price\n",
    "    \n",
    "    def duration(self, macaulay=True):\n",
    "        raise AttributeError(\"Duration method is not available\")"
   ]
  },
  {
   "cell_type": "markdown",
   "id": "969f61b8",
   "metadata": {},
   "source": [
    "*Note: In our class, we decided to not make the duration method available as it would require more complex calculations than I currently have the coding ability to implement.*"
   ]
  },
  {
   "cell_type": "markdown",
   "id": "9edc1222",
   "metadata": {},
   "source": [
    "## Callable bond"
   ]
  },
  {
   "cell_type": "markdown",
   "id": "ab030200",
   "metadata": {},
   "source": [
    "A callable bond, also known as a redeemable bond, is a bond that the issuer may redeem before it reaches the stated maturity date. A callable bond allows the issuing company to pay off their debt early. They may choose to do if market interest rates move lower, allowing them to re-borrow at a more beneficial rate. \n",
    "\n",
    "Callable bonds compensate investors for that potential outcome, as they offer a more attractive interest rate or coupon rate due to their callable nature."
   ]
  },
  {
   "cell_type": "code",
   "execution_count": 8,
   "id": "724ed19a",
   "metadata": {},
   "outputs": [],
   "source": [
    "class CallableBond(bond):\n",
    "    def __init__(self,  face_value, maturity, freq, coupon_rate):\n",
    "        super().__init__(face_value, maturity, freq, coupon_rate)\n",
    "        self.call_premium = None\n",
    "        self.yield_rate = None\n",
    "        self.price = None\n",
    "        \n",
    "    def bond_price(self, yield_rate, call_premium):\n",
    "        self.yield_rate = yield_rate\n",
    "        self.call_premium = call_premium\n",
    "        bond_value = super().bond_price(yield_rate)\n",
    "        price = bond_value - call_premium\n",
    "        self.price = price\n",
    "        return price\n",
    "    \n",
    "    def duration(self):\n",
    "        if not hasattr(self, 'yield_rate'):\n",
    "            print(\"Please run price function and pass yield rate\")\n",
    "            return\n",
    "        if not hasattr(self, 'call_premium'):\n",
    "            print(\"Please run price function and pass call premium\")\n",
    "            return\n",
    "        \n",
    "        duration = super().duration(True) - (self.call_premium / self.price) * (1 + self.yield_to_maturity) / self.yield_to_maturity\n",
    "        return duration"
   ]
  }
 ],
 "metadata": {
  "kernelspec": {
   "display_name": "Python 3 (ipykernel)",
   "language": "python",
   "name": "python3"
  },
  "language_info": {
   "codemirror_mode": {
    "name": "ipython",
    "version": 3
   },
   "file_extension": ".py",
   "mimetype": "text/x-python",
   "name": "python",
   "nbconvert_exporter": "python",
   "pygments_lexer": "ipython3",
   "version": "3.10.9"
  }
 },
 "nbformat": 4,
 "nbformat_minor": 5
}
