{
 "cells": [
  {
   "cell_type": "markdown",
   "id": "906a1c04",
   "metadata": {},
   "source": [
    "# Black-Scholes model for option pricing"
   ]
  },
  {
   "cell_type": "markdown",
   "id": "8779d921",
   "metadata": {},
   "source": [
    "The Black-Scholes model is a mathematical model for option pricing used to calculate the theoretical price of European options, which give the owner the option to buy or sell an asset at a fixed price on a specific date in the future. The model assumes the options follow a lognormal distribution and are traded in a frictionless market where there are no transaction costs, no taxes and no restrictions on short selling.\n",
    "\n",
    "The Black-Scholes model takes into account five different factors that affect the price an option:\n",
    "\n",
    "* The strike price\n",
    "* The current price of the underlying asset\n",
    "* The time remaining until expiration of the asset\n",
    "* The risk-free rate \n",
    "* The volatility of the underlying asset\n"
   ]
  },
  {
   "cell_type": "markdown",
   "id": "cf4eba63",
   "metadata": {},
   "source": [
    "## Import of the necessary libraries and modules"
   ]
  },
  {
   "cell_type": "code",
   "execution_count": 23,
   "id": "3c11c201",
   "metadata": {},
   "outputs": [],
   "source": [
    "import numpy as np\n",
    "from scipy.stats import norm"
   ]
  },
  {
   "cell_type": "markdown",
   "id": "41745c23",
   "metadata": {},
   "source": [
    "## Defining a function to calculate prices using the model"
   ]
  },
  {
   "cell_type": "code",
   "execution_count": 26,
   "id": "71601a28",
   "metadata": {},
   "outputs": [],
   "source": [
    "#Define parameters\n",
    "S = 'Strike Price'\n",
    "C = 'Current Price'\n",
    "t = 'Time period to expiration'\n",
    "r = 'Risk-free rate'\n",
    "sigma = 'Volatility'\n",
    "\n",
    "# Black scholes model price function\n",
    "def option_price(S, C, t, r, sigma, option_type):\n",
    "    d1 = (np.log(C/S) + (r + sigma**2/2)*t) / (sigma * np.sqrt(t)) # Expected return adjusted for the risk\n",
    "    d2 = d1 - (sigma * np.sqrt(t)) # Takes into account the standard deviation of the returns\n",
    "    \n",
    "    print('d1: ', d1)\n",
    "    print('d2: ', d2)\n",
    "    if option_type == \"Put\":\n",
    "        price = (S * np.exp(-r*t) * norm.cdf(-d2)) - (C * norm.cdf(-d1))\n",
    "        print('Put option price: ', price)\n",
    "    elif option_type == \"Call\":\n",
    "        price = (C * norm.cdf(d1)) - (S * np.exp(-r*t) * norm.cdf(d2))\n",
    "        print('Call option price: ', price)\n",
    "    else:\n",
    "        print('Invalid option type')"
   ]
  },
  {
   "cell_type": "markdown",
   "id": "b6a7283e",
   "metadata": {},
   "source": [
    "## Calling the function for different option pricing methods"
   ]
  },
  {
   "cell_type": "code",
   "execution_count": 27,
   "id": "29c51806",
   "metadata": {},
   "outputs": [
    {
     "name": "stdout",
     "output_type": "stream",
     "text": [
      "d1:  -2.0517051739834145\n",
      "d2:  -2.193126530220724\n",
      "Call option price:  0.1096559283068772\n"
     ]
    }
   ],
   "source": [
    "#Run function\n",
    "option_price(150, 110, 0.5, 0.02, 0.2, \"Call\")"
   ]
  },
  {
   "cell_type": "code",
   "execution_count": 28,
   "id": "08c99c09",
   "metadata": {},
   "outputs": [
    {
     "name": "stdout",
     "output_type": "stream",
     "text": [
      "d1:  -2.0517051739834145\n",
      "d2:  -2.193126530220724\n",
      "Put option price:  38.6171309906821\n"
     ]
    }
   ],
   "source": [
    "#Run function\n",
    "option_price(150, 110, 0.5, 0.02, 0.2, \"Put\")"
   ]
  },
  {
   "cell_type": "markdown",
   "id": "cb736d5e",
   "metadata": {},
   "source": [
    "## Limitations of the model"
   ]
  },
  {
   "cell_type": "markdown",
   "id": "06c3d232",
   "metadata": {},
   "source": [
    "Whilst in theory the model seems to work efficiently, there are many assumptions that don't hold in practice:\n",
    "\n",
    "1. The model assumes that the asset follows a lognormal distribution, which means that stock prices are continuous and follow a normal distribution. This assumption does not hold true in reality and many assets are subject to sudden changes and do not necessarily follow a normal distribution.\n",
    "2. The model assumes that the option can be exercised at any time up to the expiration date, which is known as a European-style option. In reality, there are other types of options, such as American-style options, which can be exercised at any time up to the expiration date.\n",
    "3. The model assumes that the risk free rate is constant over the lifetime of the option, when in reality there can be changes over time.\n",
    "4. The model assumes no transaction costs or frictions, when in reality there can be fees or commissions involved. "
   ]
  }
 ],
 "metadata": {
  "kernelspec": {
   "display_name": "Python 3 (ipykernel)",
   "language": "python",
   "name": "python3"
  },
  "language_info": {
   "codemirror_mode": {
    "name": "ipython",
    "version": 3
   },
   "file_extension": ".py",
   "mimetype": "text/x-python",
   "name": "python",
   "nbconvert_exporter": "python",
   "pygments_lexer": "ipython3",
   "version": "3.9.13"
  }
 },
 "nbformat": 4,
 "nbformat_minor": 5
}
