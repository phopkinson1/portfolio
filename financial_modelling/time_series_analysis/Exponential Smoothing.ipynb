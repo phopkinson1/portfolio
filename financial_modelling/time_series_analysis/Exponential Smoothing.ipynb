{
 "cells": [
  {
   "cell_type": "markdown",
   "id": "b2f27cbe",
   "metadata": {},
   "source": [
    "# Exponential smoothing of sales data"
   ]
  },
  {
   "cell_type": "markdown",
   "id": "463a649b",
   "metadata": {},
   "source": [
    "Exponential smoothing is a statistical method used for forecasting time series data. It works by giving more weight to more recent observations in the data, and less weight to older observations. The idea is that more recent observations are more relevant for forecasting future values than older observations, as they are more reflective of current trends and patterns in the data.\n",
    "\n",
    "The method is based on calculating a weighted average of the previous data, where most recent data is given a higher weight and the weight decreases exponentially the further back in time you go. It is particularly useful for short-term forecasting and for datasets with low to moderate levels of noise. "
   ]
  },
  {
   "cell_type": "markdown",
   "id": "6b0f108f",
   "metadata": {},
   "source": [
    "## Import required libraries and modules"
   ]
  },
  {
   "cell_type": "code",
   "execution_count": 2,
   "id": "90437428",
   "metadata": {},
   "outputs": [],
   "source": [
    "import pandas as pd\n",
    "import numpy as np\n",
    "import statsmodels.api as sm\n",
    "import matplotlib.pyplot as plt"
   ]
  },
  {
   "cell_type": "markdown",
   "id": "06173804",
   "metadata": {},
   "source": [
    "# Import dataset and run initial data inspection"
   ]
  },
  {
   "cell_type": "code",
   "execution_count": 3,
   "id": "a6fbaf61",
   "metadata": {},
   "outputs": [
    {
     "data": {
      "text/html": [
       "<div>\n",
       "<style scoped>\n",
       "    .dataframe tbody tr th:only-of-type {\n",
       "        vertical-align: middle;\n",
       "    }\n",
       "\n",
       "    .dataframe tbody tr th {\n",
       "        vertical-align: top;\n",
       "    }\n",
       "\n",
       "    .dataframe thead th {\n",
       "        text-align: right;\n",
       "    }\n",
       "</style>\n",
       "<table border=\"1\" class=\"dataframe\">\n",
       "  <thead>\n",
       "    <tr style=\"text-align: right;\">\n",
       "      <th></th>\n",
       "      <th>Time period</th>\n",
       "      <th>Sales Amount</th>\n",
       "    </tr>\n",
       "  </thead>\n",
       "  <tbody>\n",
       "    <tr>\n",
       "      <th>0</th>\n",
       "      <td>Jan-21</td>\n",
       "      <td>1000</td>\n",
       "    </tr>\n",
       "    <tr>\n",
       "      <th>1</th>\n",
       "      <td>Feb-21</td>\n",
       "      <td>1200</td>\n",
       "    </tr>\n",
       "    <tr>\n",
       "      <th>2</th>\n",
       "      <td>Mar-21</td>\n",
       "      <td>1300</td>\n",
       "    </tr>\n",
       "    <tr>\n",
       "      <th>3</th>\n",
       "      <td>Apr-21</td>\n",
       "      <td>1250</td>\n",
       "    </tr>\n",
       "    <tr>\n",
       "      <th>4</th>\n",
       "      <td>May-21</td>\n",
       "      <td>1400</td>\n",
       "    </tr>\n",
       "  </tbody>\n",
       "</table>\n",
       "</div>"
      ],
      "text/plain": [
       "  Time period  Sales Amount\n",
       "0      Jan-21          1000\n",
       "1      Feb-21          1200\n",
       "2      Mar-21          1300\n",
       "3      Apr-21          1250\n",
       "4      May-21          1400"
      ]
     },
     "execution_count": 3,
     "metadata": {},
     "output_type": "execute_result"
    }
   ],
   "source": [
    "df = pd.read_csv(r\"C:\\Users\\pjhop\\OneDrive\\Documents\\Programming & Coding\\Python\\Projects\\Datasets\\Sales_data.csv\")\n",
    "df.head()"
   ]
  },
  {
   "cell_type": "code",
   "execution_count": 4,
   "id": "3e65aaa3",
   "metadata": {},
   "outputs": [],
   "source": [
    "df['Time period'] = pd.to_datetime(df['Time period'], format='%b-%y')\n",
    "df.set_index('Time period', inplace=True)"
   ]
  },
  {
   "cell_type": "code",
   "execution_count": 5,
   "id": "688266ba",
   "metadata": {},
   "outputs": [
    {
     "data": {
      "text/html": [
       "<div>\n",
       "<style scoped>\n",
       "    .dataframe tbody tr th:only-of-type {\n",
       "        vertical-align: middle;\n",
       "    }\n",
       "\n",
       "    .dataframe tbody tr th {\n",
       "        vertical-align: top;\n",
       "    }\n",
       "\n",
       "    .dataframe thead th {\n",
       "        text-align: right;\n",
       "    }\n",
       "</style>\n",
       "<table border=\"1\" class=\"dataframe\">\n",
       "  <thead>\n",
       "    <tr style=\"text-align: right;\">\n",
       "      <th></th>\n",
       "      <th>Sales Amount</th>\n",
       "    </tr>\n",
       "    <tr>\n",
       "      <th>Time period</th>\n",
       "      <th></th>\n",
       "    </tr>\n",
       "  </thead>\n",
       "  <tbody>\n",
       "    <tr>\n",
       "      <th>2021-01-01</th>\n",
       "      <td>1000</td>\n",
       "    </tr>\n",
       "    <tr>\n",
       "      <th>2021-02-01</th>\n",
       "      <td>1200</td>\n",
       "    </tr>\n",
       "    <tr>\n",
       "      <th>2021-03-01</th>\n",
       "      <td>1300</td>\n",
       "    </tr>\n",
       "    <tr>\n",
       "      <th>2021-04-01</th>\n",
       "      <td>1250</td>\n",
       "    </tr>\n",
       "    <tr>\n",
       "      <th>2021-05-01</th>\n",
       "      <td>1400</td>\n",
       "    </tr>\n",
       "    <tr>\n",
       "      <th>2021-06-01</th>\n",
       "      <td>1500</td>\n",
       "    </tr>\n",
       "    <tr>\n",
       "      <th>2021-07-01</th>\n",
       "      <td>1700</td>\n",
       "    </tr>\n",
       "    <tr>\n",
       "      <th>2021-08-01</th>\n",
       "      <td>1800</td>\n",
       "    </tr>\n",
       "    <tr>\n",
       "      <th>2021-09-01</th>\n",
       "      <td>2000</td>\n",
       "    </tr>\n",
       "    <tr>\n",
       "      <th>2021-10-01</th>\n",
       "      <td>2200</td>\n",
       "    </tr>\n",
       "    <tr>\n",
       "      <th>2021-11-01</th>\n",
       "      <td>2400</td>\n",
       "    </tr>\n",
       "    <tr>\n",
       "      <th>2021-12-01</th>\n",
       "      <td>2500</td>\n",
       "    </tr>\n",
       "  </tbody>\n",
       "</table>\n",
       "</div>"
      ],
      "text/plain": [
       "             Sales Amount\n",
       "Time period              \n",
       "2021-01-01           1000\n",
       "2021-02-01           1200\n",
       "2021-03-01           1300\n",
       "2021-04-01           1250\n",
       "2021-05-01           1400\n",
       "2021-06-01           1500\n",
       "2021-07-01           1700\n",
       "2021-08-01           1800\n",
       "2021-09-01           2000\n",
       "2021-10-01           2200\n",
       "2021-11-01           2400\n",
       "2021-12-01           2500"
      ]
     },
     "execution_count": 5,
     "metadata": {},
     "output_type": "execute_result"
    }
   ],
   "source": [
    "df.head(12)"
   ]
  },
  {
   "cell_type": "code",
   "execution_count": 6,
   "id": "4046ac61",
   "metadata": {},
   "outputs": [
    {
     "data": {
      "image/png": "[encoded data removed]",
      "text/plain": [
       "<Figure size 640x480 with 1 Axes>"
      ]
     },
     "metadata": {},
     "output_type": "display_data"
    },
    {
     "data": {
      "text/plain": [
       "<Figure size 640x480 with 0 Axes>"
      ]
     },
     "metadata": {},
     "output_type": "display_data"
    }
   ],
   "source": [
    "plt.plot(df['Sales Amount'])\n",
    "\n",
    "plt.xlabel('Month')\n",
    "plt.ylabel('Sales Amount')\n",
    "plt.title('Sales over time')\n",
    "\n",
    "plt.show()\n",
    "plt.clf()"
   ]
  },
  {
   "cell_type": "markdown",
   "id": "95072da1",
   "metadata": {},
   "source": [
    "Above we can see a plot of how the sales amount has changed over time, noting a slight positive trend over the 12-month duration."
   ]
  },
  {
   "cell_type": "markdown",
   "id": "1fa449ec",
   "metadata": {},
   "source": [
    "## Model fit"
   ]
  },
  {
   "cell_type": "code",
   "execution_count": 7,
   "id": "4f56a018",
   "metadata": {},
   "outputs": [],
   "source": [
    "from statsmodels.tsa.holtwinters import ExponentialSmoothing\n",
    "\n",
    "# Define parameters\n",
    "alpha = 0.6\n",
    "beta = 0.1\n",
    "\n",
    "model = ExponentialSmoothing(df['Sales Amount'], trend='add', initialization_method=\"estimated\",\n",
    "                             initial_level=None, initial_trend=None,  seasonal=None, freq='MS')\n",
    "model_fit = model.fit(smoothing_level=alpha, smoothing_trend=beta)"
   ]
  },
  {
   "cell_type": "markdown",
   "id": "a73c8a8c",
   "metadata": {},
   "source": [
    "In the exponential smoothing class, there are a large number of parameters which need to be explained:\n",
    "* `trend` defines the type of trend in the model, this can be additive or multiplicative.\n",
    "* `seasonal` refers to the type of seasonal component, additive or multiplicative.\n",
    "* `initialization_method` refers to the initial setting of parameters of the model before fitting the data, for which there are several different methods. The parameter can take one of four possible values: None, 'estimated', 'heuristic', and 'known'.\n",
    "* `freq` refers to the frequency of the time series.\n",
    "\n",
    "When fitting the model, we have two parameters:\n",
    "* `smoothing_level` is the amount of weight given to the most recent observation in the data, a higher value makes the forecast more responsive to changes in the data and vice versa. \n",
    "* `smoothing_trend` is the amount of weight given to the trend in the data, when more weight is given the data becomes more responsive to changes in the trend and vice versa. \n",
    "\n",
    "The optimal values of alpha and beta depend on the characteristics of the data being forecasted and are usually chosen using techniques such as grid search or maximum likelihood estimation.\n",
    "\n",
    "Formula for the smoothing level:\n",
    "\n",
    "$$S(t) = α * Y(t) + (1 - α) * S(t-1)$$\n",
    "\n",
    "Formula for smoothing trend:\n",
    "\n",
    "$$b(t) = β * (S(t) - S(t-1)) + (1 - β) * b(t-1)$$\n",
    "\n",
    "Where: \n",
    "* S(t) is the smoothed value of the time series at time t.\n",
    "* Y(t) is the actual value of the time series at time t.\n",
    "* α is the smoothing factor for the level component, which controls the weight given to the most recent observation. It must be a value between 0 and 1, where higher values of α give more weight to recent observations.\n",
    "* S(t-1) is the smoothed value of the time series at the previous time step.\n",
    "* b(t) is the trend component at time t.\n",
    "* β is the smoothing factor for the trend component, which controls the weight given to the most recent trend estimate. It must be a value between 0 and 1, where higher values of β give more weight to recent trend estimates.\n",
    "* b(t-1) is the trend component at the previous time step."
   ]
  },
  {
   "cell_type": "markdown",
   "id": "2eefdcbd",
   "metadata": {},
   "source": [
    "## Model forecast and comparison"
   ]
  },
  {
   "cell_type": "markdown",
   "id": "49f25de5",
   "metadata": {},
   "source": [
    "The line of code below forecasts the sales amount for the next 12 time periods, which in our case in the next 12 months. "
   ]
  },
  {
   "cell_type": "code",
   "execution_count": 12,
   "id": "431d0e38",
   "metadata": {},
   "outputs": [
    {
     "name": "stdout",
     "output_type": "stream",
     "text": [
      "2022-01-01    2638.089237\n",
      "2022-02-01    2777.852429\n",
      "2022-03-01    2917.615620\n",
      "2022-04-01    3057.378812\n",
      "2022-05-01    3197.142003\n",
      "2022-06-01    3336.905194\n",
      "2022-07-01    3476.668386\n",
      "2022-08-01    3616.431577\n",
      "2022-09-01    3756.194768\n",
      "2022-10-01    3895.957960\n",
      "2022-11-01    4035.721151\n",
      "2022-12-01    4175.484342\n",
      "Freq: MS, dtype: float64\n"
     ]
    }
   ],
   "source": [
    "forecast = model_fit.forecast(steps=12)\n",
    "print(forecast)"
   ]
  },
  {
   "cell_type": "code",
   "execution_count": 11,
   "id": "183779b9",
   "metadata": {},
   "outputs": [
    {
     "data": {
      "image/png": "[encoded data removed]",
      "text/plain": [
       "<Figure size 1000x800 with 1 Axes>"
      ]
     },
     "metadata": {},
     "output_type": "display_data"
    },
    {
     "data": {
      "text/plain": [
       "<Figure size 640x480 with 0 Axes>"
      ]
     },
     "metadata": {},
     "output_type": "display_data"
    }
   ],
   "source": [
    "# Define figure size\n",
    "plt.figure(figsize=(10, 8))\n",
    "\n",
    "# Plot variables\n",
    "plt.plot(df['Sales Amount'])\n",
    "plt.plot(forecast)\n",
    "\n",
    "# Labels and title\n",
    "plt.xlabel('Month')\n",
    "plt.ylabel('Sales Amount')\n",
    "plt.title('Sales over time')\n",
    "\n",
    "plt.show()\n",
    "plt.clf()"
   ]
  },
  {
   "cell_type": "markdown",
   "id": "16ded14e",
   "metadata": {},
   "source": [
    "When we compare our forecast to our initial dataset, we can see how the predictions compare to our initial dataset. Given, we did not do a training and test dataset, we cannot evaluate this model. "
   ]
  }
 ],
 "metadata": {
  "kernelspec": {
   "display_name": "Python 3 (ipykernel)",
   "language": "python",
   "name": "python3"
  },
  "language_info": {
   "codemirror_mode": {
    "name": "ipython",
    "version": 3
   },
   "file_extension": ".py",
   "mimetype": "text/x-python",
   "name": "python",
   "nbconvert_exporter": "python",
   "pygments_lexer": "ipython3",
   "version": "3.9.13"
  }
 },
 "nbformat": 4,
 "nbformat_minor": 5
}
