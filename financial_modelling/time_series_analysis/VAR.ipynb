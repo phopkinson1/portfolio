{
 "cells": [
  {
   "cell_type": "markdown",
   "id": "ff68c875",
   "metadata": {},
   "source": [
    "# Vector Auto Regression (VAR) modelling"
   ]
  },
  {
   "cell_type": "markdown",
   "id": "28e00753",
   "metadata": {},
   "source": [
    "### Import of relevant modules and libraries"
   ]
  },
  {
   "cell_type": "code",
   "execution_count": 2,
   "id": "b3d5050a",
   "metadata": {},
   "outputs": [],
   "source": [
    "import pandas as pd\n",
    "import statsmodels.api as sm\n",
    "import matplotlib.pyplot as plt\n",
    "import seaborn as sns"
   ]
  },
  {
   "cell_type": "markdown",
   "id": "ed77c968",
   "metadata": {},
   "source": [
    "### Import and manipulation of the relevant datasets"
   ]
  },
  {
   "cell_type": "markdown",
   "id": "36234913",
   "metadata": {},
   "source": [
    "For our datasets, we will use data provided by FRED which will allow us to see how US GDP and unemployment rate interact from 1948 to 2023. "
   ]
  },
  {
   "cell_type": "code",
   "execution_count": 3,
   "id": "1220033c",
   "metadata": {},
   "outputs": [],
   "source": [
    "gdp_data = pd.read_excel(r\"C:\\Users\\pjhop\\OneDrive\\Documents\\Programming & Coding\\Python\\Projects\\Datasets\\GDP.xls\", header=10, index_col=0)\n",
    "unemployment_rate = pd.read_excel(r\"C:\\Users\\pjhop\\OneDrive\\Documents\\Programming & Coding\\Python\\Projects\\Datasets\\UNRATE.xls\", header=10, index_col=0)"
   ]
  },
  {
   "cell_type": "markdown",
   "id": "711fabcf",
   "metadata": {},
   "source": [
    "We have specified the `header` term in our `read_excel` command, this specifies the row of the excel sheet to use as the header and avoids retrieving irrelevant information stored in the first ten rows. We have also specified the `index_col` to use the date variable as our index."
   ]
  },
  {
   "cell_type": "code",
   "execution_count": 4,
   "id": "5b59f9d4",
   "metadata": {},
   "outputs": [
    {
     "data": {
      "text/html": [
       "<div>\n",
       "<style scoped>\n",
       "    .dataframe tbody tr th:only-of-type {\n",
       "        vertical-align: middle;\n",
       "    }\n",
       "\n",
       "    .dataframe tbody tr th {\n",
       "        vertical-align: top;\n",
       "    }\n",
       "\n",
       "    .dataframe thead th {\n",
       "        text-align: right;\n",
       "    }\n",
       "</style>\n",
       "<table border=\"1\" class=\"dataframe\">\n",
       "  <thead>\n",
       "    <tr style=\"text-align: right;\">\n",
       "      <th></th>\n",
       "      <th>GDP</th>\n",
       "    </tr>\n",
       "    <tr>\n",
       "      <th>observation_date</th>\n",
       "      <th></th>\n",
       "    </tr>\n",
       "  </thead>\n",
       "  <tbody>\n",
       "    <tr>\n",
       "      <th>1947-01-01</th>\n",
       "      <td>243.164</td>\n",
       "    </tr>\n",
       "    <tr>\n",
       "      <th>1947-04-01</th>\n",
       "      <td>245.968</td>\n",
       "    </tr>\n",
       "    <tr>\n",
       "      <th>1947-07-01</th>\n",
       "      <td>249.585</td>\n",
       "    </tr>\n",
       "    <tr>\n",
       "      <th>1947-10-01</th>\n",
       "      <td>259.745</td>\n",
       "    </tr>\n",
       "    <tr>\n",
       "      <th>1948-01-01</th>\n",
       "      <td>265.742</td>\n",
       "    </tr>\n",
       "  </tbody>\n",
       "</table>\n",
       "</div>"
      ],
      "text/plain": [
       "                      GDP\n",
       "observation_date         \n",
       "1947-01-01        243.164\n",
       "1947-04-01        245.968\n",
       "1947-07-01        249.585\n",
       "1947-10-01        259.745\n",
       "1948-01-01        265.742"
      ]
     },
     "execution_count": 4,
     "metadata": {},
     "output_type": "execute_result"
    }
   ],
   "source": [
    "gdp_data.head()"
   ]
  },
  {
   "cell_type": "code",
   "execution_count": 5,
   "id": "b5f89279",
   "metadata": {},
   "outputs": [
    {
     "data": {
      "text/html": [
       "<div>\n",
       "<style scoped>\n",
       "    .dataframe tbody tr th:only-of-type {\n",
       "        vertical-align: middle;\n",
       "    }\n",
       "\n",
       "    .dataframe tbody tr th {\n",
       "        vertical-align: top;\n",
       "    }\n",
       "\n",
       "    .dataframe thead th {\n",
       "        text-align: right;\n",
       "    }\n",
       "</style>\n",
       "<table border=\"1\" class=\"dataframe\">\n",
       "  <thead>\n",
       "    <tr style=\"text-align: right;\">\n",
       "      <th></th>\n",
       "      <th>UNRATE</th>\n",
       "    </tr>\n",
       "    <tr>\n",
       "      <th>observation_date</th>\n",
       "      <th></th>\n",
       "    </tr>\n",
       "  </thead>\n",
       "  <tbody>\n",
       "    <tr>\n",
       "      <th>1948-01-01</th>\n",
       "      <td>3.4</td>\n",
       "    </tr>\n",
       "    <tr>\n",
       "      <th>1948-02-01</th>\n",
       "      <td>3.8</td>\n",
       "    </tr>\n",
       "    <tr>\n",
       "      <th>1948-03-01</th>\n",
       "      <td>4.0</td>\n",
       "    </tr>\n",
       "    <tr>\n",
       "      <th>1948-04-01</th>\n",
       "      <td>3.9</td>\n",
       "    </tr>\n",
       "    <tr>\n",
       "      <th>1948-05-01</th>\n",
       "      <td>3.5</td>\n",
       "    </tr>\n",
       "  </tbody>\n",
       "</table>\n",
       "</div>"
      ],
      "text/plain": [
       "                  UNRATE\n",
       "observation_date        \n",
       "1948-01-01           3.4\n",
       "1948-02-01           3.8\n",
       "1948-03-01           4.0\n",
       "1948-04-01           3.9\n",
       "1948-05-01           3.5"
      ]
     },
     "execution_count": 5,
     "metadata": {},
     "output_type": "execute_result"
    }
   ],
   "source": [
    "unemployment_rate.head()"
   ]
  },
  {
   "cell_type": "markdown",
   "id": "f43ae6fa",
   "metadata": {},
   "source": [
    "When looking at the data, we can see how the dates in the two columns do not align, the manufacturing output recordings begin later than gdp data. We use the merge function to combine our datasets and retain the data for which the dates are present in both. "
   ]
  },
  {
   "cell_type": "code",
   "execution_count": 6,
   "id": "fb91f822",
   "metadata": {},
   "outputs": [],
   "source": [
    "df = pd.merge(gdp_data, unemployment_rate, how='inner', left_index=True, right_index=True)"
   ]
  },
  {
   "cell_type": "code",
   "execution_count": 7,
   "id": "5935f7e3",
   "metadata": {},
   "outputs": [
    {
     "data": {
      "text/html": [
       "<div>\n",
       "<style scoped>\n",
       "    .dataframe tbody tr th:only-of-type {\n",
       "        vertical-align: middle;\n",
       "    }\n",
       "\n",
       "    .dataframe tbody tr th {\n",
       "        vertical-align: top;\n",
       "    }\n",
       "\n",
       "    .dataframe thead th {\n",
       "        text-align: right;\n",
       "    }\n",
       "</style>\n",
       "<table border=\"1\" class=\"dataframe\">\n",
       "  <thead>\n",
       "    <tr style=\"text-align: right;\">\n",
       "      <th></th>\n",
       "      <th>GDP</th>\n",
       "      <th>UNRATE</th>\n",
       "    </tr>\n",
       "    <tr>\n",
       "      <th>observation_date</th>\n",
       "      <th></th>\n",
       "      <th></th>\n",
       "    </tr>\n",
       "  </thead>\n",
       "  <tbody>\n",
       "    <tr>\n",
       "      <th>1948-01-01</th>\n",
       "      <td>265.742</td>\n",
       "      <td>3.4</td>\n",
       "    </tr>\n",
       "    <tr>\n",
       "      <th>1948-04-01</th>\n",
       "      <td>272.567</td>\n",
       "      <td>3.9</td>\n",
       "    </tr>\n",
       "    <tr>\n",
       "      <th>1948-07-01</th>\n",
       "      <td>279.196</td>\n",
       "      <td>3.6</td>\n",
       "    </tr>\n",
       "    <tr>\n",
       "      <th>1948-10-01</th>\n",
       "      <td>280.366</td>\n",
       "      <td>3.7</td>\n",
       "    </tr>\n",
       "    <tr>\n",
       "      <th>1949-01-01</th>\n",
       "      <td>275.034</td>\n",
       "      <td>4.3</td>\n",
       "    </tr>\n",
       "  </tbody>\n",
       "</table>\n",
       "</div>"
      ],
      "text/plain": [
       "                      GDP  UNRATE\n",
       "observation_date                 \n",
       "1948-01-01        265.742     3.4\n",
       "1948-04-01        272.567     3.9\n",
       "1948-07-01        279.196     3.6\n",
       "1948-10-01        280.366     3.7\n",
       "1949-01-01        275.034     4.3"
      ]
     },
     "execution_count": 7,
     "metadata": {},
     "output_type": "execute_result"
    }
   ],
   "source": [
    "df.head()"
   ]
  },
  {
   "cell_type": "markdown",
   "id": "74c66cf1",
   "metadata": {},
   "source": [
    "## Model fit and results"
   ]
  },
  {
   "cell_type": "markdown",
   "id": "4a98dadf",
   "metadata": {},
   "source": [
    "The Vector Autoregression model is a method used to forecast two or more time series, by modeling their interdependencies. The main assumption of the model is that the time series must depend on its own past values and the past values of the other time series in the system.\n",
    "\n",
    "It can be used to model interactions between economic variables, such as GDP and the unemployment rate. This is what we will model in our example.  "
   ]
  },
  {
   "cell_type": "code",
   "execution_count": 10,
   "id": "93d905ef",
   "metadata": {},
   "outputs": [
    {
     "name": "stderr",
     "output_type": "stream",
     "text": [
      "C:\\Users\\pjhop\\anaconda3\\lib\\site-packages\\statsmodels\\tsa\\base\\tsa_model.py:471: ValueWarning: No frequency information was provided, so inferred frequency QS-OCT will be used.\n",
      "  self._init_dates(dates, freq)\n"
     ]
    }
   ],
   "source": [
    "model = sm.tsa.VAR(df)\n",
    "results = model.fit(2)"
   ]
  },
  {
   "cell_type": "code",
   "execution_count": 11,
   "id": "fd29b894",
   "metadata": {},
   "outputs": [
    {
     "data": {
      "text/plain": [
       "  Summary of Regression Results   \n",
       "==================================\n",
       "Model:                         VAR\n",
       "Method:                        OLS\n",
       "Date:           Sun, 06, Aug, 2023\n",
       "Time:                     20:29:22\n",
       "--------------------------------------------------------------------\n",
       "No. of Equations:         2.00000    BIC:                    8.82807\n",
       "Nobs:                     300.000    HQIC:                   8.75402\n",
       "Log likelihood:          -2147.05    FPE:                    6030.69\n",
       "AIC:                      8.70461    Det(Omega_mle):         5834.59\n",
       "--------------------------------------------------------------------\n",
       "Results for equation GDP\n",
       "============================================================================\n",
       "               coefficient       std. error           t-stat            prob\n",
       "----------------------------------------------------------------------------\n",
       "const           -77.165421        33.445376           -2.307           0.021\n",
       "L1.GDP            1.308303         0.087759           14.908           0.000\n",
       "L1.UNRATE       117.252053        18.029142            6.503           0.000\n",
       "L2.GDP           -0.300402         0.088681           -3.387           0.001\n",
       "L2.UNRATE      -102.689363        18.275153           -5.619           0.000\n",
       "============================================================================\n",
       "\n",
       "Results for equation UNRATE\n",
       "============================================================================\n",
       "               coefficient       std. error           t-stat            prob\n",
       "----------------------------------------------------------------------------\n",
       "const             0.672413         0.169783            3.960           0.000\n",
       "L1.GDP           -0.001228         0.000446           -2.756           0.006\n",
       "L1.UNRATE         0.703736         0.091524            7.689           0.000\n",
       "L2.GDP            0.001240         0.000450            2.754           0.006\n",
       "L2.UNRATE         0.183231         0.092773            1.975           0.048\n",
       "============================================================================\n",
       "\n",
       "Correlation matrix of residuals\n",
       "               GDP    UNRATE\n",
       "GDP       1.000000 -0.806417\n",
       "UNRATE   -0.806417  1.000000\n",
       "\n"
      ]
     },
     "execution_count": 11,
     "metadata": {},
     "output_type": "execute_result"
    }
   ],
   "source": [
    "results.summary()"
   ]
  },
  {
   "cell_type": "markdown",
   "id": "ddd135ba",
   "metadata": {},
   "source": [
    "When modelling, we can see from the results that the relatiosnhip between the unemployment rate, gdp and the lagged variables are statistically significant for all coefficients. "
   ]
  }
 ],
 "metadata": {
  "kernelspec": {
   "display_name": "Python 3 (ipykernel)",
   "language": "python",
   "name": "python3"
  },
  "language_info": {
   "codemirror_mode": {
    "name": "ipython",
    "version": 3
   },
   "file_extension": ".py",
   "mimetype": "text/x-python",
   "name": "python",
   "nbconvert_exporter": "python",
   "pygments_lexer": "ipython3",
   "version": "3.10.9"
  }
 },
 "nbformat": 4,
 "nbformat_minor": 5
}
