{
 "cells": [
  {
   "cell_type": "markdown",
   "id": "683c0754",
   "metadata": {},
   "source": [
    "# Bond Pricing project"
   ]
  },
  {
   "cell_type": "markdown",
   "id": "ac661ef0",
   "metadata": {},
   "source": [
    "Bonds are a key financial instrument that are widely used in financial markets as a means to raise capital, they are commonly used by firms and governments. The price of a bond is the present value of the future cash flows, and is therefore sensitive to changes in interest rates. In this project, we will start by looking at bond types and bond ratings, then we will show the code for how to calculate the bond price, yield to maturity and duration. "
   ]
  },
  {
   "cell_type": "markdown",
   "id": "7bf62563",
   "metadata": {},
   "source": [
    "### Bond types "
   ]
  },
  {
   "cell_type": "markdown",
   "id": "4e5f9d30",
   "metadata": {},
   "source": [
    "There are several types of different bonds to be aware of:\n",
    "1. Government bonds - these are issued by governments and are considered to be the safest types of bonds.\n",
    "2. Corporate bonds - these are issued by firms as a way to raise capital, these offer high yields as a way to compensate for the additional risk.\n",
    "3. Municipal bonds - these are issued by state and local governments to fund public infrastructure, such as schools, highways and hospitals.\n",
    "4. High-yield bonds - these are also known as junk bonds, they are issued by companies with a higher risk of default. They offer higher yields to compensate for the additional risk.\n",
    "5. Convertible bonds - these are bonds which allow investors to convert bonds into a predetermined number of shares of the issuer's stock.\n",
    "6. Callable bonds - these allow the issuer to redeem the bonds before the maturity, typically at a premium price. \n",
    "7. Zero-coupon bonds - these are bonds which do not pay any interest but are sold at a discount to their face value. The return is the difference between the purchase price and the face value. \n",
    "8. Floating-rate bonds: These have a variable interest rate that is tied to a benchmark rate such as LIBOR. The interest rate is adjusted periodically to reflect changes in the benchmark rate.\n",
    "\n",
    "*Note: it is worth taking notice of the fact that not all these bonds are accurately priced by our model, as the bonds we value include interest payments, have a standard coupon rate, no early exercise option and no conversion to shares. For bonds with these factors, we would need to considered alternative models."
   ]
  },
  {
   "cell_type": "markdown",
   "id": "bff1c646",
   "metadata": {},
   "source": [
    "### Bond ratings"
   ]
  },
  {
   "cell_type": "markdown",
   "id": "1f672acc",
   "metadata": {},
   "source": [
    "Bond ratings are an indicator of likelihood of default by the issuer of the bond and are given by bond rating agencies. These agencies look at:\n",
    "* The strength of the issuer's balance sheet\n",
    "* Issuer's ability to make debt payments\n",
    "* The condition of the issuer's operations\n",
    "* Future economic outlook for the issuer\n",
    "* The current business conditions\n",
    "* The strength of the economy\n",
    "\n",
    "In general, the lower the bond rating, the higher the yield on the bond."
   ]
  },
  {
   "cell_type": "markdown",
   "id": "d56a287b",
   "metadata": {},
   "source": [
    "## Importing required libraries"
   ]
  },
  {
   "cell_type": "code",
   "execution_count": 92,
   "id": "2837273b",
   "metadata": {},
   "outputs": [],
   "source": [
    "import numpy as np\n",
    "import pandas as pd\n",
    "import matplotlib.pyplot as plt"
   ]
  },
  {
   "cell_type": "markdown",
   "id": "5b3781de",
   "metadata": {},
   "source": [
    "## Bond cash flow function"
   ]
  },
  {
   "cell_type": "code",
   "execution_count": 93,
   "id": "b6c92236",
   "metadata": {},
   "outputs": [],
   "source": [
    "def bond_cash_flows(face_value, coupon_rate, maturity, freq):\n",
    "    periods = maturity * freq \n",
    "    coupon_payment = (coupon_rate / freq) * face_value\n",
    "    coupon_payments = np.repeat(coupon_payment, periods) # Generates array of coupon payments for each period\n",
    "    coupon_payments[-1] += face_value # Adds face value payment to coupon_payments array\n",
    "    return coupon_payments"
   ]
  },
  {
   "cell_type": "code",
   "execution_count": 94,
   "id": "1ee9122c",
   "metadata": {},
   "outputs": [
    {
     "data": {
      "text/plain": [
       "array([  0.75,   0.75,   0.75,   0.75,   0.75,   0.75,   0.75,   0.75,\n",
       "         0.75,   0.75,   0.75,   0.75,   0.75,   0.75,   0.75, 100.75])"
      ]
     },
     "execution_count": 94,
     "metadata": {},
     "output_type": "execute_result"
    }
   ],
   "source": [
    "bond1 = bond_cash_flows(100, 0.03, 4, 4)\n",
    "\n",
    "bond_cash_flows(100, 0.03, 4, 4)"
   ]
  },
  {
   "cell_type": "markdown",
   "id": "a602be1f",
   "metadata": {},
   "source": [
    "This shows the coupon payments for an 4 year bond that pays four times a year, we can see the final face value payment and coupon payment at the end of our array. "
   ]
  },
  {
   "cell_type": "markdown",
   "id": "bd6c8e30",
   "metadata": {},
   "source": [
    "## Present-value function"
   ]
  },
  {
   "cell_type": "markdown",
   "id": "9e2b295e",
   "metadata": {},
   "source": [
    "In this next section, we generate a present-value function, which calculates the present value of the cash flows from the bond. "
   ]
  },
  {
   "cell_type": "code",
   "execution_count": 95,
   "id": "7ed87b8f",
   "metadata": {},
   "outputs": [],
   "source": [
    "def present_value(cash_flows, yield_rate, freq):\n",
    "    periods = len(cash_flows) \n",
    "    \n",
    "    # Creates an array which is a repeat of the first argument\n",
    "    discount_factors = np.repeat(1 + (yield_rate/freq), periods)\n",
    "    \n",
    "    # Sets each argument in the array to the negative power of the period number\n",
    "    discount_factors = np.power(discount_factors, -np.arange(1, periods + 1)) \n",
    "    \n",
    "    # Multiplies the two corresponding values together\n",
    "    return np.dot(cash_flows, discount_factors)"
   ]
  },
  {
   "cell_type": "markdown",
   "id": "ba7e0850",
   "metadata": {},
   "source": [
    "## Bond yield function"
   ]
  },
  {
   "cell_type": "code",
   "execution_count": 96,
   "id": "583ab0b1",
   "metadata": {},
   "outputs": [],
   "source": [
    "def bond_yield(coupon_rate, face_value, maturity, freq, bond_price, tol=0.0001, max_iter=100):\n",
    "    \n",
    "    # Calculates coupon and cash flows\n",
    "    coupon = (coupon_rate / freq) * face_value\n",
    "    cash_flows = bond_cash_flows(face_value, coupon_rate, maturity, freq)\n",
    "    \n",
    "    # Initial guess for yield\n",
    "    ytm = coupon /  bond_price\n",
    "    y_prev = 0.0\n",
    "    \n",
    "    # Loop to calculate ytm\n",
    "    for i in range(max_iter):\n",
    "        pv = present_value(cash_flows, ytm, freq)\n",
    "        y_next = ytm - (pv - bond_price) / bond_price * freq / (1 + ytm / freq)\n",
    "        \n",
    "        # If condition breaks loop if calculatio is within the tolerance\n",
    "        if abs(y_next - ytm) < tol:\n",
    "            ytm = y_next\n",
    "            break\n",
    "        else: \n",
    "            y_prev = ytm\n",
    "            ytm = y_next\n",
    "    \n",
    "    # Returns yield to maturity\n",
    "    return ytm"
   ]
  },
  {
   "cell_type": "code",
   "execution_count": 97,
   "id": "997498a4",
   "metadata": {},
   "outputs": [
    {
     "data": {
      "text/plain": [
       "-18646598869.082355"
      ]
     },
     "execution_count": 97,
     "metadata": {},
     "output_type": "execute_result"
    }
   ],
   "source": [
    "bond_yield(1500, 0.77, 10, 4, 10, tol=1e-6, max_iter=100)"
   ]
  },
  {
   "cell_type": "markdown",
   "id": "a38728c0",
   "metadata": {},
   "source": [
    "## Creating bond class"
   ]
  },
  {
   "cell_type": "code",
   "execution_count": 98,
   "id": "6b4d640b",
   "metadata": {},
   "outputs": [],
   "source": [
    "class Bond:\n",
    "    def __init__(self, face_value, coupon_rate, maturity, freq, bond_price):\n",
    "        self.face_value = face_value\n",
    "        self.coupon_rate = coupon_rate\n",
    "        self.maturity = maturity\n",
    "        self.freq = freq\n",
    "        self.bond_price = bond_price\n",
    "        self.cash_flows = bond_cash_flows(face_value, coupon_rate, maturity, freq)\n",
    "        \n",
    "    def price(self, yield_rate):\n",
    "        return present_value(self.cash_flows, yield_rate, self.freq)\n",
    "    \n",
    "    def yield_to_maturity(self):\n",
    "        return bond_yield(self.face_value, self.coupon_rate, self.maturity, self.freq, self.bond_price, tol=1e-6, max_iter=100)\n",
    "    \n",
    "    def duration(self, yield_rate):\n",
    "        periods = self.maturity * self.freq\n",
    "        discount_factors = np.repeat(1 + (yield_rate / self.freq), periods)\n",
    "        discount_factors = np.power(discount_factors, -np.arange(1, periods + 1))\n",
    "        present_values = np.dot(self.cash_flows, discount_factors) \n",
    "        weighted_values = present_values * np.arange(1, periods + 1) / self.freq\n",
    "        return sum(weighted_values) / self.bond_price\n",
    "        \n",
    "    def modify_coupon_rate(self, new_coupon_rate):\n",
    "        self.coupon_rate = new_coupon_rate\n",
    "        self.cash_flows = bond_cash_flows(self.face_value, self.coupon_rate, self.maturity, self.freq)\n",
    "\n",
    "    def modify_maturity(self, new_maturity):\n",
    "        self.maturity = new_maturity\n",
    "        self.cash_flows = bond_cash_flows(self.face_value, self.coupon_rate, self.maturity, self.freq)\n",
    "\n",
    "    def modify_yield(self, new_yield):\n",
    "        self.bond_price = present_value(self.cash_flows, new_yield, self.freq)"
   ]
  },
  {
   "cell_type": "markdown",
   "id": "36429c71",
   "metadata": {},
   "source": [
    "In our class, we have methods for calculating the bond price, the bond yield to maturity and the bond duration. The bond price is calculated from the present value of the future cash flows. The bond yield to maturity is calculated by using the Newton-Raphson method, but it can also be calculated from the equation below. Finally, the bond duration is the weighted average times until the bond's cash payments are received, it is a measure for the sensitivity of the bond to changes in the interest rate. \n",
    "\n",
    "Bond price equation:\n",
    "\n",
    "\n",
    "$$\n",
    "P = \\frac{C_1}{(1+y/f)} + \\frac{C_2}{(1+y/f)^2} + ... + \\frac{C_n + FV}{(1+y/f)^n}\n",
    "$$\n",
    "\n",
    "\n",
    "Bond yield to maturity equation:\n",
    "\n",
    "\n",
    "$$\n",
    "P = \\sum_{t=1}^{n} \\frac{C_t}{(1 + y)^t} + \\frac{FV}{(1 + y)^n}\n",
    "$$\n",
    "\n",
    "\n",
    "Bond duration equation:\n",
    "\n",
    "\n",
    "$$\\text{Duration}=\\frac{\\sum_{t=1}^T t\\times C_t}{P}\\times\\frac{1}{1+y/f}+\\frac{T\\times FV}{P\\times f\\times(1+y/f)^2}$$\n",
    "\n"
   ]
  },
  {
   "cell_type": "markdown",
   "id": "4d8c9152",
   "metadata": {},
   "source": [
    "## Testing the bond class"
   ]
  },
  {
   "cell_type": "code",
   "execution_count": 99,
   "id": "774055d7",
   "metadata": {},
   "outputs": [],
   "source": [
    "# Define parameters\n",
    "face_value = 1500\n",
    "coupon_rate = 0.07\n",
    "maturity = 10\n",
    "freq = 4\n",
    "yield_rate = 0.06\n",
    "bond_price = 1500"
   ]
  },
  {
   "cell_type": "code",
   "execution_count": 100,
   "id": "5dd0554c",
   "metadata": {},
   "outputs": [],
   "source": [
    "bond = Bond(face_value, coupon_rate, maturity, freq, bond_price)"
   ]
  },
  {
   "cell_type": "code",
   "execution_count": 101,
   "id": "4b0a4ed9",
   "metadata": {},
   "outputs": [
    {
     "name": "stdout",
     "output_type": "stream",
     "text": [
      "Bond price:  1612.184419515659\n"
     ]
    }
   ],
   "source": [
    "print(\"Bond price: \", bond.price(0.06))"
   ]
  },
  {
   "cell_type": "code",
   "execution_count": 102,
   "id": "7e2d5d66",
   "metadata": {},
   "outputs": [
    {
     "name": "stdout",
     "output_type": "stream",
     "text": [
      "Bond yield:  52.80941242246048\n"
     ]
    }
   ],
   "source": [
    "print(\"Bond yield: \", bond.yield_to_maturity())"
   ]
  },
  {
   "cell_type": "code",
   "execution_count": 103,
   "id": "2ba29249",
   "metadata": {},
   "outputs": [
    {
     "name": "stdout",
     "output_type": "stream",
     "text": [
      "Bond duration:  220.33187066714007\n"
     ]
    }
   ],
   "source": [
    "print(\"Bond duration: \", bond.duration(0.06))"
   ]
  }
 ],
 "metadata": {
  "kernelspec": {
   "display_name": "Python 3 (ipykernel)",
   "language": "python",
   "name": "python3"
  },
  "language_info": {
   "codemirror_mode": {
    "name": "ipython",
    "version": 3
   },
   "file_extension": ".py",
   "mimetype": "text/x-python",
   "name": "python",
   "nbconvert_exporter": "python",
   "pygments_lexer": "ipython3",
   "version": "3.9.13"
  }
 },
 "nbformat": 4,
 "nbformat_minor": 5
}
