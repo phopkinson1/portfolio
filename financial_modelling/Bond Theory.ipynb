{
 "cells": [
  {
   "cell_type": "markdown",
   "id": "a7bc8f6c",
   "metadata": {},
   "source": [
    "# Bond theory project"
   ]
  },
  {
   "cell_type": "markdown",
   "id": "1a398ad7",
   "metadata": {},
   "source": [
    "## Overview"
   ]
  },
  {
   "cell_type": "markdown",
   "id": "4cba2d2f",
   "metadata": {},
   "source": [
    "Bonds are a key financial instrument that are widely used in financial markets as a means to raise capital, they are commonly used by firms and governments. The price of a bond is the present value of the future cash flows, and is therefore sensitive to changes in interest rates. In this project, we will start by looking at bond types and bond ratings, then we will show the code for how to calculate the bond price and duration."
   ]
  },
  {
   "cell_type": "markdown",
   "id": "a0f2848f",
   "metadata": {},
   "source": [
    "### Bond types"
   ]
  },
  {
   "cell_type": "markdown",
   "id": "e4fd27f3",
   "metadata": {},
   "source": [
    "There are several types of different bonds to be aware of:\n",
    "* Government bonds - these are issued by governments and are considered to be the safest types of bonds.\n",
    "* Corporate bonds - these are issued by firms as a way to raise capital, these offer high yields as a way to compensate for the additional risk.\n",
    "* Municipal bonds - these are issued by state and local governments to fund public infrastructure, such as schools, highways and hospitals.\n",
    "* High-yield bonds - these are also known as junk bonds, they are issued by companies with a higher risk of default. They offer higher yields to compensate for the additional risk.\n",
    "* Convertible bonds - these are bonds which allow investors to convert bonds into a predetermined number of shares of the issuer's stock.\n",
    "* Callable bonds - these allow the issuer to redeem the bonds before the maturity, typically at a premium price.\n",
    "* Zero-coupon bonds - these are bonds which do not pay any interest but are sold at a discount to their face value. The return is the difference between the purchase price and the face value.\n",
    "* Floating-rate bonds: These have a variable interest rate that is tied to a benchmark rate such as LIBOR. The interest rate is adjusted periodically to reflect changes in the benchmark rate.\n",
    "\n",
    "*Note: it is worth taking notice of the fact that not all these bonds are accurately priced by our model, as the bonds we value include interest payments, have a standard coupon rate, no early exercise option and no conversion to shares. For bonds with these factors, we would need to consider alternative models.*"
   ]
  },
  {
   "cell_type": "markdown",
   "id": "2a293e2b",
   "metadata": {},
   "source": [
    "### Bond ratings"
   ]
  },
  {
   "cell_type": "markdown",
   "id": "4a60e437",
   "metadata": {},
   "source": [
    "Bond ratings are an indicator of likelihood of default by the issuer of the bond and are given by bond rating agencies. These agencies look at:\n",
    "* The strength of the issuer's balance sheet\n",
    "* Issuer's ability to make debt payments\n",
    "* The condition of the issuer's operations\n",
    "* Future economic outlook for the issuer\n",
    "* The current business conditions\n",
    "* The strength of the economy\n",
    "\n",
    "In general, the lower the bond rating, the higher the yield on the bond."
   ]
  },
  {
   "cell_type": "markdown",
   "id": "aaaed8b6",
   "metadata": {},
   "source": [
    "## Importing the required libraries"
   ]
  },
  {
   "cell_type": "code",
   "execution_count": 145,
   "id": "fcb3247f",
   "metadata": {},
   "outputs": [],
   "source": [
    "import numpy as np"
   ]
  },
  {
   "cell_type": "markdown",
   "id": "a30c11a0",
   "metadata": {},
   "source": [
    "## Bond class "
   ]
  },
  {
   "cell_type": "code",
   "execution_count": 149,
   "id": "fa214bbd",
   "metadata": {},
   "outputs": [],
   "source": [
    "class bond:\n",
    "    def __init__(self, face_value, maturity, freq, coupon_rate):\n",
    "        self.face_value = face_value\n",
    "        self.maturity = maturity\n",
    "        self.freq = freq\n",
    "        self.coupon_rate = coupon_rate\n",
    "        self.present_value = None\n",
    "        self.price = None\n",
    "    \n",
    "    def bond_price(self, yield_rate):\n",
    "        periods = self.freq * self.maturity\n",
    "        coupon_payment = self.face_value * self.coupon_rate / self.freq\n",
    "        coupon_payments = np.repeat(coupon_payment, periods)\n",
    "        coupon_payments[-1] += self.face_value\n",
    "        present_value = []\n",
    "        \n",
    "        for i in range(periods):\n",
    "            payment = coupon_payments[i] / ((1 + (yield_rate/self.freq))**(i+1))\n",
    "            present_value.append(payment)\n",
    "        \n",
    "        self.present_value = present_value\n",
    "        \n",
    "        self.price = sum(present_value)\n",
    "        \n",
    "        return self.price\n",
    "    \n",
    "    def duration(self):\n",
    "        period = self.maturity / self.freq\n",
    "        periods = self.maturity * self.freq\n",
    "        periods_ordered = np.linspace(period, self.maturity, periods)\n",
    "\n",
    "        duration = 0\n",
    "        for i in range(periods):\n",
    "            duration += self.present_value[i] * periods_ordered[i] / self.price\n",
    "        \n",
    "        return duration"
   ]
  },
  {
   "cell_type": "code",
   "execution_count": 150,
   "id": "7347156a",
   "metadata": {},
   "outputs": [],
   "source": [
    "bond = bond(1000, 5, 2, 0.05)"
   ]
  },
  {
   "cell_type": "code",
   "execution_count": 151,
   "id": "ef2d1eae",
   "metadata": {},
   "outputs": [
    {
     "data": {
      "text/plain": [
       "1142.069567960525"
      ]
     },
     "execution_count": 151,
     "metadata": {},
     "output_type": "execute_result"
    }
   ],
   "source": [
    "bond.bond_price(0.02)"
   ]
  },
  {
   "cell_type": "markdown",
   "id": "6b28c41d",
   "metadata": {},
   "source": [
    "## Bond duration calculation"
   ]
  },
  {
   "cell_type": "markdown",
   "id": "561910ae",
   "metadata": {},
   "source": [
    "Bond duration is how long it takes, in years, for an investor to be repaid a bond's price by the bond's total cash flows. Duration can be used to measure the sensitivity of a bond's or fixed income portfolio's price to changes in interest rates. "
   ]
  },
  {
   "cell_type": "markdown",
   "id": "54191f18",
   "metadata": {},
   "source": [
    "### Types of duration"
   ]
  },
  {
   "cell_type": "markdown",
   "id": "80cae3b1",
   "metadata": {},
   "source": [
    "The duration of a bond can refer to two different things, the Macaulay duration or the modified duration. The Macaulay duration is the weighted average time until all the bonds cash flows are paid. The modified duration is not measured in years, and measures the expected change in a bond's price to a 1% change in interest rates. \n",
    "\n",
    "**Macaulay Duration formula**\n",
    "\n",
    "$$ \n",
    "\\text{Macaulay duration} = \\frac{\\sum_{t=1}^{n} t \\times \\text{PV}(CF_t)}{\\sum_{t=1}^{n} \\text{PV}(CF_t)}\n",
    "$$\n",
    "\n",
    "\n",
    "**Modified Duration formula**\n",
    "\n",
    "$$\n",
    "\\text{Modified duration} = \\frac{\\text{Macaulay duration}}{1+\\frac{\\text{YTM}}{2}}\n",
    "$$\n",
    "\n",
    "*Note: there are other duration types for other bond types, such as effective duration for bonds with embedded options. These are not covered in this project.*"
   ]
  },
  {
   "cell_type": "code",
   "execution_count": 152,
   "id": "23a05165",
   "metadata": {},
   "outputs": [
    {
     "data": {
      "text/plain": [
       "4.736113550538354"
      ]
     },
     "execution_count": 152,
     "metadata": {},
     "output_type": "execute_result"
    }
   ],
   "source": [
    "bond.duration()"
   ]
  },
  {
   "cell_type": "markdown",
   "id": "1a8a9af0",
   "metadata": {},
   "source": [
    "### How is duration used?"
   ]
  },
  {
   "cell_type": "markdown",
   "id": "29e1e4a8",
   "metadata": {},
   "source": [
    "Investors need to be aware of two main risks that can affect a bonds investment value: credit risk (default) and interest rate risk (interest rate fluctuations). Duration is used to quantify the potential impact that these factors have on a bond's price because both factors will affect a bond's expected YTM.\n",
    "\n",
    "For example, if a company begins to struggle, investors will require a greater YTM to own the bonds. To raise the YTM, the bond's price must fall. The same factors apply if interest rates are rising."
   ]
  }
 ],
 "metadata": {
  "kernelspec": {
   "display_name": "Python 3 (ipykernel)",
   "language": "python",
   "name": "python3"
  },
  "language_info": {
   "codemirror_mode": {
    "name": "ipython",
    "version": 3
   },
   "file_extension": ".py",
   "mimetype": "text/x-python",
   "name": "python",
   "nbconvert_exporter": "python",
   "pygments_lexer": "ipython3",
   "version": "3.10.9"
  }
 },
 "nbformat": 4,
 "nbformat_minor": 5
}
