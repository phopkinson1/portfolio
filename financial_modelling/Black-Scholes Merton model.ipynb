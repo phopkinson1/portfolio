{
 "cells": [
  {
   "cell_type": "markdown",
   "id": "a2a8b2c4",
   "metadata": {},
   "source": [
    "# Black-Scholes Merton model"
   ]
  },
  {
   "cell_type": "markdown",
   "id": "5a45cf7e",
   "metadata": {},
   "source": [
    "## Overview"
   ]
  },
  {
   "cell_type": "markdown",
   "id": "4259a358",
   "metadata": {},
   "source": [
    "The Black-Scholes Merton model is a mathematical formula used to calculate the theoretical price of European call and put options, using various input parameters such as the current stock price, strike price, time to expiration, risk-free interest rate, and implied volatility. It is a widely used tool in finance for option pricing and has been instrumental in the development of the options market.\n",
    "\n",
    "In this project, we will be implementing the Black-Scholes Merton model in Python. We will start by discussing the assumptions behind the model, followed by an explanation of the formula used to calculate option prices. We will then show how to implement the model in Python using the NumPy and SciPy libraries, and provide an example of how to use the model to price a call option."
   ]
  },
  {
   "cell_type": "markdown",
   "id": "80d3419d",
   "metadata": {},
   "source": [
    "## Equations"
   ]
  },
  {
   "cell_type": "markdown",
   "id": "ec04549f",
   "metadata": {},
   "source": [
    "D1 and D2 equations\n",
    "\n",
    "$$d1 = \\frac{log(\\frac{S}{K}) + t \\cdot (r + (\\frac{\\sigma^{2}}{2}))}{(\\sigma\\sqrt{t})}$$\n",
    "        \n",
    "$$d2 = d1 - (\\sigma * \\sqrt{t})$$\n",
    "\n",
    "Call option price\n",
    "\n",
    "$$ \\text{Call price} = S \\cdot e^{-qt} \\cdot \\Phi(d_1) - K \\cdot e^{-rt} \\cdot \\Phi(d_2) $$\n",
    "\n",
    "Put option price\n",
    "$$ \\text{Put price} = (Ke^{-rt}\\Phi(-d_2)) - (Se^{-qt}\\Phi(-d_1))$$"
   ]
  },
  {
   "cell_type": "markdown",
   "id": "056109cf",
   "metadata": {},
   "source": [
    "## Assumptions"
   ]
  },
  {
   "cell_type": "markdown",
   "id": "344c0803",
   "metadata": {},
   "source": [
    "The BSM model makes a series of assumptions about the asset and its characteristics:\n",
    "* No dividends are paid out during the life of the option.\n",
    "* Markets are random (i.e., market movements cannot be predicted).\n",
    "* There are no transaction costs in buying the option.\n",
    "* The risk-free rate and volatility of the underlying asset are known and constant.\n",
    "* The returns of the underlying asset are normally distributed.\n",
    "* The option is European and can only be exercised at expiration."
   ]
  },
  {
   "cell_type": "markdown",
   "id": "b365e8e0",
   "metadata": {},
   "source": [
    "## Project code"
   ]
  },
  {
   "cell_type": "markdown",
   "id": "2af431f4",
   "metadata": {},
   "source": [
    "### Import of the required libraries"
   ]
  },
  {
   "cell_type": "markdown",
   "id": "51c4b993",
   "metadata": {},
   "source": [
    "To implement the required mathematical formulas, we import the `numpy` library and `scipy` library. The `scipy` library will be used to calculate the cumulative distribution functions of the standard normal distribution. Whilst, the `numpy` library will be used to implement the mathematical functions, such as the log, exponential and square root functions."
   ]
  },
  {
   "cell_type": "code",
   "execution_count": 1,
   "id": "c5400bfc",
   "metadata": {},
   "outputs": [],
   "source": [
    "import numpy as np\n",
    "from scipy.stats import norm"
   ]
  },
  {
   "cell_type": "markdown",
   "id": "489f6ac6",
   "metadata": {},
   "source": [
    "### Option price function"
   ]
  },
  {
   "cell_type": "markdown",
   "id": "bad9f6b4",
   "metadata": {},
   "source": [
    "In the function below, we use the Black-Scholes Merton and the standard Black-Scholes models to calculate option prices. We have the following standard parameters:\n",
    "* `S` is the stock price\n",
    "* `K` is the strike price\n",
    "* `sigma` is the volatility\n",
    "* `r` is the risk-free rate\n",
    "* `t` is the time to expiration in years\n",
    "* `option_type` is the type of option, either call or put\n",
    "\n",
    "We also have two additional optional parameters:\n",
    "* `dividend` is Boolean parameter used to indicate whether a stock pays out dividends or not, which is set to False as default.\n",
    "* `q` which is the expected dividend rate, which is set to None as default.\n",
    "\n",
    "These only need to be passed if the stock pays out a dividend.\n",
    "\n",
    "In the function below, the loops determine whether the stock pays out dividends and then uses the appropriate model to accurately price the option. The second loop determines whether the option is a put or call option to determine which formula to use. Both loops include a condition which outputs an error message if the respective argument isn't in the correct format."
   ]
  },
  {
   "cell_type": "code",
   "execution_count": 8,
   "id": "5d585521",
   "metadata": {},
   "outputs": [],
   "source": [
    "def option_price(S, K, sigma, r, t, option_type, dividend=False, q=None):\n",
    "    # Executes Black-Scholes Merton model\n",
    "    if dividend == True:\n",
    "        d1 = np.log(S/K) + t * (r + ((sigma**2)/2)) / (sigma * np.sqrt(t))\n",
    "        d2 = d1 - (sigma * np.sqrt(t))\n",
    "        \n",
    "        if option_type == 'call':\n",
    "            call_price = (S * np.exp(-q*t) * norm.cdf(d1)) - (K * np.exp(-r*t) * norm.cdf(d2))\n",
    "            return call_price\n",
    "        elif option_type == 'put':\n",
    "            put_price = (K * np.exp(-r*t) * norm.cdf(-d2)) - (S * np.exp(-q*t) * norm.cdf(-d1))\n",
    "            return put_price\n",
    "        else:\n",
    "            print('Please make sure you entered in either: \"call\" or \"put\" (case sensitive).')\n",
    "    # Executes Black-Scholes model\n",
    "    elif dividend == False:\n",
    "        d1 = np.log(S/K) + t*(r - q + ((sigma**2)/2)) / (sigma * np.sqrt(t))\n",
    "        d2 = d1 - (sigma * np.sqrt(t))\n",
    "        \n",
    "        if option_type == 'call':\n",
    "            call_price = (S * norm.cdf(d1)) - (K * np.exp(-r*t) * norm.cdf(d2))\n",
    "            return call_price\n",
    "        elif option_type == 'put':\n",
    "            put_price = (K * np.exp(-r*t) * norm.cdf(-d2)) - (S * norm.cdf(-d1))\n",
    "            return put_price\n",
    "        else:\n",
    "            print('Please make sure you entered in either: \"call\" or \"put\" (case sensitive).')\n",
    "    else:\n",
    "        print('Please double check you have entered the correct format for dividend: Boolean (True or False).')\n",
    "    "
   ]
  },
  {
   "cell_type": "markdown",
   "id": "6488be5a",
   "metadata": {},
   "source": [
    "### Function in practice"
   ]
  },
  {
   "cell_type": "code",
   "execution_count": 9,
   "id": "e4882dcc",
   "metadata": {},
   "outputs": [
    {
     "name": "stdout",
     "output_type": "stream",
     "text": [
      "Price:  41.601695383312\n"
     ]
    }
   ],
   "source": [
    "price = option_price(100, 105, 0.4, 0.02, 6, 'put', True, 0.06)\n",
    "print('Price: ', price)"
   ]
  },
  {
   "cell_type": "markdown",
   "id": "94e23284",
   "metadata": {},
   "source": [
    "## Main critiques "
   ]
  },
  {
   "cell_type": "markdown",
   "id": "755a59ee",
   "metadata": {},
   "source": [
    "The BSM model is used due to its simplicity, however it does have some key drawbacks which lie in the unrealistic nature of the assumptions. In particular, the measuring or estimation of the volatility paramerter, the model assumes it is constant and known in advance, however that is not the case. It has been found that (implicit) volatility patterns take many graphical forms, most observed being “volatility smiles”, “smirks” and “skews”. Garleanu, Pedersen and Poteshman (2009) study the implications of option demand on option prices and find that demand is a relevant predictor. \n",
    "\n",
    "When considering frictionless markets this is highly unrealistic and doesn't accurately reflect brokerage fees or liquidity risk. The model assumes a constant risk-free rate, which is once again highly unrealistic. "
   ]
  },
  {
   "cell_type": "markdown",
   "id": "31c4343a",
   "metadata": {},
   "source": [
    "#### References"
   ]
  },
  {
   "cell_type": "markdown",
   "id": "a1f81470",
   "metadata": {},
   "source": [
    "* Garleanu, N., Pedersen, L. H., & Poteshman, A. M. (2009). Demand-Based Option Pricing. The Review of\n",
    "Financial Studies , 22 (10), 4260-4299.\n",
    "* Matei, E. (n.d.). ‘Black-Scholes-Merton approach -merits and shortcomings’. [online] Available at: \n",
    "https://www1.essex.ac.uk/economics/documents/eesj/matei.pdf."
   ]
  }
 ],
 "metadata": {
  "kernelspec": {
   "display_name": "Python 3 (ipykernel)",
   "language": "python",
   "name": "python3"
  },
  "language_info": {
   "codemirror_mode": {
    "name": "ipython",
    "version": 3
   },
   "file_extension": ".py",
   "mimetype": "text/x-python",
   "name": "python",
   "nbconvert_exporter": "python",
   "pygments_lexer": "ipython3",
   "version": "3.9.13"
  }
 },
 "nbformat": 4,
 "nbformat_minor": 5
}
