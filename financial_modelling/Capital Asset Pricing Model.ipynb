{
 "cells": [
  {
   "cell_type": "markdown",
   "id": "14887295",
   "metadata": {},
   "source": [
    "# Capital asset pricing model (CAPM)"
   ]
  },
  {
   "cell_type": "markdown",
   "id": "04441499",
   "metadata": {},
   "source": [
    "## Types of risk"
   ]
  },
  {
   "cell_type": "markdown",
   "id": "565b11ad",
   "metadata": {},
   "source": [
    "Systematic and unsystematic risk are two types of risk that investors face when they make decisions in the financial markets. \n",
    "\n",
    "**Systematic risk**, is the risk that is inherent in the whole market or economy, this risk is faced by all financial instruments and cannot be eliminated using diversification. Examples of systematic risk are interest rate changes, political change, natural disasters, inflation and most recently a global pandemic.\n",
    "\n",
    "**Unsystematic Risk**, is the risk that is particular to an individual security or company, this risk can be reduced or eliminated through diversification. Examples of unsystematic risk are management changes, product recalls and negative publicity."
   ]
  },
  {
   "cell_type": "markdown",
   "id": "bc75bf6d",
   "metadata": {},
   "source": [
    "## Capital asset pricing model formula"
   ]
  },
  {
   "cell_type": "markdown",
   "id": "3d488b73",
   "metadata": {},
   "source": [
    "**Capital asset pricing model (CAPM) formula**\n",
    "\n",
    "$$E(R_{i}) = R_f + \\beta_{i}(E(R_m) - R_f)$$\n",
    "\n",
    "Where:\n",
    "* E(R_{i}) is the expected return of the security i\n",
    "* R_f is the risk-free rate of return\n",
    "* β_1 is the beta coefficient of the security\n",
    "* E(R_{m}) is the expected return of the market portfolio\n",
    "\n",
    "**β (Beta) coefficient formula**\n",
    "\n",
    "$$\\beta = \\frac{cov(r_i, r_m)}{var(r_m)}$$\n",
    "\n",
    "The β coefficient represents the systematic risk of a security or portfolio in comparison to the market as a whole. Beta measures the sensitivity of the portfolio or security to changes in the market returns. Beta values to consider:\n",
    "* β = 1 - indicates the asset shares the same volatility as the market. \n",
    "* β > 1 - indicates that the asset is more volatile than the market.\n",
    "* β < 1 - indicates that the asset is less volatile than the market.\n",
    "\n",
    "By selecting securities with betas that align with their risk tolerance and investment objectives, investors can build a diversified portfolio that balances risk and return."
   ]
  },
  {
   "cell_type": "markdown",
   "id": "c1a931d7",
   "metadata": {},
   "source": [
    "## Python programming for the CAPM model"
   ]
  },
  {
   "cell_type": "markdown",
   "id": "c460caab",
   "metadata": {},
   "source": [
    "### Import the required libraries"
   ]
  },
  {
   "cell_type": "markdown",
   "id": "cd9167cb",
   "metadata": {},
   "source": [
    "This Python code imports several libraries for data analysis and visualization, which are commonly used in finance, economics, and other fields that deal with data analysis and modeling.\n",
    "* `numpy` is a library used for mathematical operations.\n",
    "* `pandas` is a library used for data manipulation and analysis. It will allow us to import the stock data into DataFrames and manipulate the data. \n",
    "* `yfinance` is a library used for retrieving financial data from Yahoo Finance, this will allow us to import the relevant stock and market data for the CAPM. \n",
    "* `matplotlib.pyplot` is a plotting library used for data visualization.\n",
    "* `seaborn` is a plotting library used for data visualization.\n",
    "* `statsmodels.api` is a library used for statistical data analysis, from which we will use the linear regression model."
   ]
  },
  {
   "cell_type": "code",
   "execution_count": 125,
   "id": "af7c4968",
   "metadata": {},
   "outputs": [],
   "source": [
    "import numpy as np\n",
    "import pandas as pd\n",
    "import yfinance as yf\n",
    "import matplotlib.pyplot as plt\n",
    "import statsmodels.api as sm\n",
    "import seaborn as sns"
   ]
  },
  {
   "cell_type": "markdown",
   "id": "9cdb7b3a",
   "metadata": {},
   "source": [
    "### Capital Asset Pricing Model class"
   ]
  },
  {
   "cell_type": "code",
   "execution_count": 126,
   "id": "1eec6673",
   "metadata": {},
   "outputs": [],
   "source": [
    "class CAPM():\n",
    "    \n",
    "    def __init__(self, stocks, start_date, end_date):\n",
    "        self.data = None\n",
    "        self.stocks = stocks\n",
    "        self.start_date = start_date\n",
    "        self.end_date = end_date\n",
    "        self.alpha = None\n",
    "        self.beta = None\n",
    "        \n",
    "    def download_data(self):\n",
    "        \n",
    "        # Data dictionary with key as stock and value as price data\n",
    "        data = {}\n",
    "        \n",
    "        for stock in self.stocks:\n",
    "            if '^' in stock:\n",
    "                ticker = yf.download(stock, self.start_date, self.end_date)\n",
    "            else:\n",
    "                ticker = yf.download(stock, self.start_date, self.end_date)\n",
    "            data[stock] = ticker['Adj Close']\n",
    "        \n",
    "        return pd.DataFrame(data)\n",
    "    \n",
    "    def initialize(self):\n",
    "        \n",
    "        stocks = self.download_data()\n",
    "        \n",
    "        stocks = stocks.resample('M').last() \n",
    "        \n",
    "        self.data = pd.DataFrame({'s_adjclose':stocks[self.stocks[0]], \n",
    "                                  'm_adjclose':stocks[self.stocks[1]]})\n",
    "        \n",
    "        # logarithmic monthly returns\n",
    "        self.data[['s_returns', 'm_returns']] = np.log((self.data[['s_adjclose', 'm_adjclose']] / \n",
    "                                                     self.data[['s_adjclose', 'm_adjclose']].shift(1)))\n",
    "        \n",
    "        # Removes NaN values from zero division\n",
    "        self.data = self.data[1:]\n",
    "        \n",
    "        return self.data\n",
    "    \n",
    "    def calculate_beta(self, method='linear_regression'):\n",
    "        # Makes sure the data gets downloaded if initialize hasn't been run\n",
    "        if not isinstance(self.data, pd.DataFrame):\n",
    "            print(\"\\nDownloading stock data...\\n\")\n",
    "            self.initialize()\n",
    "            print(\"\\nData downloaded successfully!\\n\")\n",
    "        \n",
    "        # Loop for method type\n",
    "        if method == \"covariance_approach\":\n",
    "            cov_matrix = np.cov(self.data['s_returns'], self.data['m_returns'])\n",
    "            market_var = np.var(self.data['m_returns'])\n",
    "            \n",
    "            beta = cov_matrix[0, 1] / market_var\n",
    "            self.beta = beta\n",
    "            \n",
    "            # Print statements\n",
    "            print('\\n###########################################\\n')\n",
    "            print('# Beta coefficient')\n",
    "            print('\\n###########################################\\n')\n",
    "            print('Output: ', beta)\n",
    "        elif method == \"linear_regression\":\n",
    "            # Linear regression - sm fit\n",
    "            X = sm.add_constant(self.data['m_returns'])\n",
    "            model = sm.OLS(self.data['s_returns'], X)\n",
    "            results = model.fit()\n",
    "            \n",
    "            # Model parameters\n",
    "            alpha = results.params[0]\n",
    "            beta = results.params[1]\n",
    "            \n",
    "            # Store alpha as an attribute of the CAPM class\n",
    "            self.alpha = alpha\n",
    "            self.beta = beta\n",
    "            \n",
    "            # Print statements\n",
    "            print('\\n###########################################\\n')\n",
    "            print('# Linear regression method parameters')\n",
    "            print('\\n###########################################\\n')\n",
    "            print('Alpha coefficient: ', alpha)\n",
    "            print('Beta coefficient: ', beta)\n",
    "        else:\n",
    "            raise ValueError(\"Invalid method variable name. Choose either 'covariance_approach' or 'linear_regression'\")\n",
    "            \n",
    "    def expected_return(self, risk_free_rate):\n",
    "        # Makes sure the data gets downloaded\n",
    "        if not isinstance(self.data, pd.DataFrame):\n",
    "            print(\"\\nDownloading stock data...\\n\")\n",
    "            self.initialize()\n",
    "            print(\"\\nData downloaded successfully!\\n\")\n",
    "        \n",
    "        # Exception handling - Risk Free Rate\n",
    "        if not 0 <= risk_free_rate <= 1:\n",
    "            raise ValueError(\"Risk-free rate must express the percentage in decimal form between 0 and 1.\")\n",
    "            \n",
    "        # Calculates expected return - double checking \n",
    "        if self.beta == None:\n",
    "            self.calculate_beta()\n",
    "            expected_return = risk_free_rate * self.beta * (self.data['m_returns'].mean()*12 - risk_free_rate)\n",
    "            print('\\n###########################################\\n')\n",
    "            print('# Expected return \\n')\n",
    "            print('###########################################\\n')\n",
    "            print('Output: ', expected_return)\n",
    "        else:\n",
    "            expected_return = risk_free_rate * self.beta * (self.data['m_returns'].mean()*12 - risk_free_rate)\n",
    "            print('\\n###########################################\\n')\n",
    "            print('# Expected return \\n')\n",
    "            print('###########################################\\n')\n",
    "            print('Output: ', expected_return)\n",
    "            \n",
    "    def regression_plot(self):\n",
    "        # Condition to check if data has been downloaded\n",
    "        if not isinstance(self.data, pd.DataFrame):\n",
    "            print(\"\\nDownloading stock data...\\n\")\n",
    "            self.initialize()\n",
    "            print(\"\\nData downloaded successfully!\\n\")\n",
    "        \n",
    "        # Condition to check if alpha or beta have been calculated\n",
    "        if self.beta is None or self.alpha is None:\n",
    "            self.calculate_beta()\n",
    "            \n",
    "        # Set figure size\n",
    "        plt.figure(figsize = (13,9))\n",
    "        \n",
    "        # Set visualisations - scatter and CAPM regression line\n",
    "        sns.scatterplot(y='s_returns', x='m_returns', data=self.data)\n",
    "        sns.lineplot(x=self.data['m_returns'], y=self.alpha + self.beta*self.data['m_returns'], color='red')\n",
    "        \n",
    "        # Show grid\n",
    "        plt.grid(True)\n",
    "        \n",
    "        # Labels and returns\n",
    "        plt.xlabel('Market returns')\n",
    "        plt.ylabel('Asset returns')\n",
    "        plt.title('Capital Asset Pricing Model - Linear Regression fit')\n",
    "        \n",
    "        # Display\n",
    "        plt.show()\n",
    "        "
   ]
  },
  {
   "cell_type": "code",
   "execution_count": 127,
   "id": "2840ce86",
   "metadata": {},
   "outputs": [],
   "source": [
    "stock_and_market = ['AMZN', '^GSPC']\n",
    "camp = CAPM(stock_and_market, '2015-01-01', '2019-01-01')"
   ]
  },
  {
   "cell_type": "code",
   "execution_count": 128,
   "id": "b747584d",
   "metadata": {},
   "outputs": [
    {
     "name": "stdout",
     "output_type": "stream",
     "text": [
      "\n",
      "Downloading stock data...\n",
      "\n",
      "[*********************100%***********************]  1 of 1 completed\n",
      "[*********************100%***********************]  1 of 1 completed\n",
      "\n",
      "Data downloaded successfully!\n",
      "\n",
      "\n",
      "###########################################\n",
      "\n",
      "# Linear regression method parameters\n",
      "\n",
      "###########################################\n",
      "\n",
      "Alpha coefficient:  0.022119332907151987\n",
      "Beta coefficient:  1.7694945701390947\n"
     ]
    }
   ],
   "source": [
    "camp.calculate_beta()"
   ]
  },
  {
   "cell_type": "code",
   "execution_count": 129,
   "id": "2757b99d",
   "metadata": {},
   "outputs": [
    {
     "name": "stdout",
     "output_type": "stream",
     "text": [
      "\n",
      "###########################################\n",
      "\n",
      "# Expected return \n",
      "\n",
      "###########################################\n",
      "\n",
      "Output:  0.001355851414018974\n"
     ]
    }
   ],
   "source": [
    "camp.expected_return(risk_free_rate=0.02)"
   ]
  },
  {
   "cell_type": "code",
   "execution_count": 130,
   "id": "3f68d0b0",
   "metadata": {},
   "outputs": [
    {
     "data": {
      "image/png": "[encoded data removed]",
      "text/plain": [
       "<Figure size 1300x900 with 1 Axes>"
      ]
     },
     "metadata": {},
     "output_type": "display_data"
    }
   ],
   "source": [
    "camp.regression_plot()"
   ]
  }
 ],
 "metadata": {
  "kernelspec": {
   "display_name": "Python 3 (ipykernel)",
   "language": "python",
   "name": "python3"
  },
  "language_info": {
   "codemirror_mode": {
    "name": "ipython",
    "version": 3
   },
   "file_extension": ".py",
   "mimetype": "text/x-python",
   "name": "python",
   "nbconvert_exporter": "python",
   "pygments_lexer": "ipython3",
   "version": "3.9.13"
  }
 },
 "nbformat": 4,
 "nbformat_minor": 5
}
