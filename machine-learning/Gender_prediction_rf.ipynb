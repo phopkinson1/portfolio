{
 "cells": [
  {
   "cell_type": "markdown",
   "id": "a8f5c231",
   "metadata": {},
   "source": [
    "# Random Forest Classification - Gender Prediction"
   ]
  },
  {
   "cell_type": "markdown",
   "id": "96d8aabf",
   "metadata": {},
   "source": [
    "For this project, I utilized the random forest algorithm to predict the gender of individuals. To achieve this, I used a dataset from Kaggle, which can be accessed using the link provided below.\n",
    "\n",
    "URL - https://www.kaggle.com/datasets/muhammadtalharasool/simple-gender-classification"
   ]
  },
  {
   "cell_type": "markdown",
   "id": "5bcedf88",
   "metadata": {},
   "source": [
    "## Import of libraries"
   ]
  },
  {
   "cell_type": "code",
   "execution_count": 152,
   "id": "08bc7e32",
   "metadata": {},
   "outputs": [],
   "source": [
    "import pandas as pd\n",
    "import numpy as np\n",
    "from sklearn.ensemble import RandomForestClassifier\n",
    "from sklearn.model_selection import train_test_split\n",
    "from sklearn.metrics import accuracy_score, f1_score, recall_score, precision_score"
   ]
  },
  {
   "cell_type": "markdown",
   "id": "c41826dd",
   "metadata": {},
   "source": [
    "## Importation of dataset"
   ]
  },
  {
   "cell_type": "code",
   "execution_count": 153,
   "id": "c0cb6e3e",
   "metadata": {
    "scrolled": true
   },
   "outputs": [],
   "source": [
    "gender_df = pd.read_csv(r\"C:\\Users\\pjhop\\OneDrive\\Documents\\Programming & Coding\\Python\\Projects\\Datasets\\gender.csv\")"
   ]
  },
  {
   "cell_type": "markdown",
   "id": "a9d836b9",
   "metadata": {},
   "source": [
    "## Exploratory Data Analysis"
   ]
  },
  {
   "cell_type": "code",
   "execution_count": 154,
   "id": "04cc6c5b",
   "metadata": {},
   "outputs": [
    {
     "data": {
      "text/html": [
       "<div>\n",
       "<style scoped>\n",
       "    .dataframe tbody tr th:only-of-type {\n",
       "        vertical-align: middle;\n",
       "    }\n",
       "\n",
       "    .dataframe tbody tr th {\n",
       "        vertical-align: top;\n",
       "    }\n",
       "\n",
       "    .dataframe thead th {\n",
       "        text-align: right;\n",
       "    }\n",
       "</style>\n",
       "<table border=\"1\" class=\"dataframe\">\n",
       "  <thead>\n",
       "    <tr style=\"text-align: right;\">\n",
       "      <th></th>\n",
       "      <th>Gender</th>\n",
       "      <th>Age</th>\n",
       "      <th>Height (cm)</th>\n",
       "      <th>Weight (kg)</th>\n",
       "      <th>Occupation</th>\n",
       "      <th>Education Level</th>\n",
       "      <th>Marital Status</th>\n",
       "      <th>Income (USD)</th>\n",
       "      <th>Favorite Color</th>\n",
       "      <th>Unnamed: 9</th>\n",
       "    </tr>\n",
       "  </thead>\n",
       "  <tbody>\n",
       "    <tr>\n",
       "      <th>0</th>\n",
       "      <td>male</td>\n",
       "      <td>32</td>\n",
       "      <td>175</td>\n",
       "      <td>70</td>\n",
       "      <td>Software Engineer</td>\n",
       "      <td>Master's Degree</td>\n",
       "      <td>Married</td>\n",
       "      <td>75000</td>\n",
       "      <td>Blue</td>\n",
       "      <td>NaN</td>\n",
       "    </tr>\n",
       "    <tr>\n",
       "      <th>1</th>\n",
       "      <td>male</td>\n",
       "      <td>25</td>\n",
       "      <td>182</td>\n",
       "      <td>85</td>\n",
       "      <td>Sales Representative</td>\n",
       "      <td>Bachelor's Degree</td>\n",
       "      <td>Single</td>\n",
       "      <td>45000</td>\n",
       "      <td>Green</td>\n",
       "      <td>NaN</td>\n",
       "    </tr>\n",
       "    <tr>\n",
       "      <th>2</th>\n",
       "      <td>female</td>\n",
       "      <td>41</td>\n",
       "      <td>160</td>\n",
       "      <td>62</td>\n",
       "      <td>Doctor</td>\n",
       "      <td>Doctorate Degree</td>\n",
       "      <td>Married</td>\n",
       "      <td>120000</td>\n",
       "      <td>Purple</td>\n",
       "      <td>NaN</td>\n",
       "    </tr>\n",
       "    <tr>\n",
       "      <th>3</th>\n",
       "      <td>male</td>\n",
       "      <td>38</td>\n",
       "      <td>178</td>\n",
       "      <td>79</td>\n",
       "      <td>Lawyer</td>\n",
       "      <td>Bachelor's Degree</td>\n",
       "      <td>Single</td>\n",
       "      <td>90000</td>\n",
       "      <td>Red</td>\n",
       "      <td>NaN</td>\n",
       "    </tr>\n",
       "    <tr>\n",
       "      <th>4</th>\n",
       "      <td>female</td>\n",
       "      <td>29</td>\n",
       "      <td>165</td>\n",
       "      <td>58</td>\n",
       "      <td>Graphic Designer</td>\n",
       "      <td>Associate's Degree</td>\n",
       "      <td>Single</td>\n",
       "      <td>35000</td>\n",
       "      <td>Yellow</td>\n",
       "      <td>NaN</td>\n",
       "    </tr>\n",
       "  </tbody>\n",
       "</table>\n",
       "</div>"
      ],
      "text/plain": [
       "    Gender   Age   Height (cm)   Weight (kg)             Occupation  \\\n",
       "0     male    32           175            70      Software Engineer   \n",
       "1     male    25           182            85   Sales Representative   \n",
       "2   female    41           160            62                 Doctor   \n",
       "3     male    38           178            79                 Lawyer   \n",
       "4   female    29           165            58       Graphic Designer   \n",
       "\n",
       "       Education Level  Marital Status   Income (USD)  Favorite Color  \\\n",
       "0      Master's Degree         Married          75000            Blue   \n",
       "1    Bachelor's Degree          Single          45000           Green   \n",
       "2     Doctorate Degree         Married         120000          Purple   \n",
       "3    Bachelor's Degree          Single          90000             Red   \n",
       "4   Associate's Degree          Single          35000          Yellow   \n",
       "\n",
       "   Unnamed: 9  \n",
       "0         NaN  \n",
       "1         NaN  \n",
       "2         NaN  \n",
       "3         NaN  \n",
       "4         NaN  "
      ]
     },
     "execution_count": 154,
     "metadata": {},
     "output_type": "execute_result"
    }
   ],
   "source": [
    "gender_df.head()"
   ]
  },
  {
   "cell_type": "markdown",
   "id": "c09d78f4",
   "metadata": {},
   "source": [
    "Here we can see that there is one column which has no significance or meaning and we therefore drop this column in the next step."
   ]
  },
  {
   "cell_type": "code",
   "execution_count": 155,
   "id": "3fdcdea2",
   "metadata": {},
   "outputs": [],
   "source": [
    "gender_df = gender_df.drop(['Unnamed: 9'], axis=1)"
   ]
  },
  {
   "cell_type": "code",
   "execution_count": 156,
   "id": "86047933",
   "metadata": {
    "scrolled": true
   },
   "outputs": [
    {
     "data": {
      "text/html": [
       "<div>\n",
       "<style scoped>\n",
       "    .dataframe tbody tr th:only-of-type {\n",
       "        vertical-align: middle;\n",
       "    }\n",
       "\n",
       "    .dataframe tbody tr th {\n",
       "        vertical-align: top;\n",
       "    }\n",
       "\n",
       "    .dataframe thead th {\n",
       "        text-align: right;\n",
       "    }\n",
       "</style>\n",
       "<table border=\"1\" class=\"dataframe\">\n",
       "  <thead>\n",
       "    <tr style=\"text-align: right;\">\n",
       "      <th></th>\n",
       "      <th>Gender</th>\n",
       "      <th>Age</th>\n",
       "      <th>Height (cm)</th>\n",
       "      <th>Weight (kg)</th>\n",
       "      <th>Occupation</th>\n",
       "      <th>Education Level</th>\n",
       "      <th>Marital Status</th>\n",
       "      <th>Income (USD)</th>\n",
       "      <th>Favorite Color</th>\n",
       "    </tr>\n",
       "  </thead>\n",
       "  <tbody>\n",
       "    <tr>\n",
       "      <th>0</th>\n",
       "      <td>male</td>\n",
       "      <td>32</td>\n",
       "      <td>175</td>\n",
       "      <td>70</td>\n",
       "      <td>Software Engineer</td>\n",
       "      <td>Master's Degree</td>\n",
       "      <td>Married</td>\n",
       "      <td>75000</td>\n",
       "      <td>Blue</td>\n",
       "    </tr>\n",
       "    <tr>\n",
       "      <th>1</th>\n",
       "      <td>male</td>\n",
       "      <td>25</td>\n",
       "      <td>182</td>\n",
       "      <td>85</td>\n",
       "      <td>Sales Representative</td>\n",
       "      <td>Bachelor's Degree</td>\n",
       "      <td>Single</td>\n",
       "      <td>45000</td>\n",
       "      <td>Green</td>\n",
       "    </tr>\n",
       "    <tr>\n",
       "      <th>2</th>\n",
       "      <td>female</td>\n",
       "      <td>41</td>\n",
       "      <td>160</td>\n",
       "      <td>62</td>\n",
       "      <td>Doctor</td>\n",
       "      <td>Doctorate Degree</td>\n",
       "      <td>Married</td>\n",
       "      <td>120000</td>\n",
       "      <td>Purple</td>\n",
       "    </tr>\n",
       "    <tr>\n",
       "      <th>3</th>\n",
       "      <td>male</td>\n",
       "      <td>38</td>\n",
       "      <td>178</td>\n",
       "      <td>79</td>\n",
       "      <td>Lawyer</td>\n",
       "      <td>Bachelor's Degree</td>\n",
       "      <td>Single</td>\n",
       "      <td>90000</td>\n",
       "      <td>Red</td>\n",
       "    </tr>\n",
       "    <tr>\n",
       "      <th>4</th>\n",
       "      <td>female</td>\n",
       "      <td>29</td>\n",
       "      <td>165</td>\n",
       "      <td>58</td>\n",
       "      <td>Graphic Designer</td>\n",
       "      <td>Associate's Degree</td>\n",
       "      <td>Single</td>\n",
       "      <td>35000</td>\n",
       "      <td>Yellow</td>\n",
       "    </tr>\n",
       "  </tbody>\n",
       "</table>\n",
       "</div>"
      ],
      "text/plain": [
       "    Gender   Age   Height (cm)   Weight (kg)             Occupation  \\\n",
       "0     male    32           175            70      Software Engineer   \n",
       "1     male    25           182            85   Sales Representative   \n",
       "2   female    41           160            62                 Doctor   \n",
       "3     male    38           178            79                 Lawyer   \n",
       "4   female    29           165            58       Graphic Designer   \n",
       "\n",
       "       Education Level  Marital Status   Income (USD)  Favorite Color  \n",
       "0      Master's Degree         Married          75000            Blue  \n",
       "1    Bachelor's Degree          Single          45000           Green  \n",
       "2     Doctorate Degree         Married         120000          Purple  \n",
       "3    Bachelor's Degree          Single          90000             Red  \n",
       "4   Associate's Degree          Single          35000          Yellow  "
      ]
     },
     "execution_count": 156,
     "metadata": {},
     "output_type": "execute_result"
    }
   ],
   "source": [
    "gender_df.head()"
   ]
  },
  {
   "cell_type": "code",
   "execution_count": 157,
   "id": "edec0613",
   "metadata": {},
   "outputs": [
    {
     "data": {
      "text/plain": [
       "Index([' Gender', ' Age', ' Height (cm)', ' Weight (kg)', ' Occupation',\n",
       "       ' Education Level', ' Marital Status', ' Income (USD)',\n",
       "       ' Favorite Color'],\n",
       "      dtype='object')"
      ]
     },
     "execution_count": 157,
     "metadata": {},
     "output_type": "execute_result"
    }
   ],
   "source": [
    "gender_df.columns"
   ]
  },
  {
   "cell_type": "markdown",
   "id": "bffec758",
   "metadata": {},
   "source": [
    "From this inspection of the column names, we can see that the column name strings contain whitespace, this is a potential problem because it prevents us from calling the columns using dot notation. Therefore, we remove this whitespace using the code below."
   ]
  },
  {
   "cell_type": "code",
   "execution_count": 158,
   "id": "4144f3b1",
   "metadata": {
    "scrolled": true
   },
   "outputs": [
    {
     "data": {
      "text/plain": [
       "Index(['Gender', 'Age', 'Height (cm)', 'Weight (kg)', 'Occupation',\n",
       "       'Education Level', 'Marital Status', 'Income (USD)', 'Favorite Color'],\n",
       "      dtype='object')"
      ]
     },
     "execution_count": 158,
     "metadata": {},
     "output_type": "execute_result"
    }
   ],
   "source": [
    "gender_df = gender_df.rename(columns=lambda x: x.strip())\n",
    "gender_df.columns"
   ]
  },
  {
   "cell_type": "code",
   "execution_count": 159,
   "id": "80752280",
   "metadata": {
    "scrolled": true
   },
   "outputs": [
    {
     "data": {
      "text/plain": [
       "array([' male', ' female', 'male', 'female'], dtype=object)"
      ]
     },
     "execution_count": 159,
     "metadata": {},
     "output_type": "execute_result"
    }
   ],
   "source": [
    "gender_df['Gender'].unique()"
   ]
  },
  {
   "cell_type": "code",
   "execution_count": 160,
   "id": "84a3285e",
   "metadata": {},
   "outputs": [
    {
     "data": {
      "text/plain": [
       "array([32, 25, 41, 38, 29, 45, 27, 52, 31, 36, 24, 44, 28, 33, 37, 26, 40,\n",
       "       47, 35, 42, 49, 30, 39, 34, 43], dtype=int64)"
      ]
     },
     "execution_count": 160,
     "metadata": {},
     "output_type": "execute_result"
    }
   ],
   "source": [
    "gender_df['Age'].unique()"
   ]
  },
  {
   "cell_type": "code",
   "execution_count": 161,
   "id": "f22beb71",
   "metadata": {},
   "outputs": [
    {
     "data": {
      "text/plain": [
       "array([175, 182, 160, 178, 165, 190, 163, 179, 168, 177, 162, 183, 166,\n",
       "       181, 170, 176, 169, 187, 172, 180, 167, 185, 188, 174, 164, 186,\n",
       "       184], dtype=int64)"
      ]
     },
     "execution_count": 161,
     "metadata": {},
     "output_type": "execute_result"
    }
   ],
   "source": [
    "gender_df['Height (cm)'].unique()"
   ]
  },
  {
   "cell_type": "code",
   "execution_count": 162,
   "id": "412d9bd7",
   "metadata": {},
   "outputs": [
    {
     "data": {
      "text/plain": [
       "array([' Software Engineer', ' Sales Representative', ' Doctor',\n",
       "       ' Lawyer', ' Graphic Designer', ' Business Consultant',\n",
       "       ' Marketing Specialist', ' CEO', ' Project Manager', ' Engineer',\n",
       "       ' Accountant', ' Architect', ' Nurse', ' Analyst', ' Teacher',\n",
       "       ' IT Manager', ' Writer', ' Business Analyst', 'Engineer',\n",
       "       'Teacher', 'Doctor', 'Graphic Designer', 'IT Manager',\n",
       "       'Sales Representative', 'Lawyer', 'Marketing Specialist',\n",
       "       'Project Manager', 'Writer', 'Architect', 'Nurse',\n",
       "       'Business Analyst', 'Accountant', 'CEO', 'Analyst',\n",
       "       'Software Developer'], dtype=object)"
      ]
     },
     "execution_count": 162,
     "metadata": {},
     "output_type": "execute_result"
    }
   ],
   "source": [
    "gender_df['Occupation'].unique()"
   ]
  },
  {
   "cell_type": "code",
   "execution_count": 163,
   "id": "2a1fc6ae",
   "metadata": {},
   "outputs": [
    {
     "data": {
      "text/plain": [
       "array([\" Master's Degree\", \" Bachelor's Degree\", ' Doctorate Degree',\n",
       "       \" Associate's Degree\", \"Master's Degree\", \"Bachelor's Degree\",\n",
       "       'Doctorate Degree', \"Associate's Degree\"], dtype=object)"
      ]
     },
     "execution_count": 163,
     "metadata": {},
     "output_type": "execute_result"
    }
   ],
   "source": [
    "gender_df['Education Level'].unique()"
   ]
  },
  {
   "cell_type": "code",
   "execution_count": 164,
   "id": "8d19c0b0",
   "metadata": {},
   "outputs": [
    {
     "data": {
      "text/plain": [
       "array([' Married', ' Single', ' Divorced', ' Widowed', 'Single',\n",
       "       'Married', 'Divorced'], dtype=object)"
      ]
     },
     "execution_count": 164,
     "metadata": {},
     "output_type": "execute_result"
    }
   ],
   "source": [
    "gender_df['Marital Status'].unique()"
   ]
  },
  {
   "cell_type": "code",
   "execution_count": 165,
   "id": "eb752a01",
   "metadata": {},
   "outputs": [
    {
     "data": {
      "text/plain": [
       "array([ 75000,  45000, 120000,  90000,  35000, 110000,  50000, 500000,\n",
       "        80000,  95000,  40000,  55000,  60000,  65000,  85000,  30000,\n",
       "       150000,  70000, 100000, 130000, 180000, 250000], dtype=int64)"
      ]
     },
     "execution_count": 165,
     "metadata": {},
     "output_type": "execute_result"
    }
   ],
   "source": [
    "gender_df['Income (USD)'].unique()"
   ]
  },
  {
   "cell_type": "code",
   "execution_count": 166,
   "id": "e9c97124",
   "metadata": {},
   "outputs": [
    {
     "data": {
      "text/plain": [
       "array([' Blue', ' Green', ' Purple', ' Red', ' Yellow', ' Black', ' Pink',\n",
       "       ' Orange', ' Grey', 'Blue', 'Green', 'Red', 'Orange', 'Purple',\n",
       "       'Yellow', 'Black', 'Grey', 'Pink'], dtype=object)"
      ]
     },
     "execution_count": 166,
     "metadata": {},
     "output_type": "execute_result"
    }
   ],
   "source": [
    "gender_df['Favorite Color'].unique()"
   ]
  },
  {
   "cell_type": "code",
   "execution_count": 167,
   "id": "e01930f3",
   "metadata": {},
   "outputs": [
    {
     "data": {
      "text/plain": [
       "Gender             0\n",
       "Age                0\n",
       "Height (cm)        0\n",
       "Weight (kg)        0\n",
       "Occupation         0\n",
       "Education Level    0\n",
       "Marital Status     0\n",
       "Income (USD)       0\n",
       "Favorite Color     0\n",
       "dtype: int64"
      ]
     },
     "execution_count": 167,
     "metadata": {},
     "output_type": "execute_result"
    }
   ],
   "source": [
    "gender_df.isnull().sum()"
   ]
  },
  {
   "cell_type": "code",
   "execution_count": 168,
   "id": "28d52329",
   "metadata": {},
   "outputs": [
    {
     "name": "stdout",
     "output_type": "stream",
     "text": [
      "<class 'pandas.core.frame.DataFrame'>\n",
      "RangeIndex: 131 entries, 0 to 130\n",
      "Data columns (total 9 columns):\n",
      " #   Column           Non-Null Count  Dtype \n",
      "---  ------           --------------  ----- \n",
      " 0   Gender           131 non-null    object\n",
      " 1   Age              131 non-null    int64 \n",
      " 2   Height (cm)      131 non-null    int64 \n",
      " 3   Weight (kg)      131 non-null    int64 \n",
      " 4   Occupation       131 non-null    object\n",
      " 5   Education Level  131 non-null    object\n",
      " 6   Marital Status   131 non-null    object\n",
      " 7   Income (USD)     131 non-null    int64 \n",
      " 8   Favorite Color   131 non-null    object\n",
      "dtypes: int64(4), object(5)\n",
      "memory usage: 9.3+ KB\n"
     ]
    }
   ],
   "source": [
    "gender_df.info()"
   ]
  },
  {
   "cell_type": "markdown",
   "id": "deb659f0",
   "metadata": {},
   "source": [
    "When expecting the column values, I saw that there were no missing values, however there were categorical column values (Datatype = object) that had whitespace meaning that if it isn't removed it will make it difficult to one-hot encode them correctly. The next step in our analysis is to remove this whitespace from the column values. "
   ]
  },
  {
   "cell_type": "code",
   "execution_count": 169,
   "id": "d7e9846c",
   "metadata": {},
   "outputs": [],
   "source": [
    "gender_df['Gender'] = gender_df['Gender'].str.strip()\n",
    "gender_df['Occupation'] = gender_df['Occupation'].str.strip()\n",
    "gender_df['Education Level'] = gender_df['Education Level'].str.strip()\n",
    "gender_df['Marital Status'] = gender_df['Marital Status'].str.strip()\n",
    "gender_df['Favorite Color'] = gender_df['Favorite Color'].str.strip()"
   ]
  },
  {
   "cell_type": "code",
   "execution_count": 170,
   "id": "90a67a58",
   "metadata": {},
   "outputs": [
    {
     "data": {
      "text/html": [
       "<div>\n",
       "<style scoped>\n",
       "    .dataframe tbody tr th:only-of-type {\n",
       "        vertical-align: middle;\n",
       "    }\n",
       "\n",
       "    .dataframe tbody tr th {\n",
       "        vertical-align: top;\n",
       "    }\n",
       "\n",
       "    .dataframe thead th {\n",
       "        text-align: right;\n",
       "    }\n",
       "</style>\n",
       "<table border=\"1\" class=\"dataframe\">\n",
       "  <thead>\n",
       "    <tr style=\"text-align: right;\">\n",
       "      <th></th>\n",
       "      <th>Gender</th>\n",
       "      <th>Age</th>\n",
       "      <th>Height (cm)</th>\n",
       "      <th>Weight (kg)</th>\n",
       "      <th>Occupation</th>\n",
       "      <th>Education Level</th>\n",
       "      <th>Marital Status</th>\n",
       "      <th>Income (USD)</th>\n",
       "      <th>Favorite Color</th>\n",
       "    </tr>\n",
       "  </thead>\n",
       "  <tbody>\n",
       "    <tr>\n",
       "      <th>0</th>\n",
       "      <td>male</td>\n",
       "      <td>32</td>\n",
       "      <td>175</td>\n",
       "      <td>70</td>\n",
       "      <td>Software Engineer</td>\n",
       "      <td>Master's Degree</td>\n",
       "      <td>Married</td>\n",
       "      <td>75000</td>\n",
       "      <td>Blue</td>\n",
       "    </tr>\n",
       "    <tr>\n",
       "      <th>1</th>\n",
       "      <td>male</td>\n",
       "      <td>25</td>\n",
       "      <td>182</td>\n",
       "      <td>85</td>\n",
       "      <td>Sales Representative</td>\n",
       "      <td>Bachelor's Degree</td>\n",
       "      <td>Single</td>\n",
       "      <td>45000</td>\n",
       "      <td>Green</td>\n",
       "    </tr>\n",
       "    <tr>\n",
       "      <th>2</th>\n",
       "      <td>female</td>\n",
       "      <td>41</td>\n",
       "      <td>160</td>\n",
       "      <td>62</td>\n",
       "      <td>Doctor</td>\n",
       "      <td>Doctorate Degree</td>\n",
       "      <td>Married</td>\n",
       "      <td>120000</td>\n",
       "      <td>Purple</td>\n",
       "    </tr>\n",
       "    <tr>\n",
       "      <th>3</th>\n",
       "      <td>male</td>\n",
       "      <td>38</td>\n",
       "      <td>178</td>\n",
       "      <td>79</td>\n",
       "      <td>Lawyer</td>\n",
       "      <td>Bachelor's Degree</td>\n",
       "      <td>Single</td>\n",
       "      <td>90000</td>\n",
       "      <td>Red</td>\n",
       "    </tr>\n",
       "    <tr>\n",
       "      <th>4</th>\n",
       "      <td>female</td>\n",
       "      <td>29</td>\n",
       "      <td>165</td>\n",
       "      <td>58</td>\n",
       "      <td>Graphic Designer</td>\n",
       "      <td>Associate's Degree</td>\n",
       "      <td>Single</td>\n",
       "      <td>35000</td>\n",
       "      <td>Yellow</td>\n",
       "    </tr>\n",
       "  </tbody>\n",
       "</table>\n",
       "</div>"
      ],
      "text/plain": [
       "   Gender  Age  Height (cm)  Weight (kg)            Occupation  \\\n",
       "0    male   32          175           70     Software Engineer   \n",
       "1    male   25          182           85  Sales Representative   \n",
       "2  female   41          160           62                Doctor   \n",
       "3    male   38          178           79                Lawyer   \n",
       "4  female   29          165           58      Graphic Designer   \n",
       "\n",
       "      Education Level Marital Status  Income (USD) Favorite Color  \n",
       "0     Master's Degree        Married         75000           Blue  \n",
       "1   Bachelor's Degree         Single         45000          Green  \n",
       "2    Doctorate Degree        Married        120000         Purple  \n",
       "3   Bachelor's Degree         Single         90000            Red  \n",
       "4  Associate's Degree         Single         35000         Yellow  "
      ]
     },
     "execution_count": 170,
     "metadata": {},
     "output_type": "execute_result"
    }
   ],
   "source": [
    "gender_df.head()"
   ]
  },
  {
   "cell_type": "code",
   "execution_count": 171,
   "id": "c9bf8873",
   "metadata": {},
   "outputs": [
    {
     "data": {
      "text/html": [
       "<div>\n",
       "<style scoped>\n",
       "    .dataframe tbody tr th:only-of-type {\n",
       "        vertical-align: middle;\n",
       "    }\n",
       "\n",
       "    .dataframe tbody tr th {\n",
       "        vertical-align: top;\n",
       "    }\n",
       "\n",
       "    .dataframe thead th {\n",
       "        text-align: right;\n",
       "    }\n",
       "</style>\n",
       "<table border=\"1\" class=\"dataframe\">\n",
       "  <thead>\n",
       "    <tr style=\"text-align: right;\">\n",
       "      <th></th>\n",
       "      <th>Gender</th>\n",
       "      <th>Age</th>\n",
       "      <th>Height (cm)</th>\n",
       "      <th>Weight (kg)</th>\n",
       "      <th>Occupation</th>\n",
       "      <th>Education Level</th>\n",
       "      <th>Marital Status</th>\n",
       "      <th>Income (USD)</th>\n",
       "      <th>Favorite Color</th>\n",
       "    </tr>\n",
       "  </thead>\n",
       "  <tbody>\n",
       "    <tr>\n",
       "      <th>0</th>\n",
       "      <td>1</td>\n",
       "      <td>32</td>\n",
       "      <td>175</td>\n",
       "      <td>70</td>\n",
       "      <td>Software Engineer</td>\n",
       "      <td>Master's Degree</td>\n",
       "      <td>Married</td>\n",
       "      <td>75000</td>\n",
       "      <td>Blue</td>\n",
       "    </tr>\n",
       "    <tr>\n",
       "      <th>1</th>\n",
       "      <td>1</td>\n",
       "      <td>25</td>\n",
       "      <td>182</td>\n",
       "      <td>85</td>\n",
       "      <td>Sales Representative</td>\n",
       "      <td>Bachelor's Degree</td>\n",
       "      <td>Single</td>\n",
       "      <td>45000</td>\n",
       "      <td>Green</td>\n",
       "    </tr>\n",
       "    <tr>\n",
       "      <th>2</th>\n",
       "      <td>0</td>\n",
       "      <td>41</td>\n",
       "      <td>160</td>\n",
       "      <td>62</td>\n",
       "      <td>Doctor</td>\n",
       "      <td>Doctorate Degree</td>\n",
       "      <td>Married</td>\n",
       "      <td>120000</td>\n",
       "      <td>Purple</td>\n",
       "    </tr>\n",
       "    <tr>\n",
       "      <th>3</th>\n",
       "      <td>1</td>\n",
       "      <td>38</td>\n",
       "      <td>178</td>\n",
       "      <td>79</td>\n",
       "      <td>Lawyer</td>\n",
       "      <td>Bachelor's Degree</td>\n",
       "      <td>Single</td>\n",
       "      <td>90000</td>\n",
       "      <td>Red</td>\n",
       "    </tr>\n",
       "    <tr>\n",
       "      <th>4</th>\n",
       "      <td>0</td>\n",
       "      <td>29</td>\n",
       "      <td>165</td>\n",
       "      <td>58</td>\n",
       "      <td>Graphic Designer</td>\n",
       "      <td>Associate's Degree</td>\n",
       "      <td>Single</td>\n",
       "      <td>35000</td>\n",
       "      <td>Yellow</td>\n",
       "    </tr>\n",
       "  </tbody>\n",
       "</table>\n",
       "</div>"
      ],
      "text/plain": [
       "   Gender  Age  Height (cm)  Weight (kg)            Occupation  \\\n",
       "0       1   32          175           70     Software Engineer   \n",
       "1       1   25          182           85  Sales Representative   \n",
       "2       0   41          160           62                Doctor   \n",
       "3       1   38          178           79                Lawyer   \n",
       "4       0   29          165           58      Graphic Designer   \n",
       "\n",
       "      Education Level Marital Status  Income (USD) Favorite Color  \n",
       "0     Master's Degree        Married         75000           Blue  \n",
       "1   Bachelor's Degree         Single         45000          Green  \n",
       "2    Doctorate Degree        Married        120000         Purple  \n",
       "3   Bachelor's Degree         Single         90000            Red  \n",
       "4  Associate's Degree         Single         35000         Yellow  "
      ]
     },
     "execution_count": 171,
     "metadata": {},
     "output_type": "execute_result"
    }
   ],
   "source": [
    "gender_df['Gender'] = gender_df['Gender'].map({'male':1, 'female':0})\n",
    "gender_df.head()"
   ]
  },
  {
   "cell_type": "markdown",
   "id": "3aea8f5e",
   "metadata": {},
   "source": [
    "In this next section, I encoded the rest of the categorical columns with the drop_first included into our pd.get_dummies function because otherwise our model will suffer from the presence of multicollinearity in our data."
   ]
  },
  {
   "cell_type": "code",
   "execution_count": 172,
   "id": "b9c17949",
   "metadata": {},
   "outputs": [
    {
     "data": {
      "text/html": [
       "<div>\n",
       "<style scoped>\n",
       "    .dataframe tbody tr th:only-of-type {\n",
       "        vertical-align: middle;\n",
       "    }\n",
       "\n",
       "    .dataframe tbody tr th {\n",
       "        vertical-align: top;\n",
       "    }\n",
       "\n",
       "    .dataframe thead th {\n",
       "        text-align: right;\n",
       "    }\n",
       "</style>\n",
       "<table border=\"1\" class=\"dataframe\">\n",
       "  <thead>\n",
       "    <tr style=\"text-align: right;\">\n",
       "      <th></th>\n",
       "      <th>Gender</th>\n",
       "      <th>Age</th>\n",
       "      <th>Height (cm)</th>\n",
       "      <th>Weight (kg)</th>\n",
       "      <th>Occupation</th>\n",
       "      <th>Education Level</th>\n",
       "      <th>Marital Status</th>\n",
       "      <th>Income (USD)</th>\n",
       "      <th>Favorite Color</th>\n",
       "      <th>Analyst</th>\n",
       "      <th>Architect</th>\n",
       "      <th>Business Analyst</th>\n",
       "      <th>Business Consultant</th>\n",
       "      <th>CEO</th>\n",
       "      <th>Doctor</th>\n",
       "      <th>Engineer</th>\n",
       "      <th>Graphic Designer</th>\n",
       "      <th>IT Manager</th>\n",
       "      <th>Lawyer</th>\n",
       "      <th>Marketing Specialist</th>\n",
       "      <th>Nurse</th>\n",
       "      <th>Project Manager</th>\n",
       "      <th>Sales Representative</th>\n",
       "      <th>Software Developer</th>\n",
       "      <th>Software Engineer</th>\n",
       "      <th>Teacher</th>\n",
       "      <th>Writer</th>\n",
       "      <th>Bachelor's Degree</th>\n",
       "      <th>Doctorate Degree</th>\n",
       "      <th>Master's Degree</th>\n",
       "      <th>Married</th>\n",
       "      <th>Single</th>\n",
       "      <th>Widowed</th>\n",
       "      <th>Blue</th>\n",
       "      <th>Green</th>\n",
       "      <th>Grey</th>\n",
       "      <th>Orange</th>\n",
       "      <th>Pink</th>\n",
       "      <th>Purple</th>\n",
       "      <th>Red</th>\n",
       "      <th>Yellow</th>\n",
       "    </tr>\n",
       "  </thead>\n",
       "  <tbody>\n",
       "    <tr>\n",
       "      <th>0</th>\n",
       "      <td>1</td>\n",
       "      <td>32</td>\n",
       "      <td>175</td>\n",
       "      <td>70</td>\n",
       "      <td>Software Engineer</td>\n",
       "      <td>Master's Degree</td>\n",
       "      <td>Married</td>\n",
       "      <td>75000</td>\n",
       "      <td>Blue</td>\n",
       "      <td>0</td>\n",
       "      <td>0</td>\n",
       "      <td>0</td>\n",
       "      <td>0</td>\n",
       "      <td>0</td>\n",
       "      <td>0</td>\n",
       "      <td>0</td>\n",
       "      <td>0</td>\n",
       "      <td>0</td>\n",
       "      <td>0</td>\n",
       "      <td>0</td>\n",
       "      <td>0</td>\n",
       "      <td>0</td>\n",
       "      <td>0</td>\n",
       "      <td>0</td>\n",
       "      <td>1</td>\n",
       "      <td>0</td>\n",
       "      <td>0</td>\n",
       "      <td>0</td>\n",
       "      <td>0</td>\n",
       "      <td>1</td>\n",
       "      <td>1</td>\n",
       "      <td>0</td>\n",
       "      <td>0</td>\n",
       "      <td>1</td>\n",
       "      <td>0</td>\n",
       "      <td>0</td>\n",
       "      <td>0</td>\n",
       "      <td>0</td>\n",
       "      <td>0</td>\n",
       "      <td>0</td>\n",
       "      <td>0</td>\n",
       "    </tr>\n",
       "    <tr>\n",
       "      <th>1</th>\n",
       "      <td>1</td>\n",
       "      <td>25</td>\n",
       "      <td>182</td>\n",
       "      <td>85</td>\n",
       "      <td>Sales Representative</td>\n",
       "      <td>Bachelor's Degree</td>\n",
       "      <td>Single</td>\n",
       "      <td>45000</td>\n",
       "      <td>Green</td>\n",
       "      <td>0</td>\n",
       "      <td>0</td>\n",
       "      <td>0</td>\n",
       "      <td>0</td>\n",
       "      <td>0</td>\n",
       "      <td>0</td>\n",
       "      <td>0</td>\n",
       "      <td>0</td>\n",
       "      <td>0</td>\n",
       "      <td>0</td>\n",
       "      <td>0</td>\n",
       "      <td>0</td>\n",
       "      <td>0</td>\n",
       "      <td>1</td>\n",
       "      <td>0</td>\n",
       "      <td>0</td>\n",
       "      <td>0</td>\n",
       "      <td>0</td>\n",
       "      <td>1</td>\n",
       "      <td>0</td>\n",
       "      <td>0</td>\n",
       "      <td>0</td>\n",
       "      <td>1</td>\n",
       "      <td>0</td>\n",
       "      <td>0</td>\n",
       "      <td>1</td>\n",
       "      <td>0</td>\n",
       "      <td>0</td>\n",
       "      <td>0</td>\n",
       "      <td>0</td>\n",
       "      <td>0</td>\n",
       "      <td>0</td>\n",
       "    </tr>\n",
       "    <tr>\n",
       "      <th>2</th>\n",
       "      <td>0</td>\n",
       "      <td>41</td>\n",
       "      <td>160</td>\n",
       "      <td>62</td>\n",
       "      <td>Doctor</td>\n",
       "      <td>Doctorate Degree</td>\n",
       "      <td>Married</td>\n",
       "      <td>120000</td>\n",
       "      <td>Purple</td>\n",
       "      <td>0</td>\n",
       "      <td>0</td>\n",
       "      <td>0</td>\n",
       "      <td>0</td>\n",
       "      <td>0</td>\n",
       "      <td>1</td>\n",
       "      <td>0</td>\n",
       "      <td>0</td>\n",
       "      <td>0</td>\n",
       "      <td>0</td>\n",
       "      <td>0</td>\n",
       "      <td>0</td>\n",
       "      <td>0</td>\n",
       "      <td>0</td>\n",
       "      <td>0</td>\n",
       "      <td>0</td>\n",
       "      <td>0</td>\n",
       "      <td>0</td>\n",
       "      <td>0</td>\n",
       "      <td>1</td>\n",
       "      <td>0</td>\n",
       "      <td>1</td>\n",
       "      <td>0</td>\n",
       "      <td>0</td>\n",
       "      <td>0</td>\n",
       "      <td>0</td>\n",
       "      <td>0</td>\n",
       "      <td>0</td>\n",
       "      <td>0</td>\n",
       "      <td>1</td>\n",
       "      <td>0</td>\n",
       "      <td>0</td>\n",
       "    </tr>\n",
       "    <tr>\n",
       "      <th>3</th>\n",
       "      <td>1</td>\n",
       "      <td>38</td>\n",
       "      <td>178</td>\n",
       "      <td>79</td>\n",
       "      <td>Lawyer</td>\n",
       "      <td>Bachelor's Degree</td>\n",
       "      <td>Single</td>\n",
       "      <td>90000</td>\n",
       "      <td>Red</td>\n",
       "      <td>0</td>\n",
       "      <td>0</td>\n",
       "      <td>0</td>\n",
       "      <td>0</td>\n",
       "      <td>0</td>\n",
       "      <td>0</td>\n",
       "      <td>0</td>\n",
       "      <td>0</td>\n",
       "      <td>0</td>\n",
       "      <td>1</td>\n",
       "      <td>0</td>\n",
       "      <td>0</td>\n",
       "      <td>0</td>\n",
       "      <td>0</td>\n",
       "      <td>0</td>\n",
       "      <td>0</td>\n",
       "      <td>0</td>\n",
       "      <td>0</td>\n",
       "      <td>1</td>\n",
       "      <td>0</td>\n",
       "      <td>0</td>\n",
       "      <td>0</td>\n",
       "      <td>1</td>\n",
       "      <td>0</td>\n",
       "      <td>0</td>\n",
       "      <td>0</td>\n",
       "      <td>0</td>\n",
       "      <td>0</td>\n",
       "      <td>0</td>\n",
       "      <td>0</td>\n",
       "      <td>1</td>\n",
       "      <td>0</td>\n",
       "    </tr>\n",
       "    <tr>\n",
       "      <th>4</th>\n",
       "      <td>0</td>\n",
       "      <td>29</td>\n",
       "      <td>165</td>\n",
       "      <td>58</td>\n",
       "      <td>Graphic Designer</td>\n",
       "      <td>Associate's Degree</td>\n",
       "      <td>Single</td>\n",
       "      <td>35000</td>\n",
       "      <td>Yellow</td>\n",
       "      <td>0</td>\n",
       "      <td>0</td>\n",
       "      <td>0</td>\n",
       "      <td>0</td>\n",
       "      <td>0</td>\n",
       "      <td>0</td>\n",
       "      <td>0</td>\n",
       "      <td>1</td>\n",
       "      <td>0</td>\n",
       "      <td>0</td>\n",
       "      <td>0</td>\n",
       "      <td>0</td>\n",
       "      <td>0</td>\n",
       "      <td>0</td>\n",
       "      <td>0</td>\n",
       "      <td>0</td>\n",
       "      <td>0</td>\n",
       "      <td>0</td>\n",
       "      <td>0</td>\n",
       "      <td>0</td>\n",
       "      <td>0</td>\n",
       "      <td>0</td>\n",
       "      <td>1</td>\n",
       "      <td>0</td>\n",
       "      <td>0</td>\n",
       "      <td>0</td>\n",
       "      <td>0</td>\n",
       "      <td>0</td>\n",
       "      <td>0</td>\n",
       "      <td>0</td>\n",
       "      <td>0</td>\n",
       "      <td>1</td>\n",
       "    </tr>\n",
       "  </tbody>\n",
       "</table>\n",
       "</div>"
      ],
      "text/plain": [
       "   Gender  Age  Height (cm)  Weight (kg)            Occupation  \\\n",
       "0       1   32          175           70     Software Engineer   \n",
       "1       1   25          182           85  Sales Representative   \n",
       "2       0   41          160           62                Doctor   \n",
       "3       1   38          178           79                Lawyer   \n",
       "4       0   29          165           58      Graphic Designer   \n",
       "\n",
       "      Education Level Marital Status  Income (USD) Favorite Color  Analyst  \\\n",
       "0     Master's Degree        Married         75000           Blue        0   \n",
       "1   Bachelor's Degree         Single         45000          Green        0   \n",
       "2    Doctorate Degree        Married        120000         Purple        0   \n",
       "3   Bachelor's Degree         Single         90000            Red        0   \n",
       "4  Associate's Degree         Single         35000         Yellow        0   \n",
       "\n",
       "   Architect  Business Analyst  Business Consultant  CEO  Doctor  Engineer  \\\n",
       "0          0                 0                    0    0       0         0   \n",
       "1          0                 0                    0    0       0         0   \n",
       "2          0                 0                    0    0       1         0   \n",
       "3          0                 0                    0    0       0         0   \n",
       "4          0                 0                    0    0       0         0   \n",
       "\n",
       "   Graphic Designer  IT Manager  Lawyer  Marketing Specialist  Nurse  \\\n",
       "0                 0           0       0                     0      0   \n",
       "1                 0           0       0                     0      0   \n",
       "2                 0           0       0                     0      0   \n",
       "3                 0           0       1                     0      0   \n",
       "4                 1           0       0                     0      0   \n",
       "\n",
       "   Project Manager  Sales Representative  Software Developer  \\\n",
       "0                0                     0                   0   \n",
       "1                0                     1                   0   \n",
       "2                0                     0                   0   \n",
       "3                0                     0                   0   \n",
       "4                0                     0                   0   \n",
       "\n",
       "   Software Engineer  Teacher  Writer  Bachelor's Degree  Doctorate Degree  \\\n",
       "0                  1        0       0                  0                 0   \n",
       "1                  0        0       0                  1                 0   \n",
       "2                  0        0       0                  0                 1   \n",
       "3                  0        0       0                  1                 0   \n",
       "4                  0        0       0                  0                 0   \n",
       "\n",
       "   Master's Degree  Married  Single  Widowed  Blue  Green  Grey  Orange  Pink  \\\n",
       "0                1        1       0        0     1      0     0       0     0   \n",
       "1                0        0       1        0     0      1     0       0     0   \n",
       "2                0        1       0        0     0      0     0       0     0   \n",
       "3                0        0       1        0     0      0     0       0     0   \n",
       "4                0        0       1        0     0      0     0       0     0   \n",
       "\n",
       "   Purple  Red  Yellow  \n",
       "0       0    0       0  \n",
       "1       0    0       0  \n",
       "2       1    0       0  \n",
       "3       0    1       0  \n",
       "4       0    0       1  "
      ]
     },
     "execution_count": 172,
     "metadata": {},
     "output_type": "execute_result"
    }
   ],
   "source": [
    "occupation = pd.get_dummies(gender_df['Occupation'], drop_first=True)\n",
    "education_level = pd.get_dummies(gender_df['Education Level'], drop_first=True)\n",
    "marital_status = pd.get_dummies(gender_df['Marital Status'], drop_first=True)\n",
    "fav_color = pd.get_dummies(gender_df['Favorite Color'], drop_first=True)\n",
    "gender_df = pd.concat([gender_df, occupation, education_level, marital_status, fav_color], axis=1)\n",
    "pd.set_option('display.max_columns', None)\n",
    "gender_df.head()"
   ]
  },
  {
   "cell_type": "markdown",
   "id": "40e34d2d",
   "metadata": {},
   "source": [
    "Now I have added the dummy variables from the categorical data, I dropped the original categorical columns because they are no longer required for the analysis."
   ]
  },
  {
   "cell_type": "code",
   "execution_count": 173,
   "id": "8bd0483f",
   "metadata": {
    "scrolled": true
   },
   "outputs": [
    {
     "data": {
      "text/html": [
       "<div>\n",
       "<style scoped>\n",
       "    .dataframe tbody tr th:only-of-type {\n",
       "        vertical-align: middle;\n",
       "    }\n",
       "\n",
       "    .dataframe tbody tr th {\n",
       "        vertical-align: top;\n",
       "    }\n",
       "\n",
       "    .dataframe thead th {\n",
       "        text-align: right;\n",
       "    }\n",
       "</style>\n",
       "<table border=\"1\" class=\"dataframe\">\n",
       "  <thead>\n",
       "    <tr style=\"text-align: right;\">\n",
       "      <th></th>\n",
       "      <th>Gender</th>\n",
       "      <th>Age</th>\n",
       "      <th>Height (cm)</th>\n",
       "      <th>Weight (kg)</th>\n",
       "      <th>Income (USD)</th>\n",
       "      <th>Analyst</th>\n",
       "      <th>Architect</th>\n",
       "      <th>Business Analyst</th>\n",
       "      <th>Business Consultant</th>\n",
       "      <th>CEO</th>\n",
       "      <th>Doctor</th>\n",
       "      <th>Engineer</th>\n",
       "      <th>Graphic Designer</th>\n",
       "      <th>IT Manager</th>\n",
       "      <th>Lawyer</th>\n",
       "      <th>Marketing Specialist</th>\n",
       "      <th>Nurse</th>\n",
       "      <th>Project Manager</th>\n",
       "      <th>Sales Representative</th>\n",
       "      <th>Software Developer</th>\n",
       "      <th>Software Engineer</th>\n",
       "      <th>Teacher</th>\n",
       "      <th>Writer</th>\n",
       "      <th>Bachelor's Degree</th>\n",
       "      <th>Doctorate Degree</th>\n",
       "      <th>Master's Degree</th>\n",
       "      <th>Married</th>\n",
       "      <th>Single</th>\n",
       "      <th>Widowed</th>\n",
       "      <th>Blue</th>\n",
       "      <th>Green</th>\n",
       "      <th>Grey</th>\n",
       "      <th>Orange</th>\n",
       "      <th>Pink</th>\n",
       "      <th>Purple</th>\n",
       "      <th>Red</th>\n",
       "      <th>Yellow</th>\n",
       "    </tr>\n",
       "  </thead>\n",
       "  <tbody>\n",
       "    <tr>\n",
       "      <th>0</th>\n",
       "      <td>1</td>\n",
       "      <td>32</td>\n",
       "      <td>175</td>\n",
       "      <td>70</td>\n",
       "      <td>75000</td>\n",
       "      <td>0</td>\n",
       "      <td>0</td>\n",
       "      <td>0</td>\n",
       "      <td>0</td>\n",
       "      <td>0</td>\n",
       "      <td>0</td>\n",
       "      <td>0</td>\n",
       "      <td>0</td>\n",
       "      <td>0</td>\n",
       "      <td>0</td>\n",
       "      <td>0</td>\n",
       "      <td>0</td>\n",
       "      <td>0</td>\n",
       "      <td>0</td>\n",
       "      <td>0</td>\n",
       "      <td>1</td>\n",
       "      <td>0</td>\n",
       "      <td>0</td>\n",
       "      <td>0</td>\n",
       "      <td>0</td>\n",
       "      <td>1</td>\n",
       "      <td>1</td>\n",
       "      <td>0</td>\n",
       "      <td>0</td>\n",
       "      <td>1</td>\n",
       "      <td>0</td>\n",
       "      <td>0</td>\n",
       "      <td>0</td>\n",
       "      <td>0</td>\n",
       "      <td>0</td>\n",
       "      <td>0</td>\n",
       "      <td>0</td>\n",
       "    </tr>\n",
       "    <tr>\n",
       "      <th>1</th>\n",
       "      <td>1</td>\n",
       "      <td>25</td>\n",
       "      <td>182</td>\n",
       "      <td>85</td>\n",
       "      <td>45000</td>\n",
       "      <td>0</td>\n",
       "      <td>0</td>\n",
       "      <td>0</td>\n",
       "      <td>0</td>\n",
       "      <td>0</td>\n",
       "      <td>0</td>\n",
       "      <td>0</td>\n",
       "      <td>0</td>\n",
       "      <td>0</td>\n",
       "      <td>0</td>\n",
       "      <td>0</td>\n",
       "      <td>0</td>\n",
       "      <td>0</td>\n",
       "      <td>1</td>\n",
       "      <td>0</td>\n",
       "      <td>0</td>\n",
       "      <td>0</td>\n",
       "      <td>0</td>\n",
       "      <td>1</td>\n",
       "      <td>0</td>\n",
       "      <td>0</td>\n",
       "      <td>0</td>\n",
       "      <td>1</td>\n",
       "      <td>0</td>\n",
       "      <td>0</td>\n",
       "      <td>1</td>\n",
       "      <td>0</td>\n",
       "      <td>0</td>\n",
       "      <td>0</td>\n",
       "      <td>0</td>\n",
       "      <td>0</td>\n",
       "      <td>0</td>\n",
       "    </tr>\n",
       "    <tr>\n",
       "      <th>2</th>\n",
       "      <td>0</td>\n",
       "      <td>41</td>\n",
       "      <td>160</td>\n",
       "      <td>62</td>\n",
       "      <td>120000</td>\n",
       "      <td>0</td>\n",
       "      <td>0</td>\n",
       "      <td>0</td>\n",
       "      <td>0</td>\n",
       "      <td>0</td>\n",
       "      <td>1</td>\n",
       "      <td>0</td>\n",
       "      <td>0</td>\n",
       "      <td>0</td>\n",
       "      <td>0</td>\n",
       "      <td>0</td>\n",
       "      <td>0</td>\n",
       "      <td>0</td>\n",
       "      <td>0</td>\n",
       "      <td>0</td>\n",
       "      <td>0</td>\n",
       "      <td>0</td>\n",
       "      <td>0</td>\n",
       "      <td>0</td>\n",
       "      <td>1</td>\n",
       "      <td>0</td>\n",
       "      <td>1</td>\n",
       "      <td>0</td>\n",
       "      <td>0</td>\n",
       "      <td>0</td>\n",
       "      <td>0</td>\n",
       "      <td>0</td>\n",
       "      <td>0</td>\n",
       "      <td>0</td>\n",
       "      <td>1</td>\n",
       "      <td>0</td>\n",
       "      <td>0</td>\n",
       "    </tr>\n",
       "    <tr>\n",
       "      <th>3</th>\n",
       "      <td>1</td>\n",
       "      <td>38</td>\n",
       "      <td>178</td>\n",
       "      <td>79</td>\n",
       "      <td>90000</td>\n",
       "      <td>0</td>\n",
       "      <td>0</td>\n",
       "      <td>0</td>\n",
       "      <td>0</td>\n",
       "      <td>0</td>\n",
       "      <td>0</td>\n",
       "      <td>0</td>\n",
       "      <td>0</td>\n",
       "      <td>0</td>\n",
       "      <td>1</td>\n",
       "      <td>0</td>\n",
       "      <td>0</td>\n",
       "      <td>0</td>\n",
       "      <td>0</td>\n",
       "      <td>0</td>\n",
       "      <td>0</td>\n",
       "      <td>0</td>\n",
       "      <td>0</td>\n",
       "      <td>1</td>\n",
       "      <td>0</td>\n",
       "      <td>0</td>\n",
       "      <td>0</td>\n",
       "      <td>1</td>\n",
       "      <td>0</td>\n",
       "      <td>0</td>\n",
       "      <td>0</td>\n",
       "      <td>0</td>\n",
       "      <td>0</td>\n",
       "      <td>0</td>\n",
       "      <td>0</td>\n",
       "      <td>1</td>\n",
       "      <td>0</td>\n",
       "    </tr>\n",
       "    <tr>\n",
       "      <th>4</th>\n",
       "      <td>0</td>\n",
       "      <td>29</td>\n",
       "      <td>165</td>\n",
       "      <td>58</td>\n",
       "      <td>35000</td>\n",
       "      <td>0</td>\n",
       "      <td>0</td>\n",
       "      <td>0</td>\n",
       "      <td>0</td>\n",
       "      <td>0</td>\n",
       "      <td>0</td>\n",
       "      <td>0</td>\n",
       "      <td>1</td>\n",
       "      <td>0</td>\n",
       "      <td>0</td>\n",
       "      <td>0</td>\n",
       "      <td>0</td>\n",
       "      <td>0</td>\n",
       "      <td>0</td>\n",
       "      <td>0</td>\n",
       "      <td>0</td>\n",
       "      <td>0</td>\n",
       "      <td>0</td>\n",
       "      <td>0</td>\n",
       "      <td>0</td>\n",
       "      <td>0</td>\n",
       "      <td>0</td>\n",
       "      <td>1</td>\n",
       "      <td>0</td>\n",
       "      <td>0</td>\n",
       "      <td>0</td>\n",
       "      <td>0</td>\n",
       "      <td>0</td>\n",
       "      <td>0</td>\n",
       "      <td>0</td>\n",
       "      <td>0</td>\n",
       "      <td>1</td>\n",
       "    </tr>\n",
       "  </tbody>\n",
       "</table>\n",
       "</div>"
      ],
      "text/plain": [
       "   Gender  Age  Height (cm)  Weight (kg)  Income (USD)  Analyst  Architect  \\\n",
       "0       1   32          175           70         75000        0          0   \n",
       "1       1   25          182           85         45000        0          0   \n",
       "2       0   41          160           62        120000        0          0   \n",
       "3       1   38          178           79         90000        0          0   \n",
       "4       0   29          165           58         35000        0          0   \n",
       "\n",
       "   Business Analyst  Business Consultant  CEO  Doctor  Engineer  \\\n",
       "0                 0                    0    0       0         0   \n",
       "1                 0                    0    0       0         0   \n",
       "2                 0                    0    0       1         0   \n",
       "3                 0                    0    0       0         0   \n",
       "4                 0                    0    0       0         0   \n",
       "\n",
       "   Graphic Designer  IT Manager  Lawyer  Marketing Specialist  Nurse  \\\n",
       "0                 0           0       0                     0      0   \n",
       "1                 0           0       0                     0      0   \n",
       "2                 0           0       0                     0      0   \n",
       "3                 0           0       1                     0      0   \n",
       "4                 1           0       0                     0      0   \n",
       "\n",
       "   Project Manager  Sales Representative  Software Developer  \\\n",
       "0                0                     0                   0   \n",
       "1                0                     1                   0   \n",
       "2                0                     0                   0   \n",
       "3                0                     0                   0   \n",
       "4                0                     0                   0   \n",
       "\n",
       "   Software Engineer  Teacher  Writer  Bachelor's Degree  Doctorate Degree  \\\n",
       "0                  1        0       0                  0                 0   \n",
       "1                  0        0       0                  1                 0   \n",
       "2                  0        0       0                  0                 1   \n",
       "3                  0        0       0                  1                 0   \n",
       "4                  0        0       0                  0                 0   \n",
       "\n",
       "   Master's Degree  Married  Single  Widowed  Blue  Green  Grey  Orange  Pink  \\\n",
       "0                1        1       0        0     1      0     0       0     0   \n",
       "1                0        0       1        0     0      1     0       0     0   \n",
       "2                0        1       0        0     0      0     0       0     0   \n",
       "3                0        0       1        0     0      0     0       0     0   \n",
       "4                0        0       1        0     0      0     0       0     0   \n",
       "\n",
       "   Purple  Red  Yellow  \n",
       "0       0    0       0  \n",
       "1       0    0       0  \n",
       "2       1    0       0  \n",
       "3       0    1       0  \n",
       "4       0    0       1  "
      ]
     },
     "execution_count": 173,
     "metadata": {},
     "output_type": "execute_result"
    }
   ],
   "source": [
    "gender_df = gender_df.drop(['Occupation', 'Education Level', 'Marital Status', 'Favorite Color'], axis=1)\n",
    "gender_df.head()"
   ]
  },
  {
   "cell_type": "markdown",
   "id": "d8d151c4",
   "metadata": {},
   "source": [
    "## Splitting the data into the test and training sets"
   ]
  },
  {
   "cell_type": "code",
   "execution_count": 174,
   "id": "1cf7022b",
   "metadata": {},
   "outputs": [],
   "source": [
    "x = gender_df.drop(['Gender'], axis=1)\n",
    "y = gender_df['Gender']\n",
    "x_train, x_test, y_train, y_test = train_test_split(x, y, test_size=0.25, random_state=30)"
   ]
  },
  {
   "cell_type": "markdown",
   "id": "9bb7e5b3",
   "metadata": {},
   "source": [
    "## Using the Random Forest algorithm"
   ]
  },
  {
   "cell_type": "markdown",
   "id": "65e0acaa",
   "metadata": {},
   "source": [
    "The random forest algorithm is a supervised machine learning technique used for both regression and classification. It is an ensemble method that utilizes the majority vote of multiple decision trees to estimate the classification of data. In our case, we use 100 decision trees (n_estimators) which are trained using the bagging method.\n",
    "\n",
    "In bagging, each decision tree is trained using a different subset of the training data, resulting in reduced variance, increased accuracy, and lower risk of overfitting. In addition, the random forest algorithm employs a feature randomization technique where a random subset of features is selected for each decision tree in the ensemble. This approach helps to decorrelate the trees and improve the performance of the model."
   ]
  },
  {
   "cell_type": "code",
   "execution_count": 175,
   "id": "effb8465",
   "metadata": {},
   "outputs": [
    {
     "data": {
      "text/plain": [
       "RandomForestClassifier(oob_score=True, random_state=10)"
      ]
     },
     "execution_count": 175,
     "metadata": {},
     "output_type": "execute_result"
    }
   ],
   "source": [
    "#Initiate the class instance\n",
    "rf = RandomForestClassifier(n_estimators=100, random_state=10, oob_score=True)\n",
    "\n",
    "#Fit the data to the model\n",
    "rf.fit(x_train, y_train)"
   ]
  },
  {
   "cell_type": "code",
   "execution_count": 176,
   "id": "bcdf0c00",
   "metadata": {},
   "outputs": [
    {
     "name": "stdout",
     "output_type": "stream",
     "text": [
      "True\n"
     ]
    }
   ],
   "source": [
    "print(rf.oob_score)"
   ]
  },
  {
   "cell_type": "code",
   "execution_count": 177,
   "id": "e4b91784",
   "metadata": {},
   "outputs": [],
   "source": [
    "y_pred = rf.predict(x_test)"
   ]
  },
  {
   "cell_type": "markdown",
   "id": "43608680",
   "metadata": {},
   "source": [
    "## Metrics"
   ]
  },
  {
   "cell_type": "code",
   "execution_count": 179,
   "id": "7fd5b7ff",
   "metadata": {},
   "outputs": [],
   "source": [
    "accuracy = accuracy_score(y_test, y_pred)\n",
    "f1 = f1_score(y_test, y_pred)\n",
    "recall = recall_score(y_test, y_pred)\n",
    "precision = precision_score(y_test, y_pred)"
   ]
  },
  {
   "cell_type": "code",
   "execution_count": 180,
   "id": "8f99499d",
   "metadata": {},
   "outputs": [
    {
     "name": "stdout",
     "output_type": "stream",
     "text": [
      "Accuracy:  100.0\n",
      "F1 score:  100.0\n",
      "Recall score:  100.0\n",
      "Precision score:  100.0\n"
     ]
    }
   ],
   "source": [
    "print('Accuracy: ', round(accuracy * 100, 3))\n",
    "print('F1 score: ', round(f1 * 100, 3))\n",
    "print('Recall score: ', round(recall * 100, 3))\n",
    "print('Precision score: ', round(precision * 100, 3))"
   ]
  }
 ],
 "metadata": {
  "kernelspec": {
   "display_name": "Python 3 (ipykernel)",
   "language": "python",
   "name": "python3"
  },
  "language_info": {
   "codemirror_mode": {
    "name": "ipython",
    "version": 3
   },
   "file_extension": ".py",
   "mimetype": "text/x-python",
   "name": "python",
   "nbconvert_exporter": "python",
   "pygments_lexer": "ipython3",
   "version": "3.9.13"
  }
 },
 "nbformat": 4,
 "nbformat_minor": 5
}
