{
 "cells": [
  {
   "cell_type": "markdown",
   "id": "3deb581d",
   "metadata": {},
   "source": [
    "# Clustering Masculinity data"
   ]
  },
  {
   "cell_type": "markdown",
   "id": "34fda100",
   "metadata": {},
   "source": [
    "This project is a brief beginner introduction to the KMeans algorithm by looking at masculinity survey data. "
   ]
  },
  {
   "cell_type": "markdown",
   "id": "90209aaa",
   "metadata": {},
   "source": [
    "## Import required modules"
   ]
  },
  {
   "cell_type": "code",
   "execution_count": 47,
   "id": "cdea872f",
   "metadata": {},
   "outputs": [],
   "source": [
    "import pandas as pd\n",
    "import numpy as np\n",
    "from sklearn.cluster import KMeans"
   ]
  },
  {
   "cell_type": "markdown",
   "id": "61fe6b10",
   "metadata": {},
   "source": [
    "## Import the dataset and run the initial data inspection"
   ]
  },
  {
   "cell_type": "code",
   "execution_count": 48,
   "id": "7bd6b011",
   "metadata": {},
   "outputs": [
    {
     "data": {
      "text/html": [
       "<div>\n",
       "<style scoped>\n",
       "    .dataframe tbody tr th:only-of-type {\n",
       "        vertical-align: middle;\n",
       "    }\n",
       "\n",
       "    .dataframe tbody tr th {\n",
       "        vertical-align: top;\n",
       "    }\n",
       "\n",
       "    .dataframe thead th {\n",
       "        text-align: right;\n",
       "    }\n",
       "</style>\n",
       "<table border=\"1\" class=\"dataframe\">\n",
       "  <thead>\n",
       "    <tr style=\"text-align: right;\">\n",
       "      <th></th>\n",
       "      <th>StartDate</th>\n",
       "      <th>EndDate</th>\n",
       "      <th>q0001</th>\n",
       "      <th>q0002</th>\n",
       "      <th>q0004_0001</th>\n",
       "      <th>q0004_0002</th>\n",
       "      <th>q0004_0003</th>\n",
       "      <th>q0004_0004</th>\n",
       "      <th>q0004_0005</th>\n",
       "      <th>q0004_0006</th>\n",
       "      <th>...</th>\n",
       "      <th>q0035</th>\n",
       "      <th>q0036</th>\n",
       "      <th>race2</th>\n",
       "      <th>racethn4</th>\n",
       "      <th>educ3</th>\n",
       "      <th>educ4</th>\n",
       "      <th>age3</th>\n",
       "      <th>kids</th>\n",
       "      <th>orientation</th>\n",
       "      <th>weight</th>\n",
       "    </tr>\n",
       "  </thead>\n",
       "  <tbody>\n",
       "    <tr>\n",
       "      <th>1</th>\n",
       "      <td>5/10/18 4:01</td>\n",
       "      <td>5/10/18 4:06</td>\n",
       "      <td>Somewhat masculine</td>\n",
       "      <td>Somewhat important</td>\n",
       "      <td>Not selected</td>\n",
       "      <td>Not selected</td>\n",
       "      <td>Not selected</td>\n",
       "      <td>Pop culture</td>\n",
       "      <td>Not selected</td>\n",
       "      <td>Not selected</td>\n",
       "      <td>...</td>\n",
       "      <td>Middle Atlantic</td>\n",
       "      <td>Windows Desktop / Laptop</td>\n",
       "      <td>Non-white</td>\n",
       "      <td>Hispanic</td>\n",
       "      <td>College or more</td>\n",
       "      <td>College or more</td>\n",
       "      <td>35 - 64</td>\n",
       "      <td>No children</td>\n",
       "      <td>Gay/Bisexual</td>\n",
       "      <td>1.714026</td>\n",
       "    </tr>\n",
       "    <tr>\n",
       "      <th>2</th>\n",
       "      <td>5/10/18 6:30</td>\n",
       "      <td>5/10/18 6:53</td>\n",
       "      <td>Somewhat masculine</td>\n",
       "      <td>Somewhat important</td>\n",
       "      <td>Father or father figure(s)</td>\n",
       "      <td>Not selected</td>\n",
       "      <td>Not selected</td>\n",
       "      <td>Not selected</td>\n",
       "      <td>Not selected</td>\n",
       "      <td>Not selected</td>\n",
       "      <td>...</td>\n",
       "      <td>East North Central</td>\n",
       "      <td>iOS Phone / Tablet</td>\n",
       "      <td>White</td>\n",
       "      <td>White</td>\n",
       "      <td>Some college</td>\n",
       "      <td>Some college</td>\n",
       "      <td>65 and up</td>\n",
       "      <td>Has children</td>\n",
       "      <td>Straight</td>\n",
       "      <td>1.247120</td>\n",
       "    </tr>\n",
       "    <tr>\n",
       "      <th>3</th>\n",
       "      <td>5/10/18 7:02</td>\n",
       "      <td>5/10/18 7:09</td>\n",
       "      <td>Very masculine</td>\n",
       "      <td>Not too important</td>\n",
       "      <td>Father or father figure(s)</td>\n",
       "      <td>Not selected</td>\n",
       "      <td>Not selected</td>\n",
       "      <td>Not selected</td>\n",
       "      <td>Not selected</td>\n",
       "      <td>Other (please specify)</td>\n",
       "      <td>...</td>\n",
       "      <td>East North Central</td>\n",
       "      <td>Windows Desktop / Laptop</td>\n",
       "      <td>White</td>\n",
       "      <td>White</td>\n",
       "      <td>College or more</td>\n",
       "      <td>College or more</td>\n",
       "      <td>35 - 64</td>\n",
       "      <td>Has children</td>\n",
       "      <td>Straight</td>\n",
       "      <td>0.515746</td>\n",
       "    </tr>\n",
       "    <tr>\n",
       "      <th>4</th>\n",
       "      <td>5/10/18 7:27</td>\n",
       "      <td>5/10/18 7:31</td>\n",
       "      <td>Very masculine</td>\n",
       "      <td>Not too important</td>\n",
       "      <td>Father or father figure(s)</td>\n",
       "      <td>Mother or mother figure(s)</td>\n",
       "      <td>Other family members</td>\n",
       "      <td>Not selected</td>\n",
       "      <td>Not selected</td>\n",
       "      <td>Not selected</td>\n",
       "      <td>...</td>\n",
       "      <td>East North Central</td>\n",
       "      <td>Windows Desktop / Laptop</td>\n",
       "      <td>White</td>\n",
       "      <td>White</td>\n",
       "      <td>Some college</td>\n",
       "      <td>Some college</td>\n",
       "      <td>65 and up</td>\n",
       "      <td>Has children</td>\n",
       "      <td>No answer</td>\n",
       "      <td>0.600640</td>\n",
       "    </tr>\n",
       "    <tr>\n",
       "      <th>5</th>\n",
       "      <td>5/10/18 7:35</td>\n",
       "      <td>5/10/18 7:42</td>\n",
       "      <td>Very masculine</td>\n",
       "      <td>Very important</td>\n",
       "      <td>Not selected</td>\n",
       "      <td>Not selected</td>\n",
       "      <td>Other family members</td>\n",
       "      <td>Not selected</td>\n",
       "      <td>Not selected</td>\n",
       "      <td>Not selected</td>\n",
       "      <td>...</td>\n",
       "      <td>East North Central</td>\n",
       "      <td>Windows Desktop / Laptop</td>\n",
       "      <td>White</td>\n",
       "      <td>White</td>\n",
       "      <td>College or more</td>\n",
       "      <td>College or more</td>\n",
       "      <td>35 - 64</td>\n",
       "      <td>No children</td>\n",
       "      <td>Straight</td>\n",
       "      <td>1.033400</td>\n",
       "    </tr>\n",
       "  </tbody>\n",
       "</table>\n",
       "<p>5 rows × 97 columns</p>\n",
       "</div>"
      ],
      "text/plain": [
       "      StartDate       EndDate               q0001               q0002  \\\n",
       "1  5/10/18 4:01  5/10/18 4:06  Somewhat masculine  Somewhat important   \n",
       "2  5/10/18 6:30  5/10/18 6:53  Somewhat masculine  Somewhat important   \n",
       "3  5/10/18 7:02  5/10/18 7:09      Very masculine   Not too important   \n",
       "4  5/10/18 7:27  5/10/18 7:31      Very masculine   Not too important   \n",
       "5  5/10/18 7:35  5/10/18 7:42      Very masculine      Very important   \n",
       "\n",
       "                   q0004_0001                  q0004_0002  \\\n",
       "1                Not selected                Not selected   \n",
       "2  Father or father figure(s)                Not selected   \n",
       "3  Father or father figure(s)                Not selected   \n",
       "4  Father or father figure(s)  Mother or mother figure(s)   \n",
       "5                Not selected                Not selected   \n",
       "\n",
       "             q0004_0003    q0004_0004    q0004_0005              q0004_0006  \\\n",
       "1          Not selected   Pop culture  Not selected            Not selected   \n",
       "2          Not selected  Not selected  Not selected            Not selected   \n",
       "3          Not selected  Not selected  Not selected  Other (please specify)   \n",
       "4  Other family members  Not selected  Not selected            Not selected   \n",
       "5  Other family members  Not selected  Not selected            Not selected   \n",
       "\n",
       "   ...               q0035                     q0036      race2  racethn4  \\\n",
       "1  ...     Middle Atlantic  Windows Desktop / Laptop  Non-white  Hispanic   \n",
       "2  ...  East North Central        iOS Phone / Tablet      White     White   \n",
       "3  ...  East North Central  Windows Desktop / Laptop      White     White   \n",
       "4  ...  East North Central  Windows Desktop / Laptop      White     White   \n",
       "5  ...  East North Central  Windows Desktop / Laptop      White     White   \n",
       "\n",
       "             educ3            educ4       age3          kids   orientation  \\\n",
       "1  College or more  College or more    35 - 64   No children  Gay/Bisexual   \n",
       "2     Some college     Some college  65 and up  Has children      Straight   \n",
       "3  College or more  College or more    35 - 64  Has children      Straight   \n",
       "4     Some college     Some college  65 and up  Has children     No answer   \n",
       "5  College or more  College or more    35 - 64   No children      Straight   \n",
       "\n",
       "     weight  \n",
       "1  1.714026  \n",
       "2  1.247120  \n",
       "3  0.515746  \n",
       "4  0.600640  \n",
       "5  1.033400  \n",
       "\n",
       "[5 rows x 97 columns]"
      ]
     },
     "execution_count": 48,
     "metadata": {},
     "output_type": "execute_result"
    }
   ],
   "source": [
    "df = pd.read_csv(r\"C:\\Users\\pjhop\\OneDrive\\Documents\\Programming & Coding\\Python\\Projects\\Datasets\\masculinity.csv\", index_col=0)\n",
    "df.head()"
   ]
  },
  {
   "cell_type": "code",
   "execution_count": 49,
   "id": "cffa1381",
   "metadata": {},
   "outputs": [
    {
     "name": "stdout",
     "output_type": "stream",
     "text": [
      "(1189, 97)\n",
      "Index(['StartDate', 'EndDate', 'q0001', 'q0002', 'q0004_0001', 'q0004_0002',\n",
      "       'q0004_0003', 'q0004_0004', 'q0004_0005', 'q0004_0006', 'q0005',\n",
      "       'q0007_0001', 'q0007_0002', 'q0007_0003', 'q0007_0004', 'q0007_0005',\n",
      "       'q0007_0006', 'q0007_0007', 'q0007_0008', 'q0007_0009', 'q0007_0010',\n",
      "       'q0007_0011', 'q0008_0001', 'q0008_0002', 'q0008_0003', 'q0008_0004',\n",
      "       'q0008_0005', 'q0008_0006', 'q0008_0007', 'q0008_0008', 'q0008_0009',\n",
      "       'q0008_0010', 'q0008_0011', 'q0008_0012', 'q0009', 'q0010_0001',\n",
      "       'q0010_0002', 'q0010_0003', 'q0010_0004', 'q0010_0005', 'q0010_0006',\n",
      "       'q0010_0007', 'q0010_0008', 'q0011_0001', 'q0011_0002', 'q0011_0003',\n",
      "       'q0011_0004', 'q0011_0005', 'q0012_0001', 'q0012_0002', 'q0012_0003',\n",
      "       'q0012_0004', 'q0012_0005', 'q0012_0006', 'q0012_0007', 'q0013',\n",
      "       'q0014', 'q0015', 'q0017', 'q0018', 'q0019_0001', 'q0019_0002',\n",
      "       'q0019_0003', 'q0019_0004', 'q0019_0005', 'q0019_0006', 'q0019_0007',\n",
      "       'q0020_0001', 'q0020_0002', 'q0020_0003', 'q0020_0004', 'q0020_0005',\n",
      "       'q0020_0006', 'q0021_0001', 'q0021_0002', 'q0021_0003', 'q0021_0004',\n",
      "       'q0022', 'q0024', 'q0025_0001', 'q0025_0002', 'q0025_0003', 'q0026',\n",
      "       'q0028', 'q0029', 'q0030', 'q0034', 'q0035', 'q0036', 'race2',\n",
      "       'racethn4', 'educ3', 'educ4', 'age3', 'kids', 'orientation', 'weight'],\n",
      "      dtype='object')\n",
      "Number of responses:  1189\n"
     ]
    }
   ],
   "source": [
    "print(df.shape)\n",
    "print(df.columns)\n",
    "print('Number of responses: ', len(df))"
   ]
  },
  {
   "cell_type": "code",
   "execution_count": 50,
   "id": "15c7c5ff",
   "metadata": {},
   "outputs": [
    {
     "name": "stdout",
     "output_type": "stream",
     "text": [
      "q0010_0001      613\n",
      "q0010_0002      613\n",
      "q0010_0003      613\n",
      "q0010_0004      613\n",
      "q0010_0005      613\n",
      "q0010_0006      613\n",
      "q0010_0007      613\n",
      "q0010_0008      613\n",
      "q0011_0001      613\n",
      "q0011_0002      613\n",
      "q0011_0003      613\n",
      "q0011_0004      613\n",
      "q0011_0005      613\n",
      "q0012_0001      613\n",
      "q0012_0002      613\n",
      "q0012_0003      613\n",
      "q0012_0004      613\n",
      "q0012_0005      613\n",
      "q0012_0006      613\n",
      "q0012_0007      613\n",
      "q0013          1160\n",
      "q0014           613\n",
      "q0015           704\n",
      "q0019_0001      264\n",
      "q0019_0002      264\n",
      "q0019_0003      264\n",
      "q0019_0004      264\n",
      "q0019_0005      264\n",
      "q0019_0006      264\n",
      "q0019_0007      264\n",
      "q0034             2\n",
      "q0035            12\n",
      "q0036             2\n",
      "educ3             1\n",
      "educ4             1\n",
      "age3              1\n",
      "kids              6\n",
      "orientation       1\n",
      "weight            1\n",
      "dtype: int64\n"
     ]
    }
   ],
   "source": [
    "missing_counts = df.isnull().sum()\n",
    "missing_columns = missing_counts[missing_counts > 0]\n",
    "print(missing_columns)"
   ]
  },
  {
   "cell_type": "markdown",
   "id": "a2bc50c0",
   "metadata": {},
   "source": [
    "Many of these values are down to participants skipping or failing to answer questions."
   ]
  },
  {
   "cell_type": "markdown",
   "id": "73d5b37d",
   "metadata": {},
   "source": [
    "## Data manipulation"
   ]
  },
  {
   "cell_type": "code",
   "execution_count": 51,
   "id": "54d072d8",
   "metadata": {},
   "outputs": [],
   "source": [
    "cols_to_map = [\"q0007_0001\", \"q0007_0002\", \"q0007_0003\", \"q0007_0004\",\n",
    "       \"q0007_0005\", \"q0007_0006\", \"q0007_0007\", \"q0007_0008\", \"q0007_0009\",\n",
    "       \"q0007_0010\", \"q0007_0011\"]\n",
    "\n",
    "for col_name in cols_to_map:\n",
    "    df[col_name] = df[col_name].map({\"Often\": 4, \"Sometimes\": 3, \"Rarely\" : 2, \"Never, but open to it\": 1, \n",
    "                                    \"Never, and not open to it\": 0})\n",
    "    "
   ]
  },
  {
   "cell_type": "code",
   "execution_count": 53,
   "id": "09d6607f",
   "metadata": {},
   "outputs": [],
   "source": [
    "df['q0001'] = df['q0001'].map({'Very masculine':3, 'Somewhat masculine':2, 'Not very masculine':1, 'Not at all masculine':0})"
   ]
  },
  {
   "cell_type": "code",
   "execution_count": 54,
   "id": "d0e1fd23",
   "metadata": {},
   "outputs": [],
   "source": [
    "relevant_cols = cols_to_map\n",
    "rows_to_cluster = df.dropna(subset=relevant_cols)"
   ]
  },
  {
   "cell_type": "markdown",
   "id": "0201bff6",
   "metadata": {},
   "source": [
    "## Fit the K-Means algorithm"
   ]
  },
  {
   "cell_type": "markdown",
   "id": "5029d974",
   "metadata": {},
   "source": [
    "KMeans is an unsupervised machine learning algorithm, which is used to group together similar datapoints into k clusters, where each cluster represents a group of similar datapoints. \n",
    "\n",
    "Here is how it works:\n",
    "1. First, you need to know how many clusters you are grouping the data into.\n",
    "2. The algorithm selects 'k' datapoints to be the initial centers of each cluster. \n",
    "3. Each datapoint is assigned to the cluster with the nearest center point.\n",
    "4. The center of the cluster is then updated to be the mean of the datapoints in each cluster that was previously taken.\n",
    "5. Steps 3 and 4 repeat continues until either the centers no longer move or the maximum number of iterations is reached. \n",
    "6. The algorithm then outputs the clusters."
   ]
  },
  {
   "cell_type": "code",
   "execution_count": 36,
   "id": "15fa4579",
   "metadata": {},
   "outputs": [
    {
     "data": {
      "text/plain": [
       "KMeans(n_clusters=2)"
      ]
     },
     "execution_count": 36,
     "metadata": {},
     "output_type": "execute_result"
    }
   ],
   "source": [
    "km = KMeans(n_clusters=2)\n",
    "km.fit(rows_to_cluster[relevant_cols])"
   ]
  },
  {
   "cell_type": "code",
   "execution_count": 37,
   "id": "ce4f83e9",
   "metadata": {},
   "outputs": [
    {
     "name": "stdout",
     "output_type": "stream",
     "text": [
      "[[1.91052632 1.85263158 0.95789474 1.66578947 0.53947368 2.88421053\n",
      "  0.08421053 2.80789474 2.17894737 0.60789474 1.66315789]\n",
      " [2.85381026 2.83359253 2.83981337 2.44012442 0.71695179 2.74339036\n",
      "  0.52410575 2.97045101 2.80248834 1.53654743 2.39502333]]\n"
     ]
    }
   ],
   "source": [
    "print(km.cluster_centers_)"
   ]
  },
  {
   "cell_type": "code",
   "execution_count": 43,
   "id": "e9e5afbe",
   "metadata": {},
   "outputs": [],
   "source": [
    "labels = km.labels_"
   ]
  },
  {
   "cell_type": "code",
   "execution_count": 60,
   "id": "e5892526",
   "metadata": {},
   "outputs": [],
   "source": [
    "cluster_zero_df = []\n",
    "cluster_one_df = []\n",
    "for i in range(len(labels)):\n",
    "    if labels[i] == 0:\n",
    "        cluster_zero_df.append(i+1)\n",
    "    elif labels[i] == 1:\n",
    "        cluster_one_df.append(i+1)\n",
    "    else:\n",
    "        print('Error')"
   ]
  },
  {
   "cell_type": "code",
   "execution_count": 61,
   "id": "f978bf6e",
   "metadata": {},
   "outputs": [
    {
     "name": "stdout",
     "output_type": "stream",
     "text": [
      "[3, 4, 6, 7, 9, 10, 12, 17, 18, 19, 26, 28, 32, 41, 46, 47, 49, 50, 51, 52, 53, 55, 56, 60, 61, 62, 63, 66, 72, 76, 82, 83, 84, 85, 86, 87, 88, 90, 91, 92, 93, 94, 97, 102, 103, 107, 109, 112, 114, 115, 119, 124, 125, 126, 127, 128, 130, 135, 137, 138, 139, 144, 150, 168, 172, 175, 180, 181, 182, 184, 186, 190, 192, 193, 195, 196, 199, 203, 206, 223, 225, 227, 230, 231, 234, 235, 242, 244, 254, 255, 258, 263, 266, 269, 273, 277, 278, 279, 285, 290, 293, 294, 295, 299, 304, 306, 311, 313, 317, 320, 328, 329, 330, 331, 336, 339, 340, 342, 347, 348, 351, 353, 354, 356, 362, 363, 371, 375, 376, 377, 378, 379, 382, 383, 384, 388, 394, 395, 397, 401, 402, 403, 404, 410, 413, 414, 417, 432, 434, 436, 438, 439, 440, 442, 444, 445, 446, 453, 455, 456, 457, 460, 461, 462, 463, 469, 470, 474, 475, 476, 477, 478, 479, 481, 483, 484, 487, 489, 493, 494, 495, 497, 500, 501, 505, 507, 510, 511, 513, 515, 516, 525, 529, 533, 538, 539, 542, 543, 545, 546, 547, 548, 549, 552, 554, 555, 559, 561, 562, 567, 570, 571, 574, 575, 576, 584, 591, 597, 599, 601, 604, 607, 609, 612, 614, 615, 616, 617, 626, 628, 631, 632, 633, 636, 639, 646, 654, 658, 660, 662, 663, 664, 668, 669, 673, 674, 681, 686, 687, 694, 695, 696, 697, 698, 699, 702, 704, 709, 712, 715, 718, 719, 722, 723, 724, 725, 728, 732, 733, 739, 742, 743, 745, 747, 748, 749, 750, 751, 753, 754, 755, 756, 760, 761, 762, 764, 766, 772, 774, 776, 780, 781, 783, 785, 790, 794, 800, 802, 806, 811, 812, 817, 819, 821, 824, 826, 828, 831, 836, 840, 842, 843, 847, 848, 849, 850, 851, 852, 854, 856, 859, 861, 862, 864, 865, 866, 867, 868, 877, 880, 884, 885, 887, 888, 889, 894, 901, 907, 908, 914, 922, 925, 926, 930, 931, 933, 934, 937, 940, 941, 945, 947, 949, 951, 953, 955, 960, 962, 965, 967, 969, 973, 975, 976, 978, 993, 997, 998, 999, 1000, 1003, 1004, 1006, 1009, 1011, 1015, 1016, 1018, 1022, 1023]\n"
     ]
    }
   ],
   "source": [
    "print(cluster_zero_df)"
   ]
  },
  {
   "cell_type": "code",
   "execution_count": 62,
   "id": "b8c85592",
   "metadata": {},
   "outputs": [
    {
     "name": "stdout",
     "output_type": "stream",
     "text": [
      "[1, 2, 5, 8, 11, 13, 14, 15, 16, 20, 21, 22, 23, 24, 25, 27, 29, 30, 31, 33, 34, 35, 36, 37, 38, 39, 40, 42, 43, 44, 45, 48, 54, 57, 58, 59, 64, 65, 67, 68, 69, 70, 71, 73, 74, 75, 77, 78, 79, 80, 81, 89, 95, 96, 98, 99, 100, 101, 104, 105, 106, 108, 110, 111, 113, 116, 117, 118, 120, 121, 122, 123, 129, 131, 132, 133, 134, 136, 140, 141, 142, 143, 145, 146, 147, 148, 149, 151, 152, 153, 154, 155, 156, 157, 158, 159, 160, 161, 162, 163, 164, 165, 166, 167, 169, 170, 171, 173, 174, 176, 177, 178, 179, 183, 185, 187, 188, 189, 191, 194, 197, 198, 200, 201, 202, 204, 205, 207, 208, 209, 210, 211, 212, 213, 214, 215, 216, 217, 218, 219, 220, 221, 222, 224, 226, 228, 229, 232, 233, 236, 237, 238, 239, 240, 241, 243, 245, 246, 247, 248, 249, 250, 251, 252, 253, 256, 257, 259, 260, 261, 262, 264, 265, 267, 268, 270, 271, 272, 274, 275, 276, 280, 281, 282, 283, 284, 286, 287, 288, 289, 291, 292, 296, 297, 298, 300, 301, 302, 303, 305, 307, 308, 309, 310, 312, 314, 315, 316, 318, 319, 321, 322, 323, 324, 325, 326, 327, 332, 333, 334, 335, 337, 338, 341, 343, 344, 345, 346, 349, 350, 352, 355, 357, 358, 359, 360, 361, 364, 365, 366, 367, 368, 369, 370, 372, 373, 374, 380, 381, 385, 386, 387, 389, 390, 391, 392, 393, 396, 398, 399, 400, 405, 406, 407, 408, 409, 411, 412, 415, 416, 418, 419, 420, 421, 422, 423, 424, 425, 426, 427, 428, 429, 430, 431, 433, 435, 437, 441, 443, 447, 448, 449, 450, 451, 452, 454, 458, 459, 464, 465, 466, 467, 468, 471, 472, 473, 480, 482, 485, 486, 488, 490, 491, 492, 496, 498, 499, 502, 503, 504, 506, 508, 509, 512, 514, 517, 518, 519, 520, 521, 522, 523, 524, 526, 527, 528, 530, 531, 532, 534, 535, 536, 537, 540, 541, 544, 550, 551, 553, 556, 557, 558, 560, 563, 564, 565, 566, 568, 569, 572, 573, 577, 578, 579, 580, 581, 582, 583, 585, 586, 587, 588, 589, 590, 592, 593, 594, 595, 596, 598, 600, 602, 603, 605, 606, 608, 610, 611, 613, 618, 619, 620, 621, 622, 623, 624, 625, 627, 629, 630, 634, 635, 637, 638, 640, 641, 642, 643, 644, 645, 647, 648, 649, 650, 651, 652, 653, 655, 656, 657, 659, 661, 665, 666, 667, 670, 671, 672, 675, 676, 677, 678, 679, 680, 682, 683, 684, 685, 688, 689, 690, 691, 692, 693, 700, 701, 703, 705, 706, 707, 708, 710, 711, 713, 714, 716, 717, 720, 721, 726, 727, 729, 730, 731, 734, 735, 736, 737, 738, 740, 741, 744, 746, 752, 757, 758, 759, 763, 765, 767, 768, 769, 770, 771, 773, 775, 777, 778, 779, 782, 784, 786, 787, 788, 789, 791, 792, 793, 795, 796, 797, 798, 799, 801, 803, 804, 805, 807, 808, 809, 810, 813, 814, 815, 816, 818, 820, 822, 823, 825, 827, 829, 830, 832, 833, 834, 835, 837, 838, 839, 841, 844, 845, 846, 853, 855, 857, 858, 860, 863, 869, 870, 871, 872, 873, 874, 875, 876, 878, 879, 881, 882, 883, 886, 890, 891, 892, 893, 895, 896, 897, 898, 899, 900, 902, 903, 904, 905, 906, 909, 910, 911, 912, 913, 915, 916, 917, 918, 919, 920, 921, 923, 924, 927, 928, 929, 932, 935, 936, 938, 939, 942, 943, 944, 946, 948, 950, 952, 954, 956, 957, 958, 959, 961, 963, 964, 966, 968, 970, 971, 972, 974, 977, 979, 980, 981, 982, 983, 984, 985, 986, 987, 988, 989, 990, 991, 992, 994, 995, 996, 1001, 1002, 1005, 1007, 1008, 1010, 1012, 1013, 1014, 1017, 1019, 1020, 1021]\n"
     ]
    }
   ],
   "source": [
    "print(cluster_one_df)"
   ]
  },
  {
   "cell_type": "code",
   "execution_count": 63,
   "id": "dae5acef",
   "metadata": {},
   "outputs": [],
   "source": [
    "cluster_zero_mean = df.q0001[cluster_zero_df].mean()"
   ]
  },
  {
   "cell_type": "code",
   "execution_count": 64,
   "id": "1ce66b82",
   "metadata": {},
   "outputs": [],
   "source": [
    "cluster_one_mean = df.q0001[cluster_one_df].mean()"
   ]
  },
  {
   "cell_type": "code",
   "execution_count": 65,
   "id": "869404a0",
   "metadata": {},
   "outputs": [
    {
     "name": "stdout",
     "output_type": "stream",
     "text": [
      "2.2705570291777186\n",
      "2.2574568288854002\n"
     ]
    }
   ],
   "source": [
    "print(cluster_zero_mean)\n",
    "print(cluster_one_mean)"
   ]
  },
  {
   "cell_type": "markdown",
   "id": "7660299c",
   "metadata": {},
   "source": [
    "Looking at the difference in what the survey respondents thought of their masculinity in the two clusters, we can see the mean values are extremely close, therefore we can see that based on features in question 7 there is no natural clustering by masculinity. "
   ]
  }
 ],
 "metadata": {
  "kernelspec": {
   "display_name": "Python 3 (ipykernel)",
   "language": "python",
   "name": "python3"
  },
  "language_info": {
   "codemirror_mode": {
    "name": "ipython",
    "version": 3
   },
   "file_extension": ".py",
   "mimetype": "text/x-python",
   "name": "python",
   "nbconvert_exporter": "python",
   "pygments_lexer": "ipython3",
   "version": "3.9.13"
  }
 },
 "nbformat": 4,
 "nbformat_minor": 5
}
