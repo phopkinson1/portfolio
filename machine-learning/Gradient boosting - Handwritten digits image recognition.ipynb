{
 "cells": [
  {
   "cell_type": "markdown",
   "id": "0ba7cc01",
   "metadata": {},
   "source": [
    "# Gradient boosting - handwritten number image recognition"
   ]
  },
  {
   "cell_type": "markdown",
   "id": "f11a68a6",
   "metadata": {},
   "source": [
    "## Import required libraries"
   ]
  },
  {
   "cell_type": "code",
   "execution_count": 92,
   "id": "7061e277",
   "metadata": {},
   "outputs": [],
   "source": [
    "import numpy as np\n",
    "import pandas as pd\n",
    "from sklearn.datasets import load_digits\n",
    "from sklearn.model_selection import cross_val_score, GridSearchCV, train_test_split\n",
    "from sklearn.ensemble import AdaBoostClassifier, GradientBoostingClassifier\n",
    "from sklearn.metrics import confusion_matrix, accuracy_score\n",
    "from xgboost import XGBClassifier"
   ]
  },
  {
   "cell_type": "markdown",
   "id": "f803152a",
   "metadata": {},
   "source": [
    "## Importing the data"
   ]
  },
  {
   "cell_type": "code",
   "execution_count": 93,
   "id": "9f6ccdde",
   "metadata": {},
   "outputs": [],
   "source": [
    "digits = load_digits()\n",
    "X = digits.data\n",
    "y = digits.target"
   ]
  },
  {
   "cell_type": "markdown",
   "id": "e820a3fa",
   "metadata": {},
   "source": [
    "## Fitting and evaluating the model - Gradient boosting classifier"
   ]
  },
  {
   "cell_type": "markdown",
   "id": "603b51d4",
   "metadata": {},
   "source": [
    "For this model, we will be using the Gradient Boosting classifier, this is a supervised learning model that belongs to a family of emsemble methods. First, we need a loss function to minimize, the specific function depends on the task, whether it is a classification or regression problem. It may also depends on whether it is a binary or multiclass classification problem. \n",
    "\n",
    "Gradient Boosting works by using a weak learner (decision tree in our example) as a base model. In an additive process, each step adds another base model to the ensemble, in which a gradient descent procedure is used to minimize the loss. \n",
    "This process continues until the model reaches an acceptable level or no longer improves on a validation dataset."
   ]
  },
  {
   "cell_type": "code",
   "execution_count": 119,
   "id": "771bc539",
   "metadata": {},
   "outputs": [],
   "source": [
    "gb = GradientBoostingClassifier(max_features=\"sqrt\", random_state=12)"
   ]
  },
  {
   "cell_type": "markdown",
   "id": "aaa7cd32",
   "metadata": {},
   "source": [
    "The code above creates a class instance of the Gradient Boosting classifier, with the parameter `random_state` ensuring that the output is reproducible rather than a random outcome each time the code is run."
   ]
  },
  {
   "cell_type": "code",
   "execution_count": 120,
   "id": "e1ea861a",
   "metadata": {},
   "outputs": [],
   "source": [
    "param_grid = {\n",
    "    'learning_rate': [0.05, 0.1, 0.15, 0.2],\n",
    "    'n_estimators': [40, 60, 80, 100],\n",
    "    'subsample': [0.6, 0.8, 1.0],\n",
    "    'min_samples_split': [20, 40, 60, 80, 100], np.linspace(20, 100, 4)\n",
    "    'max_depth': [3, 4, 5],\n",
    "    \n",
    "}"
   ]
  },
  {
   "cell_type": "markdown",
   "id": "8a36dc7b",
   "metadata": {},
   "source": [
    "The `param_grid` is the values of the different parameters that we test for in the cross-validation."
   ]
  },
  {
   "cell_type": "code",
   "execution_count": 121,
   "id": "a088f1d4",
   "metadata": {},
   "outputs": [
    {
     "name": "stdout",
     "output_type": "stream",
     "text": [
      "Fitting 3 folds for each of 720 candidates, totalling 2160 fits\n"
     ]
    },
    {
     "data": {
      "text/html": [
       "<style>#sk-container-id-18 {color: black;background-color: white;}#sk-container-id-18 pre{padding: 0;}#sk-container-id-18 div.sk-toggleable {background-color: white;}#sk-container-id-18 label.sk-toggleable__label {cursor: pointer;display: block;width: 100%;margin-bottom: 0;padding: 0.3em;box-sizing: border-box;text-align: center;}#sk-container-id-18 label.sk-toggleable__label-arrow:before {content: \"▸\";float: left;margin-right: 0.25em;color: #696969;}#sk-container-id-18 label.sk-toggleable__label-arrow:hover:before {color: black;}#sk-container-id-18 div.sk-estimator:hover label.sk-toggleable__label-arrow:before {color: black;}#sk-container-id-18 div.sk-toggleable__content {max-height: 0;max-width: 0;overflow: hidden;text-align: left;background-color: #f0f8ff;}#sk-container-id-18 div.sk-toggleable__content pre {margin: 0.2em;color: black;border-radius: 0.25em;background-color: #f0f8ff;}#sk-container-id-18 input.sk-toggleable__control:checked~div.sk-toggleable__content {max-height: 200px;max-width: 100%;overflow: auto;}#sk-container-id-18 input.sk-toggleable__control:checked~label.sk-toggleable__label-arrow:before {content: \"▾\";}#sk-container-id-18 div.sk-estimator input.sk-toggleable__control:checked~label.sk-toggleable__label {background-color: #d4ebff;}#sk-container-id-18 div.sk-label input.sk-toggleable__control:checked~label.sk-toggleable__label {background-color: #d4ebff;}#sk-container-id-18 input.sk-hidden--visually {border: 0;clip: rect(1px 1px 1px 1px);clip: rect(1px, 1px, 1px, 1px);height: 1px;margin: -1px;overflow: hidden;padding: 0;position: absolute;width: 1px;}#sk-container-id-18 div.sk-estimator {font-family: monospace;background-color: #f0f8ff;border: 1px dotted black;border-radius: 0.25em;box-sizing: border-box;margin-bottom: 0.5em;}#sk-container-id-18 div.sk-estimator:hover {background-color: #d4ebff;}#sk-container-id-18 div.sk-parallel-item::after {content: \"\";width: 100%;border-bottom: 1px solid gray;flex-grow: 1;}#sk-container-id-18 div.sk-label:hover label.sk-toggleable__label {background-color: #d4ebff;}#sk-container-id-18 div.sk-serial::before {content: \"\";position: absolute;border-left: 1px solid gray;box-sizing: border-box;top: 0;bottom: 0;left: 50%;z-index: 0;}#sk-container-id-18 div.sk-serial {display: flex;flex-direction: column;align-items: center;background-color: white;padding-right: 0.2em;padding-left: 0.2em;position: relative;}#sk-container-id-18 div.sk-item {position: relative;z-index: 1;}#sk-container-id-18 div.sk-parallel {display: flex;align-items: stretch;justify-content: center;background-color: white;position: relative;}#sk-container-id-18 div.sk-item::before, #sk-container-id-18 div.sk-parallel-item::before {content: \"\";position: absolute;border-left: 1px solid gray;box-sizing: border-box;top: 0;bottom: 0;left: 50%;z-index: -1;}#sk-container-id-18 div.sk-parallel-item {display: flex;flex-direction: column;z-index: 1;position: relative;background-color: white;}#sk-container-id-18 div.sk-parallel-item:first-child::after {align-self: flex-end;width: 50%;}#sk-container-id-18 div.sk-parallel-item:last-child::after {align-self: flex-start;width: 50%;}#sk-container-id-18 div.sk-parallel-item:only-child::after {width: 0;}#sk-container-id-18 div.sk-dashed-wrapped {border: 1px dashed gray;margin: 0 0.4em 0.5em 0.4em;box-sizing: border-box;padding-bottom: 0.4em;background-color: white;}#sk-container-id-18 div.sk-label label {font-family: monospace;font-weight: bold;display: inline-block;line-height: 1.2em;}#sk-container-id-18 div.sk-label-container {text-align: center;}#sk-container-id-18 div.sk-container {/* jupyter's `normalize.less` sets `[hidden] { display: none; }` but bootstrap.min.css set `[hidden] { display: none !important; }` so we also need the `!important` here to be able to override the default hidden behavior on the sphinx rendered scikit-learn.org. See: https://github.com/scikit-learn/scikit-learn/issues/21755 */display: inline-block !important;position: relative;}#sk-container-id-18 div.sk-text-repr-fallback {display: none;}</style><div id=\"sk-container-id-18\" class=\"sk-top-container\"><div class=\"sk-text-repr-fallback\"><pre>GridSearchCV(cv=3,\n",
       "             estimator=GradientBoostingClassifier(max_features=&#x27;sqrt&#x27;,\n",
       "                                                  random_state=12),\n",
       "             n_jobs=-1,\n",
       "             param_grid={&#x27;learning_rate&#x27;: [0.05, 0.1, 0.15, 0.2],\n",
       "                         &#x27;max_depth&#x27;: [3, 4, 5],\n",
       "                         &#x27;min_samples_split&#x27;: [20, 40, 60, 80, 100],\n",
       "                         &#x27;n_estimators&#x27;: [40, 60, 80, 100],\n",
       "                         &#x27;subsample&#x27;: [0.6, 0.8, 1.0]},\n",
       "             scoring=&#x27;accuracy&#x27;, verbose=1)</pre><b>In a Jupyter environment, please rerun this cell to show the HTML representation or trust the notebook. <br />On GitHub, the HTML representation is unable to render, please try loading this page with nbviewer.org.</b></div><div class=\"sk-container\" hidden><div class=\"sk-item sk-dashed-wrapped\"><div class=\"sk-label-container\"><div class=\"sk-label sk-toggleable\"><input class=\"sk-toggleable__control sk-hidden--visually\" id=\"sk-estimator-id-52\" type=\"checkbox\" ><label for=\"sk-estimator-id-52\" class=\"sk-toggleable__label sk-toggleable__label-arrow\">GridSearchCV</label><div class=\"sk-toggleable__content\"><pre>GridSearchCV(cv=3,\n",
       "             estimator=GradientBoostingClassifier(max_features=&#x27;sqrt&#x27;,\n",
       "                                                  random_state=12),\n",
       "             n_jobs=-1,\n",
       "             param_grid={&#x27;learning_rate&#x27;: [0.05, 0.1, 0.15, 0.2],\n",
       "                         &#x27;max_depth&#x27;: [3, 4, 5],\n",
       "                         &#x27;min_samples_split&#x27;: [20, 40, 60, 80, 100],\n",
       "                         &#x27;n_estimators&#x27;: [40, 60, 80, 100],\n",
       "                         &#x27;subsample&#x27;: [0.6, 0.8, 1.0]},\n",
       "             scoring=&#x27;accuracy&#x27;, verbose=1)</pre></div></div></div><div class=\"sk-parallel\"><div class=\"sk-parallel-item\"><div class=\"sk-item\"><div class=\"sk-label-container\"><div class=\"sk-label sk-toggleable\"><input class=\"sk-toggleable__control sk-hidden--visually\" id=\"sk-estimator-id-53\" type=\"checkbox\" ><label for=\"sk-estimator-id-53\" class=\"sk-toggleable__label sk-toggleable__label-arrow\">estimator: GradientBoostingClassifier</label><div class=\"sk-toggleable__content\"><pre>GradientBoostingClassifier(max_features=&#x27;sqrt&#x27;, random_state=12)</pre></div></div></div><div class=\"sk-serial\"><div class=\"sk-item\"><div class=\"sk-estimator sk-toggleable\"><input class=\"sk-toggleable__control sk-hidden--visually\" id=\"sk-estimator-id-54\" type=\"checkbox\" ><label for=\"sk-estimator-id-54\" class=\"sk-toggleable__label sk-toggleable__label-arrow\">GradientBoostingClassifier</label><div class=\"sk-toggleable__content\"><pre>GradientBoostingClassifier(max_features=&#x27;sqrt&#x27;, random_state=12)</pre></div></div></div></div></div></div></div></div></div></div>"
      ],
      "text/plain": [
       "GridSearchCV(cv=3,\n",
       "             estimator=GradientBoostingClassifier(max_features='sqrt',\n",
       "                                                  random_state=12),\n",
       "             n_jobs=-1,\n",
       "             param_grid={'learning_rate': [0.05, 0.1, 0.15, 0.2],\n",
       "                         'max_depth': [3, 4, 5],\n",
       "                         'min_samples_split': [20, 40, 60, 80, 100],\n",
       "                         'n_estimators': [40, 60, 80, 100],\n",
       "                         'subsample': [0.6, 0.8, 1.0]},\n",
       "             scoring='accuracy', verbose=1)"
      ]
     },
     "execution_count": 121,
     "metadata": {},
     "output_type": "execute_result"
    }
   ],
   "source": [
    "grid_search = GridSearchCV(estimator=gb, param_grid=param_grid, n_jobs=-1, cv=3, scoring='accuracy', verbose=1)\n",
    "grid_search.fit(X, y)"
   ]
  },
  {
   "cell_type": "markdown",
   "id": "679a8a16",
   "metadata": {},
   "source": [
    "The `GridSearchCV` is a class which performs a search of the different hyperparameter space of an estimator to determine which is the best fit. In this case, we have 720 candidates and the model will assess the performance of each model across 3 different folds of the data.\n",
    "\n",
    "We specify six different parameters in our class instance, four of which refer directly to the grid search, which are:\n",
    "* `cv` specifies the number of folds to be used in KFold cross validation.\n",
    "* `param_grid` is a dictionary of the different hyperparameters and values the class will iterate over and test for in our grid search, in this case it is pre-determined values in our `param_grid` above.\n",
    "* `estimator` is the machine learning estimator we want to optimize the use of in the model. In this example, we use the `gb` class instance, but throughout this notebook we will adapt this to use different models.\n",
    "* `scoring` is the metric we use to evaluate the performance of each model fit, in this case we use the `accuracy` metric.\n",
    "\n",
    "The last two parameters are to do with the configuration and computation aspects of the grid search:\n",
    "* `verbose` is a parameter used to determine how much information is provided about the progress of the code. By opting for a value of one, we receive details regarding the number of candidates, folds and total number of fits. This number can be increased to provide more insights, such as notifications on each run completion, the runtime and a model score.\n",
    "* `n_jobs` specifies the number of processors to use in the computation,  a `-1` value uses all of the available processors."
   ]
  },
  {
   "cell_type": "code",
   "execution_count": 122,
   "id": "507a51e1",
   "metadata": {},
   "outputs": [
    {
     "name": "stdout",
     "output_type": "stream",
     "text": [
      "Best n_estimators: 100\n",
      "Best learning_rate: 0.2\n",
      "Best subsample: 0.6\n",
      "Best min_samples_split: 20\n",
      "Best max_depth: 5\n",
      "Best accuracy score: 95.326%\n"
     ]
    }
   ],
   "source": [
    "print(f\"Best n_estimators: {grid_search.best_params_['n_estimators']}\")\n",
    "print(f\"Best learning_rate: {grid_search.best_params_['learning_rate']}\")\n",
    "print(f\"Best subsample: {grid_search.best_params_['subsample']}\")\n",
    "print(f\"Best min_samples_split: {grid_search.best_params_['min_samples_split']}\")\n",
    "print(f\"Best max_depth: {grid_search.best_params_['max_depth']}\")\n",
    "print(f\"Best accuracy score: {round(grid_search.best_score_, 5) * 100}%\")"
   ]
  },
  {
   "cell_type": "markdown",
   "id": "8027b963",
   "metadata": {},
   "source": [
    "## Fitting and evaluating the model - AdaBoost"
   ]
  },
  {
   "cell_type": "markdown",
   "id": "43d97e36",
   "metadata": {},
   "source": [
    "AdaBoost, also known as Adaptive Boosting, is a type of gradient boosting algorithm. It differs from gradient boosting in a few ways, it is the first algorithm to use a specific loss function called the Exponential Loss function. With this function, unlike traditional gradient boosting, it will amplify any penalties for instances which are further away from the decision boundary. This can make the algorithm sensitive to outliers. \n",
    "\n",
    "**Exponential Loss function**\n",
    "\n",
    "$$\n",
    "L(y, f(x)) = e^{-y \\cdot f(x)}\n",
    "$$\n",
    "\n",
    "\n",
    "Another notable difference is that the weak learners used in AdaBoost are decision stumps, which is a one-level decision tree. These are then used as part of the additive model, in each iteration the loss function provides more weight to the mistakes made by the previous model. This means the weak learners focus on classifying more difficult instances. \n",
    "\n",
    "This boosting process continues until the maximum number of iterations is reached or the algorithm achieves desired level of accuracy. This adaptive approach allows AdaBoost to iteratively improve its performance by emphasizing the previously misclassified instances. "
   ]
  },
  {
   "cell_type": "code",
   "execution_count": 129,
   "id": "b6fd146d",
   "metadata": {},
   "outputs": [],
   "source": [
    "abc = AdaBoostClassifier(random_state=13)"
   ]
  },
  {
   "cell_type": "code",
   "execution_count": 130,
   "id": "08db9827",
   "metadata": {},
   "outputs": [],
   "source": [
    "param_grid_1 = {\n",
    "    'learning_rate': [0.01, 0.05, 0.1, 0.15, 0.2, 0.25],\n",
    "    'n_estimators': np.linspace(20, 200, 10, dtype=int)\n",
    "}"
   ]
  },
  {
   "cell_type": "code",
   "execution_count": 131,
   "id": "194b0744",
   "metadata": {},
   "outputs": [
    {
     "data": {
      "text/html": [
       "<style>#sk-container-id-20 {color: black;background-color: white;}#sk-container-id-20 pre{padding: 0;}#sk-container-id-20 div.sk-toggleable {background-color: white;}#sk-container-id-20 label.sk-toggleable__label {cursor: pointer;display: block;width: 100%;margin-bottom: 0;padding: 0.3em;box-sizing: border-box;text-align: center;}#sk-container-id-20 label.sk-toggleable__label-arrow:before {content: \"▸\";float: left;margin-right: 0.25em;color: #696969;}#sk-container-id-20 label.sk-toggleable__label-arrow:hover:before {color: black;}#sk-container-id-20 div.sk-estimator:hover label.sk-toggleable__label-arrow:before {color: black;}#sk-container-id-20 div.sk-toggleable__content {max-height: 0;max-width: 0;overflow: hidden;text-align: left;background-color: #f0f8ff;}#sk-container-id-20 div.sk-toggleable__content pre {margin: 0.2em;color: black;border-radius: 0.25em;background-color: #f0f8ff;}#sk-container-id-20 input.sk-toggleable__control:checked~div.sk-toggleable__content {max-height: 200px;max-width: 100%;overflow: auto;}#sk-container-id-20 input.sk-toggleable__control:checked~label.sk-toggleable__label-arrow:before {content: \"▾\";}#sk-container-id-20 div.sk-estimator input.sk-toggleable__control:checked~label.sk-toggleable__label {background-color: #d4ebff;}#sk-container-id-20 div.sk-label input.sk-toggleable__control:checked~label.sk-toggleable__label {background-color: #d4ebff;}#sk-container-id-20 input.sk-hidden--visually {border: 0;clip: rect(1px 1px 1px 1px);clip: rect(1px, 1px, 1px, 1px);height: 1px;margin: -1px;overflow: hidden;padding: 0;position: absolute;width: 1px;}#sk-container-id-20 div.sk-estimator {font-family: monospace;background-color: #f0f8ff;border: 1px dotted black;border-radius: 0.25em;box-sizing: border-box;margin-bottom: 0.5em;}#sk-container-id-20 div.sk-estimator:hover {background-color: #d4ebff;}#sk-container-id-20 div.sk-parallel-item::after {content: \"\";width: 100%;border-bottom: 1px solid gray;flex-grow: 1;}#sk-container-id-20 div.sk-label:hover label.sk-toggleable__label {background-color: #d4ebff;}#sk-container-id-20 div.sk-serial::before {content: \"\";position: absolute;border-left: 1px solid gray;box-sizing: border-box;top: 0;bottom: 0;left: 50%;z-index: 0;}#sk-container-id-20 div.sk-serial {display: flex;flex-direction: column;align-items: center;background-color: white;padding-right: 0.2em;padding-left: 0.2em;position: relative;}#sk-container-id-20 div.sk-item {position: relative;z-index: 1;}#sk-container-id-20 div.sk-parallel {display: flex;align-items: stretch;justify-content: center;background-color: white;position: relative;}#sk-container-id-20 div.sk-item::before, #sk-container-id-20 div.sk-parallel-item::before {content: \"\";position: absolute;border-left: 1px solid gray;box-sizing: border-box;top: 0;bottom: 0;left: 50%;z-index: -1;}#sk-container-id-20 div.sk-parallel-item {display: flex;flex-direction: column;z-index: 1;position: relative;background-color: white;}#sk-container-id-20 div.sk-parallel-item:first-child::after {align-self: flex-end;width: 50%;}#sk-container-id-20 div.sk-parallel-item:last-child::after {align-self: flex-start;width: 50%;}#sk-container-id-20 div.sk-parallel-item:only-child::after {width: 0;}#sk-container-id-20 div.sk-dashed-wrapped {border: 1px dashed gray;margin: 0 0.4em 0.5em 0.4em;box-sizing: border-box;padding-bottom: 0.4em;background-color: white;}#sk-container-id-20 div.sk-label label {font-family: monospace;font-weight: bold;display: inline-block;line-height: 1.2em;}#sk-container-id-20 div.sk-label-container {text-align: center;}#sk-container-id-20 div.sk-container {/* jupyter's `normalize.less` sets `[hidden] { display: none; }` but bootstrap.min.css set `[hidden] { display: none !important; }` so we also need the `!important` here to be able to override the default hidden behavior on the sphinx rendered scikit-learn.org. See: https://github.com/scikit-learn/scikit-learn/issues/21755 */display: inline-block !important;position: relative;}#sk-container-id-20 div.sk-text-repr-fallback {display: none;}</style><div id=\"sk-container-id-20\" class=\"sk-top-container\"><div class=\"sk-text-repr-fallback\"><pre>GridSearchCV(cv=3, estimator=AdaBoostClassifier(random_state=13),\n",
       "             param_grid={&#x27;learning_rate&#x27;: [0.01, 0.05, 0.1, 0.15, 0.2, 0.25],\n",
       "                         &#x27;n_estimators&#x27;: array([ 20,  40,  60,  80, 100, 120, 140, 160, 180, 200])},\n",
       "             scoring=&#x27;accuracy&#x27;)</pre><b>In a Jupyter environment, please rerun this cell to show the HTML representation or trust the notebook. <br />On GitHub, the HTML representation is unable to render, please try loading this page with nbviewer.org.</b></div><div class=\"sk-container\" hidden><div class=\"sk-item sk-dashed-wrapped\"><div class=\"sk-label-container\"><div class=\"sk-label sk-toggleable\"><input class=\"sk-toggleable__control sk-hidden--visually\" id=\"sk-estimator-id-58\" type=\"checkbox\" ><label for=\"sk-estimator-id-58\" class=\"sk-toggleable__label sk-toggleable__label-arrow\">GridSearchCV</label><div class=\"sk-toggleable__content\"><pre>GridSearchCV(cv=3, estimator=AdaBoostClassifier(random_state=13),\n",
       "             param_grid={&#x27;learning_rate&#x27;: [0.01, 0.05, 0.1, 0.15, 0.2, 0.25],\n",
       "                         &#x27;n_estimators&#x27;: array([ 20,  40,  60,  80, 100, 120, 140, 160, 180, 200])},\n",
       "             scoring=&#x27;accuracy&#x27;)</pre></div></div></div><div class=\"sk-parallel\"><div class=\"sk-parallel-item\"><div class=\"sk-item\"><div class=\"sk-label-container\"><div class=\"sk-label sk-toggleable\"><input class=\"sk-toggleable__control sk-hidden--visually\" id=\"sk-estimator-id-59\" type=\"checkbox\" ><label for=\"sk-estimator-id-59\" class=\"sk-toggleable__label sk-toggleable__label-arrow\">estimator: AdaBoostClassifier</label><div class=\"sk-toggleable__content\"><pre>AdaBoostClassifier(random_state=13)</pre></div></div></div><div class=\"sk-serial\"><div class=\"sk-item\"><div class=\"sk-estimator sk-toggleable\"><input class=\"sk-toggleable__control sk-hidden--visually\" id=\"sk-estimator-id-60\" type=\"checkbox\" ><label for=\"sk-estimator-id-60\" class=\"sk-toggleable__label sk-toggleable__label-arrow\">AdaBoostClassifier</label><div class=\"sk-toggleable__content\"><pre>AdaBoostClassifier(random_state=13)</pre></div></div></div></div></div></div></div></div></div></div>"
      ],
      "text/plain": [
       "GridSearchCV(cv=3, estimator=AdaBoostClassifier(random_state=13),\n",
       "             param_grid={'learning_rate': [0.01, 0.05, 0.1, 0.15, 0.2, 0.25],\n",
       "                         'n_estimators': array([ 20,  40,  60,  80, 100, 120, 140, 160, 180, 200])},\n",
       "             scoring='accuracy')"
      ]
     },
     "execution_count": 131,
     "metadata": {},
     "output_type": "execute_result"
    }
   ],
   "source": [
    "grid_search_abc = GridSearchCV(estimator=ada, param_grid=param_grid_1, cv=3, scoring='accuracy')\n",
    "grid_search_abc.fit(X, y)"
   ]
  },
  {
   "cell_type": "code",
   "execution_count": 132,
   "id": "07fbe073",
   "metadata": {},
   "outputs": [
    {
     "name": "stdout",
     "output_type": "stream",
     "text": [
      "Best n_estimators: 120\n",
      "Best learning_rate: 0.01\n",
      "Best Accuracy: 69.62%\n"
     ]
    }
   ],
   "source": [
    "print(f\"Best n_estimators: {grid_search_abc.best_params_['n_estimators']}\")\n",
    "print(f\"Best learning_rate: {grid_search_abc.best_params_['learning_rate']}\")\n",
    "print(f\"Best Accuracy: {round(grid_search_abc.best_score_, 4) * 100}%\")"
   ]
  },
  {
   "cell_type": "markdown",
   "id": "da528d01",
   "metadata": {},
   "source": [
    "We can see how the differences between AdaBoost and Gradient Boosting have led to a significant difference in performance. This is likely down to a few key reasons:\n",
    "\n",
    "1. Different weak learners - decision stumps appear to constrain the individual learners complexity and ability to perform well as a  base model. It could be that more complex decision boundaries are required for this multiclassification problem and multi-level decision trees are more likely to capture these intricate patterns in the data.\n",
    "2. Different loss functions - AdaBoost uses the specific loss function, however Gradient Boosting can use a wide range of different functions, this makes it more flexible and is likely to lead to an increase in performance.\n",
    "\n",
    "While, AdaBoost does excel in this multiclass classification scenario, it is often used frequently in binary classification problems."
   ]
  },
  {
   "cell_type": "markdown",
   "id": "6b4fb0f9",
   "metadata": {},
   "source": [
    "## Fitting and evaluating the model - XGBoost"
   ]
  },
  {
   "cell_type": "markdown",
   "id": "fe10d02e",
   "metadata": {},
   "source": [
    "The XGBoost classifier is a more advanced class which is implemented in C++. It includes regularization techniques, which can prevent overfitting and improve model generalization, unlike the gradient boosting classifier. It also provides a wider range of hyperparameters that can be tuned to optimize model performance. "
   ]
  },
  {
   "cell_type": "code",
   "execution_count": 134,
   "id": "1622fd10",
   "metadata": {},
   "outputs": [],
   "source": [
    "xgb = XGBClassifier(random_state=13)"
   ]
  },
  {
   "cell_type": "code",
   "execution_count": 135,
   "id": "d30664de",
   "metadata": {},
   "outputs": [],
   "source": [
    "param_grid_2 = {\n",
    "    'eta': [0.05, 0.1, 0.15, 0.2],\n",
    "    'n_estimators':  np.linspace(10, 200, 20, dtype=int),\n",
    "    'reg_alpha': [0, 0.1, 0.5, 1],  # L1 regularization term\n",
    "    'reg_lambda': [0, 0.1, 0.5, 1],  # L2 regularization term\n",
    "    'subsample': [0.6, 0.8, 1.0],\n",
    "    'max_depth': [3, 4, 5, 6],\n",
    "}"
   ]
  },
  {
   "cell_type": "code",
   "execution_count": 138,
   "id": "9eb29fd8",
   "metadata": {},
   "outputs": [
    {
     "data": {
      "text/html": [
       "<style>#sk-container-id-21 {color: black;background-color: white;}#sk-container-id-21 pre{padding: 0;}#sk-container-id-21 div.sk-toggleable {background-color: white;}#sk-container-id-21 label.sk-toggleable__label {cursor: pointer;display: block;width: 100%;margin-bottom: 0;padding: 0.3em;box-sizing: border-box;text-align: center;}#sk-container-id-21 label.sk-toggleable__label-arrow:before {content: \"▸\";float: left;margin-right: 0.25em;color: #696969;}#sk-container-id-21 label.sk-toggleable__label-arrow:hover:before {color: black;}#sk-container-id-21 div.sk-estimator:hover label.sk-toggleable__label-arrow:before {color: black;}#sk-container-id-21 div.sk-toggleable__content {max-height: 0;max-width: 0;overflow: hidden;text-align: left;background-color: #f0f8ff;}#sk-container-id-21 div.sk-toggleable__content pre {margin: 0.2em;color: black;border-radius: 0.25em;background-color: #f0f8ff;}#sk-container-id-21 input.sk-toggleable__control:checked~div.sk-toggleable__content {max-height: 200px;max-width: 100%;overflow: auto;}#sk-container-id-21 input.sk-toggleable__control:checked~label.sk-toggleable__label-arrow:before {content: \"▾\";}#sk-container-id-21 div.sk-estimator input.sk-toggleable__control:checked~label.sk-toggleable__label {background-color: #d4ebff;}#sk-container-id-21 div.sk-label input.sk-toggleable__control:checked~label.sk-toggleable__label {background-color: #d4ebff;}#sk-container-id-21 input.sk-hidden--visually {border: 0;clip: rect(1px 1px 1px 1px);clip: rect(1px, 1px, 1px, 1px);height: 1px;margin: -1px;overflow: hidden;padding: 0;position: absolute;width: 1px;}#sk-container-id-21 div.sk-estimator {font-family: monospace;background-color: #f0f8ff;border: 1px dotted black;border-radius: 0.25em;box-sizing: border-box;margin-bottom: 0.5em;}#sk-container-id-21 div.sk-estimator:hover {background-color: #d4ebff;}#sk-container-id-21 div.sk-parallel-item::after {content: \"\";width: 100%;border-bottom: 1px solid gray;flex-grow: 1;}#sk-container-id-21 div.sk-label:hover label.sk-toggleable__label {background-color: #d4ebff;}#sk-container-id-21 div.sk-serial::before {content: \"\";position: absolute;border-left: 1px solid gray;box-sizing: border-box;top: 0;bottom: 0;left: 50%;z-index: 0;}#sk-container-id-21 div.sk-serial {display: flex;flex-direction: column;align-items: center;background-color: white;padding-right: 0.2em;padding-left: 0.2em;position: relative;}#sk-container-id-21 div.sk-item {position: relative;z-index: 1;}#sk-container-id-21 div.sk-parallel {display: flex;align-items: stretch;justify-content: center;background-color: white;position: relative;}#sk-container-id-21 div.sk-item::before, #sk-container-id-21 div.sk-parallel-item::before {content: \"\";position: absolute;border-left: 1px solid gray;box-sizing: border-box;top: 0;bottom: 0;left: 50%;z-index: -1;}#sk-container-id-21 div.sk-parallel-item {display: flex;flex-direction: column;z-index: 1;position: relative;background-color: white;}#sk-container-id-21 div.sk-parallel-item:first-child::after {align-self: flex-end;width: 50%;}#sk-container-id-21 div.sk-parallel-item:last-child::after {align-self: flex-start;width: 50%;}#sk-container-id-21 div.sk-parallel-item:only-child::after {width: 0;}#sk-container-id-21 div.sk-dashed-wrapped {border: 1px dashed gray;margin: 0 0.4em 0.5em 0.4em;box-sizing: border-box;padding-bottom: 0.4em;background-color: white;}#sk-container-id-21 div.sk-label label {font-family: monospace;font-weight: bold;display: inline-block;line-height: 1.2em;}#sk-container-id-21 div.sk-label-container {text-align: center;}#sk-container-id-21 div.sk-container {/* jupyter's `normalize.less` sets `[hidden] { display: none; }` but bootstrap.min.css set `[hidden] { display: none !important; }` so we also need the `!important` here to be able to override the default hidden behavior on the sphinx rendered scikit-learn.org. See: https://github.com/scikit-learn/scikit-learn/issues/21755 */display: inline-block !important;position: relative;}#sk-container-id-21 div.sk-text-repr-fallback {display: none;}</style><div id=\"sk-container-id-21\" class=\"sk-top-container\"><div class=\"sk-text-repr-fallback\"><pre>GridSearchCV(cv=3,\n",
       "             estimator=XGBClassifier(base_score=None, booster=None,\n",
       "                                     callbacks=None, colsample_bylevel=None,\n",
       "                                     colsample_bynode=None,\n",
       "                                     colsample_bytree=None,\n",
       "                                     early_stopping_rounds=None,\n",
       "                                     enable_categorical=False, eval_metric=None,\n",
       "                                     feature_types=None, gamma=None,\n",
       "                                     gpu_id=None, grow_policy=None,\n",
       "                                     importance_type=None,\n",
       "                                     interaction_constraints=None,\n",
       "                                     learning_rate=None,...\n",
       "                                     n_estimators=100, n_jobs=None,\n",
       "                                     num_parallel_tree=None, predictor=None,\n",
       "                                     random_state=13, ...),\n",
       "             n_jobs=-1,\n",
       "             param_grid={&#x27;eta&#x27;: [0.05, 0.1, 0.15, 0.2],\n",
       "                         &#x27;max_depth&#x27;: [3, 4, 5, 6],\n",
       "                         &#x27;n_estimators&#x27;: array([ 10,  20,  30,  40,  50,  60,  70,  80,  90, 100, 110, 120, 130,\n",
       "       140, 150, 160, 170, 180, 190, 200]),\n",
       "                         &#x27;reg_alpha&#x27;: [0, 0.1, 0.5, 1],\n",
       "                         &#x27;reg_lambda&#x27;: [0, 0.1, 0.5, 1],\n",
       "                         &#x27;subsample&#x27;: [0.6, 0.8, 1.0]},\n",
       "             scoring=&#x27;accuracy&#x27;)</pre><b>In a Jupyter environment, please rerun this cell to show the HTML representation or trust the notebook. <br />On GitHub, the HTML representation is unable to render, please try loading this page with nbviewer.org.</b></div><div class=\"sk-container\" hidden><div class=\"sk-item sk-dashed-wrapped\"><div class=\"sk-label-container\"><div class=\"sk-label sk-toggleable\"><input class=\"sk-toggleable__control sk-hidden--visually\" id=\"sk-estimator-id-61\" type=\"checkbox\" ><label for=\"sk-estimator-id-61\" class=\"sk-toggleable__label sk-toggleable__label-arrow\">GridSearchCV</label><div class=\"sk-toggleable__content\"><pre>GridSearchCV(cv=3,\n",
       "             estimator=XGBClassifier(base_score=None, booster=None,\n",
       "                                     callbacks=None, colsample_bylevel=None,\n",
       "                                     colsample_bynode=None,\n",
       "                                     colsample_bytree=None,\n",
       "                                     early_stopping_rounds=None,\n",
       "                                     enable_categorical=False, eval_metric=None,\n",
       "                                     feature_types=None, gamma=None,\n",
       "                                     gpu_id=None, grow_policy=None,\n",
       "                                     importance_type=None,\n",
       "                                     interaction_constraints=None,\n",
       "                                     learning_rate=None,...\n",
       "                                     n_estimators=100, n_jobs=None,\n",
       "                                     num_parallel_tree=None, predictor=None,\n",
       "                                     random_state=13, ...),\n",
       "             n_jobs=-1,\n",
       "             param_grid={&#x27;eta&#x27;: [0.05, 0.1, 0.15, 0.2],\n",
       "                         &#x27;max_depth&#x27;: [3, 4, 5, 6],\n",
       "                         &#x27;n_estimators&#x27;: array([ 10,  20,  30,  40,  50,  60,  70,  80,  90, 100, 110, 120, 130,\n",
       "       140, 150, 160, 170, 180, 190, 200]),\n",
       "                         &#x27;reg_alpha&#x27;: [0, 0.1, 0.5, 1],\n",
       "                         &#x27;reg_lambda&#x27;: [0, 0.1, 0.5, 1],\n",
       "                         &#x27;subsample&#x27;: [0.6, 0.8, 1.0]},\n",
       "             scoring=&#x27;accuracy&#x27;)</pre></div></div></div><div class=\"sk-parallel\"><div class=\"sk-parallel-item\"><div class=\"sk-item\"><div class=\"sk-label-container\"><div class=\"sk-label sk-toggleable\"><input class=\"sk-toggleable__control sk-hidden--visually\" id=\"sk-estimator-id-62\" type=\"checkbox\" ><label for=\"sk-estimator-id-62\" class=\"sk-toggleable__label sk-toggleable__label-arrow\">estimator: XGBClassifier</label><div class=\"sk-toggleable__content\"><pre>XGBClassifier(base_score=None, booster=None, callbacks=None,\n",
       "              colsample_bylevel=None, colsample_bynode=None,\n",
       "              colsample_bytree=None, early_stopping_rounds=None,\n",
       "              enable_categorical=False, eval_metric=None, feature_types=None,\n",
       "              gamma=None, gpu_id=None, grow_policy=None, importance_type=None,\n",
       "              interaction_constraints=None, learning_rate=None, max_bin=None,\n",
       "              max_cat_threshold=None, max_cat_to_onehot=None,\n",
       "              max_delta_step=None, max_depth=None, max_leaves=None,\n",
       "              min_child_weight=None, missing=nan, monotone_constraints=None,\n",
       "              n_estimators=100, n_jobs=None, num_parallel_tree=None,\n",
       "              predictor=None, random_state=13, ...)</pre></div></div></div><div class=\"sk-serial\"><div class=\"sk-item\"><div class=\"sk-estimator sk-toggleable\"><input class=\"sk-toggleable__control sk-hidden--visually\" id=\"sk-estimator-id-63\" type=\"checkbox\" ><label for=\"sk-estimator-id-63\" class=\"sk-toggleable__label sk-toggleable__label-arrow\">XGBClassifier</label><div class=\"sk-toggleable__content\"><pre>XGBClassifier(base_score=None, booster=None, callbacks=None,\n",
       "              colsample_bylevel=None, colsample_bynode=None,\n",
       "              colsample_bytree=None, early_stopping_rounds=None,\n",
       "              enable_categorical=False, eval_metric=None, feature_types=None,\n",
       "              gamma=None, gpu_id=None, grow_policy=None, importance_type=None,\n",
       "              interaction_constraints=None, learning_rate=None, max_bin=None,\n",
       "              max_cat_threshold=None, max_cat_to_onehot=None,\n",
       "              max_delta_step=None, max_depth=None, max_leaves=None,\n",
       "              min_child_weight=None, missing=nan, monotone_constraints=None,\n",
       "              n_estimators=100, n_jobs=None, num_parallel_tree=None,\n",
       "              predictor=None, random_state=13, ...)</pre></div></div></div></div></div></div></div></div></div></div>"
      ],
      "text/plain": [
       "GridSearchCV(cv=3,\n",
       "             estimator=XGBClassifier(base_score=None, booster=None,\n",
       "                                     callbacks=None, colsample_bylevel=None,\n",
       "                                     colsample_bynode=None,\n",
       "                                     colsample_bytree=None,\n",
       "                                     early_stopping_rounds=None,\n",
       "                                     enable_categorical=False, eval_metric=None,\n",
       "                                     feature_types=None, gamma=None,\n",
       "                                     gpu_id=None, grow_policy=None,\n",
       "                                     importance_type=None,\n",
       "                                     interaction_constraints=None,\n",
       "                                     learning_rate=None,...\n",
       "                                     n_estimators=100, n_jobs=None,\n",
       "                                     num_parallel_tree=None, predictor=None,\n",
       "                                     random_state=13, ...),\n",
       "             n_jobs=-1,\n",
       "             param_grid={'eta': [0.05, 0.1, 0.15, 0.2],\n",
       "                         'max_depth': [3, 4, 5, 6],\n",
       "                         'n_estimators': array([ 10,  20,  30,  40,  50,  60,  70,  80,  90, 100, 110, 120, 130,\n",
       "       140, 150, 160, 170, 180, 190, 200]),\n",
       "                         'reg_alpha': [0, 0.1, 0.5, 1],\n",
       "                         'reg_lambda': [0, 0.1, 0.5, 1],\n",
       "                         'subsample': [0.6, 0.8, 1.0]},\n",
       "             scoring='accuracy')"
      ]
     },
     "execution_count": 138,
     "metadata": {},
     "output_type": "execute_result"
    }
   ],
   "source": [
    "grid_search_xgb = GridSearchCV(estimator=xgb, param_grid=param_grid_2, cv=3, scoring='accuracy', n_jobs=-1)\n",
    "grid_search_xgb.fit(X, y)"
   ]
  },
  {
   "cell_type": "code",
   "execution_count": 144,
   "id": "981b1112",
   "metadata": {},
   "outputs": [
    {
     "name": "stdout",
     "output_type": "stream",
     "text": [
      "\n",
      "PARAMETERS\n",
      "----------------------------------------\n",
      "Best n_estimators: 130\n",
      "Best learning_rate: 0.15\n",
      "Best reg_alpha: 0\n",
      "Best reg_lambda: 0.1\n",
      "Best subsample: 0.6\n",
      "Best max_depth: 5\n",
      "\n",
      "----------------------------------------\n",
      "METRIC\n",
      "----------------------------------------\n",
      "Accuracy: 93.1553 %\n",
      "\n"
     ]
    }
   ],
   "source": [
    "best_n_estimators = grid_search_xgb.best_params_['n_estimators']\n",
    "best_learning_rate = grid_search_xgb.best_params_['eta']\n",
    "best_reg_alpha = grid_search_xgb.best_params_['reg_alpha']\n",
    "best_reg_lambda = grid_search_xgb.best_params_['reg_lambda']\n",
    "best_subsample = grid_search_xgb.best_params_['subsample']\n",
    "best_max_depth = grid_search_xgb.best_params_['max_depth']\n",
    "best_accuracy = round(grid_search_xgb.best_score_ * 100, 4)\n",
    "\n",
    "output = f\"\"\"\n",
    "PARAMETERS\n",
    "----------------------------------------\n",
    "Best n_estimators: {best_n_estimators}\n",
    "Best learning_rate: {best_learning_rate}\n",
    "Best reg_alpha: {best_reg_alpha}\n",
    "Best reg_lambda: {best_reg_lambda}\n",
    "Best subsample: {best_subsample}\n",
    "Best max_depth: {best_max_depth}\n",
    "\n",
    "----------------------------------------\n",
    "METRIC\n",
    "----------------------------------------\n",
    "Accuracy: {best_accuracy} %\n",
    "\"\"\"\n",
    "\n",
    "print(output)"
   ]
  }
 ],
 "metadata": {
  "kernelspec": {
   "display_name": "Python 3 (ipykernel)",
   "language": "python",
   "name": "python3"
  },
  "language_info": {
   "codemirror_mode": {
    "name": "ipython",
    "version": 3
   },
   "file_extension": ".py",
   "mimetype": "text/x-python",
   "name": "python",
   "nbconvert_exporter": "python",
   "pygments_lexer": "ipython3",
   "version": "3.10.9"
  }
 },
 "nbformat": 4,
 "nbformat_minor": 5
}
