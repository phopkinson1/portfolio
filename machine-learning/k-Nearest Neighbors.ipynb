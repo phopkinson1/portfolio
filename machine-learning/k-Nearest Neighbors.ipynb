{
 "cells": [
  {
   "cell_type": "markdown",
   "id": "4210b121",
   "metadata": {},
   "source": [
    "# Wine classification using the k-Nearest Neighbors algorithm"
   ]
  },
  {
   "cell_type": "markdown",
   "id": "d8640c80",
   "metadata": {},
   "source": [
    "## Import of libraries"
   ]
  },
  {
   "cell_type": "code",
   "execution_count": 36,
   "id": "f788a961",
   "metadata": {},
   "outputs": [],
   "source": [
    "import numpy as np\n",
    "import pandas as pd\n",
    "from sklearn.model_selection import train_test_split\n",
    "from sklearn.metrics import accuracy_score, f1_score, confusion_matrix, classification_report\n",
    "from sklearn.neighbors import KNeighborsClassifier\n",
    "from sklearn.datasets import load_wine\n",
    "from sklearn.preprocessing import StandardScaler"
   ]
  },
  {
   "cell_type": "markdown",
   "id": "fabcf13d",
   "metadata": {},
   "source": [
    "## Loading and preprocessing of dataset"
   ]
  },
  {
   "cell_type": "code",
   "execution_count": 37,
   "id": "578ac569",
   "metadata": {},
   "outputs": [],
   "source": [
    "wine = load_wine()\n",
    "X = wine.data\n",
    "y = wine.target"
   ]
  },
  {
   "cell_type": "code",
   "execution_count": 38,
   "id": "db2808c1",
   "metadata": {},
   "outputs": [
    {
     "name": "stdout",
     "output_type": "stream",
     "text": [
      "[[1.423e+01 1.710e+00 2.430e+00 ... 1.040e+00 3.920e+00 1.065e+03]\n",
      " [1.320e+01 1.780e+00 2.140e+00 ... 1.050e+00 3.400e+00 1.050e+03]\n",
      " [1.316e+01 2.360e+00 2.670e+00 ... 1.030e+00 3.170e+00 1.185e+03]\n",
      " ...\n",
      " [1.220e+01 3.030e+00 2.320e+00 ... 6.600e-01 1.830e+00 5.100e+02]\n",
      " [1.277e+01 2.390e+00 2.280e+00 ... 5.700e-01 1.630e+00 4.700e+02]\n",
      " [1.416e+01 2.510e+00 2.480e+00 ... 6.200e-01 1.710e+00 6.600e+02]]\n"
     ]
    }
   ],
   "source": [
    "print(X[:173])"
   ]
  },
  {
   "cell_type": "code",
   "execution_count": 39,
   "id": "13463819",
   "metadata": {
    "scrolled": true
   },
   "outputs": [
    {
     "name": "stdout",
     "output_type": "stream",
     "text": [
      "[0 0 0 0 0 0 0 0 0 0 0 0 0 0 0 0 0 0 0 0 0 0 0 0 0 0 0 0 0 0 0 0 0 0 0 0 0\n",
      " 0 0 0 0 0 0 0 0 0 0 0 0 0 0 0 0 0 0 0 0 0 0 1 1 1 1 1 1 1 1 1 1 1 1 1 1 1\n",
      " 1 1 1 1 1 1 1 1 1 1 1 1 1 1 1 1 1 1 1 1 1 1 1 1 1 1 1 1 1 1 1 1 1 1 1 1 1\n",
      " 1 1 1 1 1 1 1 1 1 1 1 1 1 1 1 1 1 1 1 2 2 2 2 2 2 2 2 2 2 2 2 2 2 2 2 2 2\n",
      " 2 2 2 2 2 2 2 2 2 2 2 2 2 2 2 2 2 2 2 2 2 2 2 2 2]\n"
     ]
    }
   ],
   "source": [
    "print(y[:173])"
   ]
  },
  {
   "cell_type": "code",
   "execution_count": 40,
   "id": "cb57ddaf",
   "metadata": {},
   "outputs": [],
   "source": [
    "X_train, X_test, y_train, y_test = train_test_split(X, y, random_state=100, test_size=0.4)"
   ]
  },
  {
   "cell_type": "code",
   "execution_count": 41,
   "id": "9e213fa5",
   "metadata": {},
   "outputs": [],
   "source": [
    "scaler = StandardScaler()\n",
    "scaler.fit(X_train)\n",
    "\n",
    "X_train = scaler.transform(X_train)\n",
    "X_test = scaler.transform(X_test)"
   ]
  },
  {
   "cell_type": "markdown",
   "id": "4d33f10d",
   "metadata": {},
   "source": [
    "This scaler works by scaling or normalizing features in our dataset that have differ scales, this is because kNN is sensitive to the scale of the features and if not scaled they will have a disproportionate effect on the distance metric used."
   ]
  },
  {
   "cell_type": "markdown",
   "id": "6b189542",
   "metadata": {},
   "source": [
    "## k-Nearest Neighbors classification"
   ]
  },
  {
   "cell_type": "markdown",
   "id": "523afff8",
   "metadata": {},
   "source": [
    "The kNN algorithm is a classifier that aims to correctly class groups based on their similarity to the exist training data using a distance metric. The kNN algorithm aims to classify a new instance by computing its distances to all instances in the training data using a distance metric, and selecting the k instances with the smallest distances. The predicted class of the new instance is then determined by a majority vote among the k nearest neighbors. This process is repeated for each new instance to be classified. "
   ]
  },
  {
   "cell_type": "code",
   "execution_count": 42,
   "id": "edb6d08f",
   "metadata": {},
   "outputs": [
    {
     "data": {
      "text/plain": [
       "KNeighborsClassifier(n_neighbors=3)"
      ]
     },
     "execution_count": 42,
     "metadata": {},
     "output_type": "execute_result"
    }
   ],
   "source": [
    "knn = KNeighborsClassifier(n_neighbors=3)\n",
    "knn.fit(X_train, y_train)"
   ]
  },
  {
   "cell_type": "code",
   "execution_count": 43,
   "id": "01c29c71",
   "metadata": {},
   "outputs": [
    {
     "name": "stderr",
     "output_type": "stream",
     "text": [
      "C:\\Users\\pjhop\\anaconda3\\lib\\site-packages\\sklearn\\neighbors\\_classification.py:228: FutureWarning: Unlike other reduction functions (e.g. `skew`, `kurtosis`), the default behavior of `mode` typically preserves the axis it acts along. In SciPy 1.11.0, this behavior will change: the default value of `keepdims` will become False, the `axis` over which the statistic is taken will be eliminated, and the value None will no longer be accepted. Set `keepdims` to True or False to avoid this warning.\n",
      "  mode, _ = stats.mode(_y[neigh_ind, k], axis=1)\n"
     ]
    }
   ],
   "source": [
    "y_pred = knn.predict(X_test)"
   ]
  },
  {
   "cell_type": "code",
   "execution_count": 44,
   "id": "965f1a30",
   "metadata": {},
   "outputs": [
    {
     "name": "stdout",
     "output_type": "stream",
     "text": [
      "Accuracy:  95.833 %\n"
     ]
    }
   ],
   "source": [
    "accuracy = accuracy_score(y_test, y_pred)\n",
    "print('Accuracy: ', round(accuracy * 100, 3), '%')"
   ]
  },
  {
   "cell_type": "code",
   "execution_count": 45,
   "id": "3dd58c7c",
   "metadata": {},
   "outputs": [
    {
     "name": "stdout",
     "output_type": "stream",
     "text": [
      "F1 score:  95.783 %\n"
     ]
    }
   ],
   "source": [
    "f1 = f1_score(y_test, y_pred, average='weighted')\n",
    "print('F1 score: ', round(f1 * 100, 3), '%')"
   ]
  },
  {
   "cell_type": "code",
   "execution_count": 46,
   "id": "5641b363",
   "metadata": {},
   "outputs": [
    {
     "name": "stdout",
     "output_type": "stream",
     "text": [
      "              precision    recall  f1-score   support\n",
      "\n",
      "           0       0.91      1.00      0.95        21\n",
      "           1       1.00      0.88      0.94        26\n",
      "           2       0.96      1.00      0.98        25\n",
      "\n",
      "    accuracy                           0.96        72\n",
      "   macro avg       0.96      0.96      0.96        72\n",
      "weighted avg       0.96      0.96      0.96        72\n",
      "\n"
     ]
    }
   ],
   "source": [
    "cr = classification_report(y_test, y_pred)\n",
    "print(cr)"
   ]
  }
 ],
 "metadata": {
  "kernelspec": {
   "display_name": "Python 3 (ipykernel)",
   "language": "python",
   "name": "python3"
  },
  "language_info": {
   "codemirror_mode": {
    "name": "ipython",
    "version": 3
   },
   "file_extension": ".py",
   "mimetype": "text/x-python",
   "name": "python",
   "nbconvert_exporter": "python",
   "pygments_lexer": "ipython3",
   "version": "3.9.13"
  }
 },
 "nbformat": 4,
 "nbformat_minor": 5
}
